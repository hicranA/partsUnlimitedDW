{
 "cells": [
  {
   "attachments": {},
   "cell_type": "markdown",
   "metadata": {},
   "source": [
    "\n",
    "***MET CS 689***\n",
    "\n",
    "***Hicran Arnold***\n",
    "\n",
    "***Term Project: Parts Unlimited - EV Data Warehouse***\n"
   ]
  },
  {
   "attachments": {},
   "cell_type": "markdown",
   "metadata": {},
   "source": [
    "# Part 1: Are you working on your own or with a partner?  If with a partner provide their name.  If on your own, just state that this is the case."
   ]
  },
  {
   "attachments": {},
   "cell_type": "markdown",
   "metadata": {},
   "source": [
    "I am working alone in this project "
   ]
  },
  {
   "attachments": {},
   "cell_type": "markdown",
   "metadata": {},
   "source": [
    "# Part 2: Determine the project scope \n",
    "\n",
    "*  **In a short paragraph, describe the topic you wish to explore --an update if any**\n",
    "*  **Update the five business questions that your data warehouse will answer.**"
   ]
  },
  {
   "attachments": {},
   "cell_type": "markdown",
   "metadata": {},
   "source": [
    "**Project Description**\n",
    "The topic I wish to explore for my data warehouse project is the management of Parts Unlimited's EV parts business. This topic was inspired by \"The Unicorn Project,\" which describes the challenges and opportunities of digital transformation in a large organization. Specifically, I plan to focus on storing and analyzing data related to charging stations, EV products, customer purchases, and geographic location. Parts Unlimited already sells EV parts, and my goal is to improve the organization's data management, reporting, and analysis capabilities related to this business."
   ]
  },
  {
   "attachments": {},
   "cell_type": "markdown",
   "metadata": {},
   "source": [
    "**Business Questions:**"
   ]
  },
  {
   "attachments": {},
   "cell_type": "markdown",
   "metadata": {},
   "source": [
    "| **Business Question 1**|\n",
    "| --- |\n",
    "| What is the distribution of EV charging stations and EV cars across different geographic regions, and how does this relate to the popularity of EVs in those regions? |\n"
   ]
  },
  {
   "attachments": {},
   "cell_type": "markdown",
   "metadata": {},
   "source": [
    "The Marketing and Sales department of your business can benefit from this query. By understanding the distribution of EV charging stations and EV cars across different geographic regions and how it relates to the popularity of EVs in those region. Additionally, the Sales department can use this information to identify regions with higher demand for EVs and focus their sales efforts in those areas to increase sales and revenue."
   ]
  },
  {
   "attachments": {},
   "cell_type": "markdown",
   "metadata": {},
   "source": [
    "| **Business Question 2** |\n",
    "| --- |\n",
    "| How has the popularity of different EV models and electric vehicle types varied by geographic region over time, and how can Parts Unlimited use this information to target their marketing and sales efforts more effectively|"
   ]
  },
  {
   "attachments": {},
   "cell_type": "markdown",
   "metadata": {},
   "source": [
    "The first question focused on the distribution of EV charging stations and EV cars across different geographic regions and its relation to the popularity of EVs. It was more general and aimed at understanding the overall trends and patterns in the adoption of EVs.\n",
    "\n",
    "In contrast, the second question focuses specifically on the popularity of different EV models and electric vehicle types in different regions over time. It is more detailed and aimed at understanding how consumer preferences for specific EV models and types have evolved in different regions.\n",
    "\n",
    "While both queries can help inform marketing and sales efforts, the second query can provide more granular insights into the specific EV models and types that are most popular in different regions, which can help Parts Unlimited make more targeted marketing and sales decisions."
   ]
  },
  {
   "attachments": {},
   "cell_type": "markdown",
   "metadata": {},
   "source": [
    "| **Business Question Q3** |\n",
    "| --- |\n",
    "| How does the weight of EV parts relate to their price, and how does this relationship differ across different manufacturers ?|"
   ]
  },
  {
   "attachments": {},
   "cell_type": "markdown",
   "metadata": {},
   "source": [
    "The Operations and Sales departments of Parts Unlimited can benefit from this query. By understanding how the weight of EV parts relates to their price, and how this relationship differs across different manufacturers, Parts Unlimited can make more informed decisions regarding inventory management, pricing, and supplier selection."
   ]
  },
  {
   "attachments": {},
   "cell_type": "markdown",
   "metadata": {},
   "source": [
    "|**Business Question Q4** |\n",
    "| --- |\n",
    "|  What is the average price, weight, and quantity of products sold by Parts Unlimited over time, and how does this vary across different geographic regions in which the products have been manufactured?|"
   ]
  },
  {
   "attachments": {},
   "cell_type": "markdown",
   "metadata": {},
   "source": [
    "The Operations and Sales departments of Parts Unlimited can benefit from this query. By understanding the average price, weight, and quantity of products sold by Parts Unlimited over time and how this varies across different geographic regions in which the products have been manufactured, Parts Unlimited can make more informed decisions regarding inventory management, pricing, and supplier selection."
   ]
  },
  {
   "attachments": {},
   "cell_type": "markdown",
   "metadata": {},
   "source": [
    "|**Business Question Q5** |\n",
    "| --- |\n",
    "| How does the demand for charging stations and the number of vendors operating in different regions relate to the size of the EV market, and what trends can be identified over time?|"
   ]
  },
  {
   "attachments": {},
   "cell_type": "markdown",
   "metadata": {},
   "source": [
    "The Marketing and Sales departments of Parts Unlimited can benefit from this query. By understanding how the demand for charging stations and the number of vendors operating in different regions relates to the size of the EV market and what trends can be identified over time, Parts Unlimited can make more informed decisions regarding their marketing and sales efforts.Overall, understanding the relationship between the demand for charging stations, the number of vendors, and the size of the EV market can help Parts Unlimited make more strategic decisions regarding their marketing, sales, and product development effort"
   ]
  },
  {
   "attachments": {},
   "cell_type": "markdown",
   "metadata": {},
   "source": [
    "# Part 3: Data Sources\n",
    "***Provide two data sources you will be using, for each data source list the number or columns and rows that are in each data source.  Provide a header and first 5 rows from each source.***\n",
    "- What is the URL or location of the data?\n",
    "- What information does this data provide that will help answer one or more of the above questions?\n",
    "- Do you see any issues in the data that will require transformation."
   ]
  },
  {
   "attachments": {},
   "cell_type": "markdown",
   "metadata": {},
   "source": [
    "| **Dataset Name** | Columns | Rows | URL |\n",
    "| --- | --- | --- | --- |\n",
    "| 1-Product Info - EV West | 7 | 187 | [EV West](https://www.evwest.com/catalog/index.php?cPath=4&osCsid=55f0661764899b07540a29eff0700422)|\n",
    "\n",
    "The data set provides information about EV parts, manufacturer, weight and price information. The data is not available in the PDF version and requires a Python script to extract and format the information.\n"
   ]
  },
  {
   "attachments": {},
   "cell_type": "markdown",
   "metadata": {},
   "source": [
    "![EvWest](figures/evWest.png)"
   ]
  },
  {
   "attachments": {},
   "cell_type": "markdown",
   "metadata": {},
   "source": [
    "| **Dataset Name** | Columns | Rows | URL |\n",
    "| --- | --- | --- | --- |\n",
    "| 2-Alternative Fueling Station Locations | 65 | 56,800 | [Data.gov](https://catalog.data.gov/dataset/alternative-fueling-station-locations-422f2/resource/341957d8-daf6-4a38-ab1d-8ec1bc21cfb9) |\n",
    "\n",
    "\n",
    "Provides information about the current list of charging stations and their locations. There are a lot of missing values that need to be cleaned and lat and long location info needs to be identical with the EV Car Population dataset. Price information is available in a text format and needs to be formatted so it is a number.\n"
   ]
  },
  {
   "attachments": {},
   "cell_type": "markdown",
   "metadata": {},
   "source": [
    "| Index | EV station Dataset Column Names | Index | EV Car Dataset Column Names | Index | EV station Dataset Column Names | Index | EV station Dataset Column Names | \n",
    "| :---: | --------------------------- | :---: | --------------------------- | :---: | --------------------------- |:---: | --------------------------- |\n",
    "| 1   | Fuel Type Code                 |\t21  | EV Other Info                  |\t 41  | Access Days Time (French)      |\t \t 61 |CNG PSI     |\t\n",
    "| 2   | Station Name                   |\t22  | EV Network                     |\t 42  | BD Blends (French)             |\t 62 |CNG Vehicle Class|\t\n",
    "| 3   | Street Address                 |\t23  | EV Network Web                 |\t 43  | Groups With Access Code (French) |63 |LNG Vehicle Class|\t\t\t\n",
    "| 4   | Intersection Directions        |\t24  | Geocode Status                 |\t44  | Hydrogen Is Retail             | 64|\tEV On-Site Renewable Source\t|\n",
    "| 5   | City                           |\t25  | Latitude                       |45  |  Access Code |\t\t65|\tRestricted Access|\n",
    "| 6   | State                          |   26   | Longitude                        |\t46  |     Access Detail Code  |\t\t\t\n",
    "| 7   | ZIP                            |\t 27  | Date Last Confirmed            |\t47  |    Federal Agency Code         |\t\t\t\n",
    "| 8   | Plus4                          |\t28  | ID                             |\t48  |   Facility Type   |\t\t\t\n",
    "| 9   | Station Phone                  |\t 29  | Updated At                     |\t49  |   CNG Dispenser Num |\t\t\t\n",
    "| 10  | Status Code                    |\t 30  | Owner Type Code                |\t 50  |     CNG On-Site Renewable Source          |\t\t\t\n",
    "| 11  | Expected Date                  |\t 31  | Federal Agency ID              |\t51  | CNG Total Compression Capacity |\t\t\t\n",
    "| 12  | Groups With Access Code        |\t 32  | Federal Agency Name            |\t52  |  CNG Storage Capacity  |\t\t\t\n",
    "| 13  | Access Days Time               |\t33  | Open Date                      |\t 53  |    LNG On-Site Renewable Source     |\t\t\t\n",
    "| 14  | Cards Accepted                 |\t 34  | Hydrogen Status Link           |\t54  | E85 Other Ethanol Blends|\t\t\t\n",
    "| 15  | BD Blends                      |\t 35  | NG Vehicle Class               |\t55  | EV Pricing |\t\t\t\n",
    "| 16  | NG Fill Type Code              |\t 36  | LPG Primary                    |\t 56  |  EV Pricing (French)   |\t\t\t\n",
    "| 17  | NG PSI                         |\t 37  | E85 Blender Pump               |\t 57  |  LPG Nozzle Types       |\t\t\t\n",
    "| 18  | EV Level1 EVSE Num             |\t38  | EV Connector Types             |\t 58  |  Hydrogen Pressures   |\t\t\t\n",
    "| 19  | EV Level2 EVSE Num             |\t 39  | Country                        |\t 59  | Hydrogen Standards |\t\t\t\n",
    "| 20  | EV DC Fast Count               |\t 40  | Intersection Directions (French) \t| 60  |   CNG Fill Type Code           |\t\t\t\n",
    "\n",
    "\n"
   ]
  },
  {
   "cell_type": "code",
   "execution_count": 1,
   "metadata": {},
   "outputs": [],
   "source": [
    "import warnings\n",
    "warnings.simplefilter(action='ignore', category=Warning)"
   ]
  },
  {
   "cell_type": "code",
   "execution_count": 2,
   "metadata": {},
   "outputs": [],
   "source": [
    "import  pandas as pd \n",
    "pd.set_option(\"display.max_columns\",10 )"
   ]
  },
  {
   "cell_type": "code",
   "execution_count": 8,
   "metadata": {},
   "outputs": [
    {
     "data": {
      "text/html": [
       "<div>\n",
       "<style scoped>\n",
       "    .dataframe tbody tr th:only-of-type {\n",
       "        vertical-align: middle;\n",
       "    }\n",
       "\n",
       "    .dataframe tbody tr th {\n",
       "        vertical-align: top;\n",
       "    }\n",
       "\n",
       "    .dataframe thead th {\n",
       "        text-align: right;\n",
       "    }\n",
       "</style>\n",
       "<table border=\"1\" class=\"dataframe\">\n",
       "  <thead>\n",
       "    <tr style=\"text-align: right;\">\n",
       "      <th></th>\n",
       "      <th>Fuel Type Code</th>\n",
       "      <th>Station Name</th>\n",
       "      <th>Street Address</th>\n",
       "      <th>Intersection Directions</th>\n",
       "      <th>City</th>\n",
       "      <th>...</th>\n",
       "      <th>CNG PSI</th>\n",
       "      <th>CNG Vehicle Class</th>\n",
       "      <th>LNG Vehicle Class</th>\n",
       "      <th>EV On-Site Renewable Source</th>\n",
       "      <th>Restricted Access</th>\n",
       "    </tr>\n",
       "  </thead>\n",
       "  <tbody>\n",
       "    <tr>\n",
       "      <th>0</th>\n",
       "      <td>CNG</td>\n",
       "      <td>Spire - Montgomery Operations Center</td>\n",
       "      <td>2951 Chestnut St</td>\n",
       "      <td>NaN</td>\n",
       "      <td>Montgomery</td>\n",
       "      <td>...</td>\n",
       "      <td>3600</td>\n",
       "      <td>MD</td>\n",
       "      <td>NaN</td>\n",
       "      <td>NaN</td>\n",
       "      <td>NaN</td>\n",
       "    </tr>\n",
       "    <tr>\n",
       "      <th>1</th>\n",
       "      <td>CNG</td>\n",
       "      <td>PS Energy - Atlanta</td>\n",
       "      <td>340 Whitehall St</td>\n",
       "      <td>From I-7585 N, exit 91 to Central Ave, left on...</td>\n",
       "      <td>Atlanta</td>\n",
       "      <td>...</td>\n",
       "      <td>3600</td>\n",
       "      <td>MD</td>\n",
       "      <td>NaN</td>\n",
       "      <td>NaN</td>\n",
       "      <td>NaN</td>\n",
       "    </tr>\n",
       "    <tr>\n",
       "      <th>2</th>\n",
       "      <td>CNG</td>\n",
       "      <td>Metropolitan Atlanta Rapid Transit Authority</td>\n",
       "      <td>2424 Piedmont Rd NE</td>\n",
       "      <td>NaN</td>\n",
       "      <td>Atlanta</td>\n",
       "      <td>...</td>\n",
       "      <td>3000</td>\n",
       "      <td>LD</td>\n",
       "      <td>NaN</td>\n",
       "      <td>NaN</td>\n",
       "      <td>NaN</td>\n",
       "    </tr>\n",
       "    <tr>\n",
       "      <th>3</th>\n",
       "      <td>CNG</td>\n",
       "      <td>United Parcel Service</td>\n",
       "      <td>270 Marvin Miller Dr</td>\n",
       "      <td>NaN</td>\n",
       "      <td>Atlanta</td>\n",
       "      <td>...</td>\n",
       "      <td>3600</td>\n",
       "      <td>HD</td>\n",
       "      <td>NaN</td>\n",
       "      <td>NaN</td>\n",
       "      <td>NaN</td>\n",
       "    </tr>\n",
       "    <tr>\n",
       "      <th>4</th>\n",
       "      <td>CNG</td>\n",
       "      <td>Clean Energy - Texas Department of Transportation</td>\n",
       "      <td>7721A Washington St</td>\n",
       "      <td>I-10, Washington Ave exit, 1.5 blocks to the s...</td>\n",
       "      <td>Houston</td>\n",
       "      <td>...</td>\n",
       "      <td>3000 3600</td>\n",
       "      <td>MD</td>\n",
       "      <td>NaN</td>\n",
       "      <td>NaN</td>\n",
       "      <td>NaN</td>\n",
       "    </tr>\n",
       "  </tbody>\n",
       "</table>\n",
       "<p>5 rows × 65 columns</p>\n",
       "</div>"
      ],
      "text/plain": [
       "  Fuel Type Code                                       Station Name  \\\n",
       "0            CNG               Spire - Montgomery Operations Center   \n",
       "1            CNG                                PS Energy - Atlanta   \n",
       "2            CNG       Metropolitan Atlanta Rapid Transit Authority   \n",
       "3            CNG                              United Parcel Service   \n",
       "4            CNG  Clean Energy - Texas Department of Transportation   \n",
       "\n",
       "         Street Address                            Intersection Directions  \\\n",
       "0      2951 Chestnut St                                                NaN   \n",
       "1      340 Whitehall St  From I-7585 N, exit 91 to Central Ave, left on...   \n",
       "2   2424 Piedmont Rd NE                                                NaN   \n",
       "3  270 Marvin Miller Dr                                                NaN   \n",
       "4   7721A Washington St  I-10, Washington Ave exit, 1.5 blocks to the s...   \n",
       "\n",
       "         City  ...    CNG PSI CNG Vehicle Class  LNG Vehicle Class  \\\n",
       "0  Montgomery  ...       3600                MD                NaN   \n",
       "1     Atlanta  ...       3600                MD                NaN   \n",
       "2     Atlanta  ...       3000                LD                NaN   \n",
       "3     Atlanta  ...       3600                HD                NaN   \n",
       "4     Houston  ...  3000 3600                MD                NaN   \n",
       "\n",
       "  EV On-Site Renewable Source Restricted Access  \n",
       "0                         NaN               NaN  \n",
       "1                         NaN               NaN  \n",
       "2                         NaN               NaN  \n",
       "3                         NaN               NaN  \n",
       "4                         NaN               NaN  \n",
       "\n",
       "[5 rows x 65 columns]"
      ]
     },
     "execution_count": 8,
     "metadata": {},
     "output_type": "execute_result"
    }
   ],
   "source": [
    "import  pandas as pd \n",
    "ev_station = pd.read_csv('data/alt_fuel_stations.csv')\n",
    "ev_station.head(5)"
   ]
  },
  {
   "attachments": {},
   "cell_type": "markdown",
   "metadata": {},
   "source": [
    "| **Dataset Name** | Columns | Rows | URL |\n",
    "| --- | --- | --- | --- |\n",
    "|3- EV Population Data | 17 | 121,978 | [Data.gov](https://catalog.data.gov/dataset/electric-vehicle-population-data) |\n",
    "\n",
    " This dataset shows EV cars that are currently registered through Washington State Department of Licensing (DOL). Provides information about EV cars, car types, and registered locations. Location fields have to match with the format of the EV Charging dataset. There are some missing fields. Currently, I do not see any other issues related to this dataset.\n"
   ]
  },
  {
   "attachments": {},
   "cell_type": "markdown",
   "metadata": {},
   "source": [
    "| Index \t| Electric_Vehicle_Population                       \t|\n",
    "|-------\t|---------------------------------------------------\t|\n",
    "| 1     \t| VIN (1-10)                                         \t|\n",
    "| 2     \t| County                                            \t|\n",
    "| 3   \t| City                                              \t|\n",
    "| 4     \t| State                                             \t|\n",
    "| 5     \t| Postal Code                                       \t|\n",
    "| 6     \t| Model Year                                        \t|\n",
    "| 7     \t| Make                                              \t|\n",
    "| 8     \t| Model                                             \t|\n",
    "| 9   \t| Electric Vehicle Type                                \t|\n",
    "| 10   \t| Clean Alternative Fuel Vehicle (CAFV) Eligibility \t|\n",
    "| 11    \t| Electric Range                                    \t|\n",
    "| 12    \t| Base MSRP                                         \t|\n",
    "| 13   \t| Legislative District                              \t|\n",
    "| 14    \t| DOL Vehicle ID                                    \t|\n",
    "| 15    \t| Vehicle Location                                  \t|\n",
    "| 16   \t| Electric Utility                                  \t|\n",
    "| 17   \t| 2020 Census Tract                                 \t|"
   ]
  },
  {
   "cell_type": "code",
   "execution_count": 62,
   "metadata": {},
   "outputs": [
    {
     "data": {
      "text/html": [
       "<div>\n",
       "<style scoped>\n",
       "    .dataframe tbody tr th:only-of-type {\n",
       "        vertical-align: middle;\n",
       "    }\n",
       "\n",
       "    .dataframe tbody tr th {\n",
       "        vertical-align: top;\n",
       "    }\n",
       "\n",
       "    .dataframe thead th {\n",
       "        text-align: right;\n",
       "    }\n",
       "</style>\n",
       "<table border=\"1\" class=\"dataframe\">\n",
       "  <thead>\n",
       "    <tr style=\"text-align: right;\">\n",
       "      <th></th>\n",
       "      <th>VIN (1-10)</th>\n",
       "      <th>County</th>\n",
       "      <th>City</th>\n",
       "      <th>State</th>\n",
       "      <th>Postal Code</th>\n",
       "      <th>...</th>\n",
       "      <th>Legislative District</th>\n",
       "      <th>DOL Vehicle ID</th>\n",
       "      <th>Vehicle Location</th>\n",
       "      <th>Electric Utility</th>\n",
       "      <th>2020 Census Tract</th>\n",
       "    </tr>\n",
       "  </thead>\n",
       "  <tbody>\n",
       "    <tr>\n",
       "      <th>0</th>\n",
       "      <td>5YJ3E1EB2J</td>\n",
       "      <td>Suffolk</td>\n",
       "      <td>Suffolk</td>\n",
       "      <td>VA</td>\n",
       "      <td>23435.0</td>\n",
       "      <td>...</td>\n",
       "      <td>NaN</td>\n",
       "      <td>476647986</td>\n",
       "      <td>POINT (-76.42443 36.8752)</td>\n",
       "      <td>NaN</td>\n",
       "      <td>5.180008e+10</td>\n",
       "    </tr>\n",
       "    <tr>\n",
       "      <th>1</th>\n",
       "      <td>5YJ3E1ECXL</td>\n",
       "      <td>Yakima</td>\n",
       "      <td>Yakima</td>\n",
       "      <td>WA</td>\n",
       "      <td>98908.0</td>\n",
       "      <td>...</td>\n",
       "      <td>14.0</td>\n",
       "      <td>103490145</td>\n",
       "      <td>POINT (-120.56916 46.58514)</td>\n",
       "      <td>PACIFICORP</td>\n",
       "      <td>5.307700e+10</td>\n",
       "    </tr>\n",
       "    <tr>\n",
       "      <th>2</th>\n",
       "      <td>WA1LAAGE7M</td>\n",
       "      <td>Yakima</td>\n",
       "      <td>Yakima</td>\n",
       "      <td>WA</td>\n",
       "      <td>98908.0</td>\n",
       "      <td>...</td>\n",
       "      <td>14.0</td>\n",
       "      <td>144941534</td>\n",
       "      <td>POINT (-120.56916 46.58514)</td>\n",
       "      <td>PACIFICORP</td>\n",
       "      <td>5.307700e+10</td>\n",
       "    </tr>\n",
       "    <tr>\n",
       "      <th>3</th>\n",
       "      <td>5YJ3E1EA1K</td>\n",
       "      <td>Danville</td>\n",
       "      <td>Danville</td>\n",
       "      <td>VA</td>\n",
       "      <td>24541.0</td>\n",
       "      <td>...</td>\n",
       "      <td>NaN</td>\n",
       "      <td>168513922</td>\n",
       "      <td>POINT (-79.4172 36.58598)</td>\n",
       "      <td>NaN</td>\n",
       "      <td>5.159000e+10</td>\n",
       "    </tr>\n",
       "    <tr>\n",
       "      <th>4</th>\n",
       "      <td>1FADP5CU9E</td>\n",
       "      <td>Norfolk</td>\n",
       "      <td>Norfolk</td>\n",
       "      <td>VA</td>\n",
       "      <td>23518.0</td>\n",
       "      <td>...</td>\n",
       "      <td>NaN</td>\n",
       "      <td>150749378</td>\n",
       "      <td>POINT (-76.21549 36.92478)</td>\n",
       "      <td>NaN</td>\n",
       "      <td>5.171001e+10</td>\n",
       "    </tr>\n",
       "  </tbody>\n",
       "</table>\n",
       "<p>5 rows × 17 columns</p>\n",
       "</div>"
      ],
      "text/plain": [
       "   VIN (1-10)    County      City State  Postal Code  ...  \\\n",
       "0  5YJ3E1EB2J   Suffolk   Suffolk    VA      23435.0  ...   \n",
       "1  5YJ3E1ECXL    Yakima    Yakima    WA      98908.0  ...   \n",
       "2  WA1LAAGE7M    Yakima    Yakima    WA      98908.0  ...   \n",
       "3  5YJ3E1EA1K  Danville  Danville    VA      24541.0  ...   \n",
       "4  1FADP5CU9E   Norfolk   Norfolk    VA      23518.0  ...   \n",
       "\n",
       "   Legislative District DOL Vehicle ID             Vehicle Location  \\\n",
       "0                   NaN      476647986    POINT (-76.42443 36.8752)   \n",
       "1                  14.0      103490145  POINT (-120.56916 46.58514)   \n",
       "2                  14.0      144941534  POINT (-120.56916 46.58514)   \n",
       "3                   NaN      168513922    POINT (-79.4172 36.58598)   \n",
       "4                   NaN      150749378   POINT (-76.21549 36.92478)   \n",
       "\n",
       "  Electric Utility 2020 Census Tract  \n",
       "0              NaN      5.180008e+10  \n",
       "1       PACIFICORP      5.307700e+10  \n",
       "2       PACIFICORP      5.307700e+10  \n",
       "3              NaN      5.159000e+10  \n",
       "4              NaN      5.171001e+10  \n",
       "\n",
       "[5 rows x 17 columns]"
      ]
     },
     "execution_count": 62,
     "metadata": {},
     "output_type": "execute_result"
    }
   ],
   "source": [
    "ev_pop = pd.read_csv('data/Electric_Vehicle_Population_Data.csv')\n",
    "ev_pop.head(5)"
   ]
  },
  {
   "attachments": {},
   "cell_type": "markdown",
   "metadata": {},
   "source": [
    "| **Dataset Name** | Columns | Rows | URL |\n",
    "| --- | --- | --- | --- |\n",
    "| 4- Manufacture Location  | 6| 25 | extracted by online search |\n",
    "\n",
    "Provides information about EV cars. This dataset is clean, currently I do not see any issues.\n"
   ]
  },
  {
   "attachments": {},
   "cell_type": "markdown",
   "metadata": {},
   "source": [
    "| Index | Manufacture Location        | \n",
    "| :---: | --------------------------- | \n",
    "|   1   | company_name                |   \n",
    "|   2   | latitude                    |  \n",
    "|   3   | longitude                   | \n",
    "|   4   | city                        |  \n",
    "|   5   | state                       |  \n",
    "|   6   | country                     |  "
   ]
  },
  {
   "attachments": {},
   "cell_type": "markdown",
   "metadata": {},
   "source": [
    "# Part 4: Dimensions - Review the data and the business questions from part 2. "
   ]
  },
  {
   "attachments": {},
   "cell_type": "markdown",
   "metadata": {},
   "source": [
    "- **What fields (attributes) are in the data that will be used for the dimensions.**\n",
    "\n",
    "- **Determine the dimension tables.  There should be at least two non-date dimensions and one date dimension for each fact table.**\n",
    "\n",
    "- **At least one (non-date) dimension in your design should have a hierarchy.**\n",
    "\n",
    "- **What are the attributes that will be tracked via slowly changing dimensions?**\n",
    "\n",
    "- **What attributes within the dimensions will need transformation before they are loaded into the dimension, for example it could be to build consistency or any other issues?  This is where for example you might build case statements in your code to handle various scenarios.  Two to three examples showing some sample data and what you think the transformation will be during your ETL would be helpful here.**\n",
    "\n"
   ]
  },
  {
   "attachments": {},
   "cell_type": "markdown",
   "metadata": {},
   "source": [
    "In the below tables I am showing each data sets by their corresponding tables and their scd types and their data transformation information summary"
   ]
  },
  {
   "attachments": {},
   "cell_type": "markdown",
   "metadata": {},
   "source": [
    "|  \t| EV poulation Data set  \t|  \t|  \t|  \t|  \t|\n",
    "|---\t|---\t|---\t|---\t|---\t|---\t|\n",
    "|  \t| **Field Name** \t| **Description**  \t| **Transformation Info** \t| **Table Name**  \t| **SCD Type Info**  \t|\n",
    "|  \t| ev_car_pop_id \t| this is a pk field<br>assign to the unique each records \t| not in the original data/ has to be populated \t| ev_car_population \t| PK \t|\n",
    "|  \t| dol_vehicle_Id \t| unique id for each vehicle \t| no transformation needed \t| ev_car_population\t| scd type3 \t|\n",
    "|  \t| VIN \t| unique id for each make model \t| no transformation needed \t| ev_car_population\t| scd type3 \t|\n",
    "|  \t| make \t| ev brand \t| no transformation needed \t| ev_car_population\t| scd type3 \t|\n",
    "|  \t| vechicle_model \t| brand model \t| no transformation needed \t| ev_car_population| scd type3 \t|\n",
    "|  \t| current_reg_status| shows if the registration in current <br>(scd type 2) \t| not in the original data/ has to be populated \t| ev_car_population \t| scd type3(scd field) \t|\n",
    "|  \t| reg_status_prev \t| previous registiration status \t| not in the original data/ has to be populated \t| ev_car_population \t| scd type3(scd field) \t|\n",
    "|  \t| reg_sta_updated_at \t| when the registiration has been updated \t| not in the original data/ has to be populated \t| ev_car_population\t| scd type3(scd field) \t|\n",
    "|  \t| location_id \t| unique location id for each car \t| not in the original data/ has to be populated \t| location_dim  \t| scd type3 \t|\n",
    "|  \t| city \t| city name that car registered  \t| no transformation needed \t| location_dim  \t| scd type3 \t|\n",
    "|  \t| region \t| the region that city falls under to \t| not in the original data/ has to be populated \t| location_dim  \t| scd type3 \t|\n",
    "|  \t| country \t| the country that car registred  \t| not in the original data/ has to be populated \t| location_dim  \t| scd type3 \t|\n",
    "|  \t| latitude \t| car registered address lat info  \t| Point field , I have split into lat and long  \t| location_dim  \t| scd type3 \t|\n",
    "|  \t| longitude \t| car registered address lat info  \t| Point field , I have split into lat and long  \t| location_dim  \t| scd type3 \t|\n",
    "|  \t| city_lat \t| city lat info \t| this was not in the original I pulled via api <br>call but I realised that Tablaue already has <br>city lat and long info can be automatically<br>populated by city name  \t| location_dim  \t| scd type3 \t|\n",
    "|  \t| city_long \t| city long info \t| this was not in the original I pulled via api <br>call but I realised that Tablaue already has <br>city lat and long info can be automatically<br>populated by city name  \t| location_dim  \t| scd type3 \t|\n",
    "|  \t| latitude_prev \t| scd field keeping change in the lat field  \t| not in the original data/ has to be populated \t| location_dim  \t| scd type3(scd field) \t|\n",
    "|  \t| longitude_prev \t| scd field keeping change in the long field  \t| not in the original data/ has to be populated \t| location_dim  \t| scd type3(scd field) \t|\n",
    "|  \t| updated_at \t| scd field tracking adjustment date  \t| not in the original data/ has to be populated \t| location_dim  \t| scd type3(scd field) \t|\n",
    "|  \t| date_id \t| unique id for registration date  \t| not in the original data/ has to be populated<br>I have used make year to create this data \t| date_dim \t| scd type 1 \t|\n",
    "|  \t| day \t| registration date  \t| not in the original data/ has to be populated<br>I have used make year to create this data \t| date_dim \t| scd type 1 \t|\n",
    "|  \t| month \t| registration month  \t| not in the original data/ has to be populated<br>I have used make year to create this data \t| date_dim \t| scd type 1 \t|\n",
    "|  \t| year \t| registration year \t| not in the original data/ has to be populated<br>I have used make year to create this data \t| date_dim \t| scd type 1 \t|\n",
    "|  \t| date  \t| registration year \t| not in the original data/ has to be populated<br>I have used make year to create this data as<br>01/01/make year \t| date_dim \t| scd type 1 \t|"
   ]
  },
  {
   "attachments": {},
   "cell_type": "markdown",
   "metadata": {},
   "source": [
    "below is the charging station dataset with the final data fields information"
   ]
  },
  {
   "attachments": {},
   "cell_type": "markdown",
   "metadata": {},
   "source": [
    "|  \t| EV Charging Station Data set  \t|  \t|  \t|  \t|  \t|\n",
    "|---\t|---\t|---\t|---\t|---\t|---\t|\n",
    "|  \t| **Field Name** \t| **Description**  \t| **Transformation Info** \t| **Table Name**  \t| **SCD Type Info**  \t|\n",
    "|  \t| charging_station_dim_id \t| unique id for each charging stations \t| not in the original data/ has to be populated \t| ev_charging_stations \t| Pk\t|\n",
    "|  \t| charging_station_id \t| unique id for each charging stations- source \t| no transformation needed \t| ev_charging_stations \t| scd type 2 \t|\n",
    "|  \t| sk_ev_dim_id \t| surrogate key to keep track of scd 2 change  \t| not in the original data/ has to be populated \t|  \t| SK type2(scd field) \t|\n",
    "|  \t| station_name \t| charging station name  \t| no transformation needed \t| ev_charging_stations \t| scd type 2 \t|\n",
    "|  \t| status_code \t| temporarily closed, open  \t| transformed from the code (P,T) to <br>show more readable format \t| ev_charging_stations \t| scd type 2 \t|\n",
    "|  \t| access_code \t| Private or Public \t| no transformation needed \t| ev_charging_stations \t| scd type 2 \t|\n",
    "|  \t| currency \t| charging station price currency \t| not in the original data/ has to be populated \t| ev_charging_stations \t| scd type 2 \t|\n",
    "|  \t| row_effective_date \t| scd type 2 shows when the first record created \t| not in the original data/ has to be populated \t| ev_charging_stations \t| scd type2(scd field) \t|\n",
    "|  \t| row_expiration_date \t| scd type 2 shows if this record has been adjusted and<br>new recorded added  \t| not in the original data/ has to be populated \t| ev_charging_stations \t| scd type2(scd field) \t|\n",
    "|  \t| row_status \t| scd type 2 shows if this record still effective  \t| not in the original data/ has to be populated \t| ev_charging_stations \t| scd type2(scd field) \t|\n",
    "|  \t| location_id \t| unique location id for each charging station recorded \t| not in the original data/ has to be populated \t| location_dim  \t| PK\t|\n",
    "|  \t| city \t| city name of the charging station \t| no transformation needed \t| location_dim  \t| scd type3 \t|\n",
    "|  \t| region \t| the region that city falls under to \t| not in the original data/ has to be populated \t| location_dim  \t| scd type3 \t|\n",
    "|  \t| country \t| country name \t| no transformation needed \t| location_dim  \t| scd type3 \t|\n",
    "|  \t| latitude \t| charging station  address lat info  \t| no transformation needed \t| location_dim  \t| scd type3 \t|\n",
    "|  \t| longitude \t| charging station  address long info  \t| no transformation needed \t| location_dim  \t| scd type3 \t|\n",
    "|  \t| city_lat \t| city lat info \t| this was not in the original I pulled via api <br>call but I realised that Tablaue already has <br>city lat and long info can be automatically<br>populated by city name  \t| location_dim  \t| scd type3 \t|\n",
    "|  \t| city_long \t| city long info \t| this was not in the original I pulled via api <br>call but I realised that Tablaue already has <br>city lat and long info can be automatically<br>populated by city name  \t| location_dim  \t| scd type3 \t|\n",
    "|  \t| latitude_prev \t| scd field keeping change in the lat field  \t| not in the original data/ has to be populated \t| location_dim  \t| scd type3(scd field) \t|\n",
    "|  \t| longitude_prev \t| scd field keeping change in the long field  \t| not in the original data/ has to be populated \t| location_dim  \t| scd type3(scd field) \t|\n",
    "|  \t| updated_at \t| scd field tracking adjustment date  \t| not in the original data/ has to be populated \t| location_dim  \t| scd type3(scd field) \t|\n",
    "|  \t| date_id \t| unique id for registration date  \t| not in the original data/ has to be populated\t| date_dim \t| PK\t|\n",
    "|  \t| day \t| charging station open date  \t| transformed from the open date field in <br>source data \t| date_dim \t| scd type 1 \t|\n",
    "|  \t| month \t| charging station open month \t| transformed from the open date field in <br>source data \t| date_dim \t| scd type 1 \t|\n",
    "|  \t| year \t| charging station open year \t| transformed from the open date field in <br>source data \t| date_dim \t| scd type 1 \t|\n",
    "|  \t| date  \t| charging station open year \t| charging station open date \t| date_dim \t| scd type 1 \t|"
   ]
  },
  {
   "attachments": {},
   "cell_type": "markdown",
   "metadata": {},
   "source": [
    "EvWest data set"
   ]
  },
  {
   "attachments": {},
   "cell_type": "markdown",
   "metadata": {},
   "source": [
    "|  \t| EvWest data-set  \t|  \t|  \t|  \t|  \t|\n",
    "|---\t|---\t|---\t|---\t|---\t|---\t|\n",
    "|  \t| **Field Name** \t| **Description**  \t| **Transformation Info** \t| **Table Name**  \t| **SCD Type Info**  \t|\n",
    "|  \t| manufacturer id \t| unique id for each manufacturer \t| not in the original data/ has to be populated \t| manufacturer \t| PK \t|\n",
    "|  \t| sk manufacturer \t| surrogate key to keep track of scd 2 change  \t| not in the original data/ has to be populated \t| manufacturer \t| SK SCD type2(scd field) \t|\n",
    "|  \t| manufacturer_name \t| manufacturer station name  \t| pdf extraction transformation  \t| manufacturer \t| scd type 2 \t|\n",
    "|  \t| manu_row_effective(scd) \t| scd type 2 tracking : record creatation date  \t| not in the original data/ has to be populated \t| manufacturer \t| scd type2(scd field) \t|\n",
    "|  \t| manu_row_expiration(scd) \t| scd type 2 tracking : record expiration date track \t| not in the original data/ has to be populated \t| manufacturer \t| scd type2(scd field) \t|\n",
    "|  \t| manu_row_ind(scd) \t| scd type 2 tracking : indicated if the record is in<br>use or there is an adjustment (expired/active) \t| not in the original data/ has to be populated \t| manufacturer \t| scd type2(scd field) \t|\n",
    "|  \t| product_id \t| unique id for each product  \t| not in the original data/ has to be populated \t| Products \t| PK  \t|\n",
    "|  \t| product_code \t| unique code for each product type \t| pdf extraction transformation  \t| Products \t| scd type 3 \t|\n",
    "|  \t| product_name \t| product type name \t| pdf extraction transformation  \t| Products \t| scd type 3 \t|\n",
    "|  \t| product_description \t| long description of the product \t| pdf extraction transformation  \t| Products \t| scd type 3 \t|\n",
    "|  \t| product_category \t| product category  \t| pdf extraction transformation  \t| Products \t| scd type 3 \t|\n",
    "|  \t| produc_name_prev  \t| scd type 3: tracks of the name change in the product<br>Previous name of the product \t| not in the original data/ has to be populated \t| Products \t| scd type3(scd field) \t|\n",
    "|  \t| product_updated_at \t| scd type 3: tracks of the name change in the product<br>tracks of the adjustment date  \t| not in the original data/ has to be populated \t| Products \t| scd type3(scd field) \t|\n",
    "|  \t| location_id \t| unique location id for each charging station recorded \t| not in the original data/ has to be populated \t| location_dim  \t| PK \t|\n",
    "|  \t| city \t| city name that car registered  \t| no transformation needed \t| location_dim  \t| scd type3 \t|\n",
    "|  \t| region \t| the region that city falls under to \t| not in the original data/ has to be populated \t| location_dim  \t| scd type3 \t|\n",
    "|  \t| country \t| the country that car registred  \t| no transformation needed \t| location_dim  \t| scd type3 \t|\n",
    "|  \t| latitude \t| charging station  address lat info  \t| no transformation needed \t| location_dim  \t| scd type3 \t|\n",
    "|  \t| longitude \t| charging station  address long info  \t| no transformation needed \t| location_dim  \t| scd type3 \t|\n",
    "|  \t| city_lat \t| city lat info \t| this was not in the original I pulled via api <br>call but I realised that Tablaue already has <br>city lat and long info can be automatically<br>populated by city name  \t| location_dim  \t| scd type3 \t|\n",
    "|  \t| city_long \t| city long info \t| this was not in the original I pulled via api <br>call but I realised that Tablaue already has <br>city lat and long info can be automatically<br>populated by city name  \t| location_dim  \t| scd type3 \t|\n",
    "|  \t| latitude_prev \t| scd field keeping change in the lat field  \t| not in the original data/ has to be populated \t| location_dim  \t| scd type3(scd field) \t|\n",
    "|  \t| longitude_prev \t| scd field keeping change in the long field  \t| not in the original data/ has to be populated \t| location_dim  \t| scd type3(scd field) \t|\n",
    "|  \t| updated_at \t| scd field tracking adjustment date  \t| not in the original data/ has to be populated \t| location_dim  \t| scd type3(scd field) \t|\n",
    "|  \t| date_id \t| unique id for manufacturer vendor since date  \t| Not in the original data/ has to be populated \t| date_dim \t| PK \t|\n",
    "|  \t| day \t| manufacturer vendor since date -day \t| not in the original data/ has to be populated \t| date_dim \t| scd type 1 \t|\n",
    "|  \t| month \t| manufacturer vendor since date -month \t| not in the original data/ has to be populated \t| date_dim \t| scd type 1 \t|\n",
    "|  \t| year \t| manufacturer vendor since date -year \t| not in the original data/ has to be populated \t| date_dim \t| scd type 1 \t|\n",
    "|  \t| date  \t| manufacturer vendor since date  \t| not in the original data/ has to be populated \t| date_dim \t| scd type 1 \t|"
   ]
  },
  {
   "attachments": {},
   "cell_type": "markdown",
   "metadata": {},
   "source": [
    "# Part  5: Facts – Review the data and the business questions from step 1.\n",
    "***What measurements are in the data that will be used for the fact tables?***<br>\n",
    "***What measures will you be calculating (i.e. using an aggregate function, or some other transformation – recall as an example some of the aggregation you did in assignment 1A)***\n"
   ]
  },
  {
   "attachments": {},
   "cell_type": "markdown",
   "metadata": {},
   "source": [
    "\n",
    "manufacture-facts:  This table is keeping track of manufacturers and manufacturer products that the company sells. The measurements are weight,price"
   ]
  },
  {
   "attachments": {},
   "cell_type": "markdown",
   "metadata": {},
   "source": [
    "|  \t| Manufacturer Facts  \t| snapshot \t|  \t|  \t|  \t|\n",
    "|---\t|---\t|---\t|---\t|---\t|---\t|\n",
    "|  \t| **Field Name** \t| **Description**  \t| **Transformation Info** \t| **Table Name**  \t| **SCD Type Info**  \t|\n",
    "|  \t| manu_fact_id \t| unique id for each manufacturer fact records \t| not in the original data/ has to be populated \t| Manufacturer Facts  \t| PK \t|\n",
    "|  \t| location_id \t| fk to location info \t| extracted by merge  \t| Manufacturer Facts  \t| FK \t|\n",
    "|  \t| date_dim \t| fk to date info \t| extracted by merge  \t| Manufacturer Facts  \t| FK \t|\n",
    "|  \t| manufacture_id \t| fk to location manufacturer table connection  \t| extracted by merge  \t| Manufacturer Facts  \t| FK \t|\n",
    "|  \t| product_id \t| fk to location product table connection  \t| extracted by merge  \t| Manufacturer Facts  \t| FK \t|\n",
    "|  \t| price \t| price of the product for each manufacturer \t| pdf extraction  \t| Manufacturer Facts  \t| measurement  \t|\n",
    "|  \t| wieght \t| weight of the product for each manufacturer \t| pdf extraction  \t| Manufacturer Facts  \t| measurement  \t|\n",
    "|  \t| quantity \t| qunatity of the product for each manufacturer \t| not in the original data/ has to be populated \t| Manufacturer Facts  \t| measurement  \t|"
   ]
  },
  {
   "attachments": {},
   "cell_type": "markdown",
   "metadata": {},
   "source": [
    "below is my second fact table tracks of snapshot of the charging stations quantity and the ev population"
   ]
  },
  {
   "attachments": {},
   "cell_type": "markdown",
   "metadata": {},
   "source": [
    "| ev_charginging_facts \t| snapshot \t|  \t|  \t|  \t|\n",
    "|---\t|---\t|---\t|---\t|---\t|\n",
    "| **Field Name** \t| **Description** \t| **Transformation <br>Info** \t| **Table Name** \t| **SCD Type <br>Info** \t|\n",
    "| ev_char_fact_id \t| unique id for each charging <br>fact records \t| not in the original data<br><br>has to be populated \t| ev_charginging_facts \t| PK \t|\n",
    "| location_id \t| fk to location info \t| extracted by merge \t| ev_charginging_facts \t| FK \t|\n",
    "| date_dim \t| fk to date info \t| extracted by merge \t| ev_charginging_facts \t| FK \t|\n",
    "| charging_station_id \t| fk to location manufacturer<br> table connection \t| extracted by merge \t| ev_charginging_facts \t| FK \t|\n",
    "| ev_car_pop_id \t| fk to location ev population <br>table connection \t| extracted by merge \t| ev_charginging_facts \t| FK \t|\n",
    "| vehichle_pop_quantity \t| quanity of cars \t| pdf extraction \t| ev_charginging_facts \t| measurement \t|\n",
    "| ev_cs_quantity \t| quantity of charging stations \t| pdf extraction \t| ev_charginging_facts \t| measurement \t|\n",
    "| ev_price \t| price of the charging stations \t| not in the original data/<br> <br>has to be populated \t| ev_charginging_facts \t| measurement \t|"
   ]
  },
  {
   "attachments": {},
   "cell_type": "markdown",
   "metadata": {},
   "source": [
    "cumulative fact table"
   ]
  },
  {
   "attachments": {},
   "cell_type": "markdown",
   "metadata": {},
   "source": [
    "| manufacturer_fact_cum \t| cumulative \t|  \t|  \t|  \t|\n",
    "|---\t|---\t|---\t|---\t|---\t|\n",
    "| **Field Name** \t| **Description** \t| **Transformation Info** \t| **Table Name** \t| **SCD Type Info** \t|\n",
    "| manu_fact_cumu_id \t| unique id for each <br>charging fact records \t| not in the original data/ <br>has to be populated \t| manufacturer_fact_cum \t| PK \t|\n",
    "| month_id \t| month (time dimension <br>in month grain) \t| extracted by merge \t| manufacturer_fact_cum \t| FK \t|\n",
    "| location_id \t| fk to location info \t| extracted by merge \t| manufacturer_fact_cum \t| FK \t|\n",
    "| manufacturer_id \t| fk to manufacturer info \t| extracted by merge \t| manufacturer_fact_cum \t| FK \t|\n",
    "| total_product_quntity \t| total product quantity for <br>that month \t| aggregated with etl \t| manufacturer_fact_cum \t| measurement \t|\n",
    "| total_ev_charging_stations \t| total charging stations \t| aggregated with etl \t| manufacturer_fact_cum \t| measurement \t|\n",
    "| total_ev_population \t| total ev car population \t| aggregated with etl \t| manufacturer_fact_cum \t| measurement \t|"
   ]
  },
  {
   "attachments": {},
   "cell_type": "markdown",
   "metadata": {},
   "source": [
    "# Part 7: Provide code and screenshots of loading your data into staging/data frame"
   ]
  },
  {
   "attachments": {},
   "cell_type": "markdown",
   "metadata": {},
   "source": [
    "For Question 7-9 :  I used pandas df to load data and before transformation and again I load the data with the help of the pandas sql load function.Please see my etl jupiternotebook for more details.I am including a three etl file one is for charging station facts and the other one for manufacturer facts. I grouped etl for\n",
    "each documents for each fact table"
   ]
  },
  {
   "attachments": {},
   "cell_type": "markdown",
   "metadata": {},
   "source": [
    "# Part 8: Provide code and screenshots of transforming the data.  Perhaps you are adjusting for consistency of data or calculating aggregates."
   ]
  },
  {
   "attachments": {},
   "cell_type": "markdown",
   "metadata": {},
   "source": [
    "For Question 7-9 :  I used pandas df to load data and before transformation and again I load the data with the help of the pandas sql load function.Please see my etl jupiternotebook for more details.I am including a three etl file one is for charging station facts and the other one for manufacturer facts. I grouped etl for\n",
    "each documents for each fact table"
   ]
  },
  {
   "attachments": {},
   "cell_type": "markdown",
   "metadata": {},
   "source": [
    "# Part 9: Provide code and screenshots of loading the data into the two dimensions and the fact.  At this time, you do not need to worry about maintenance of slowly changing dimensions, the focus is on the initial data load.  If you are loading into SCD2 or SCD3, make sure to show the SCD maintenance attributes populated."
   ]
  },
  {
   "attachments": {},
   "cell_type": "markdown",
   "metadata": {},
   "source": [
    "I have inculuded a spearate notebook for this transformation and breakdown the process for each scd type and showed examples "
   ]
  },
  {
   "attachments": {},
   "cell_type": "markdown",
   "metadata": {},
   "source": [
    "## Part 11: Outline one of the business questions you outlined in part 2 (can be same as part 10) and answer it with a Tableau or PowerBI visualization.  In a single sentence explain why you selected this particular visualization to answer this question."
   ]
  },
  {
   "attachments": {},
   "cell_type": "markdown",
   "metadata": {},
   "source": [
    "Please see my query notebook for my business questions. I answered each business questions with sql aggreagted queries. Please also see my presenation documents for visualizations for those questions"
   ]
  }
 ],
 "metadata": {
  "kernelspec": {
   "display_name": "Python 3",
   "language": "python",
   "name": "python3"
  },
  "language_info": {
   "codemirror_mode": {
    "name": "ipython",
    "version": 3
   },
   "file_extension": ".py",
   "mimetype": "text/x-python",
   "name": "python",
   "nbconvert_exporter": "python",
   "pygments_lexer": "ipython3",
   "version": "3.10.6"
  },
  "orig_nbformat": 4
 },
 "nbformat": 4,
 "nbformat_minor": 2
}
