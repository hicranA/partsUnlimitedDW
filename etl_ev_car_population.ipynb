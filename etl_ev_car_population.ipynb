{
 "cells": [
  {
   "attachments": {},
   "cell_type": "markdown",
   "metadata": {},
   "source": [
    "Information about the data set\n",
    "\n",
    "* last updated at March 18, 2023"
   ]
  },
  {
   "cell_type": "code",
   "execution_count": 58,
   "metadata": {},
   "outputs": [],
   "source": [
    "import warnings\n",
    "warnings.simplefilter(action='ignore', category=Warning)\n",
    "import  pandas as pd "
   ]
  },
  {
   "attachments": {},
   "cell_type": "markdown",
   "metadata": {},
   "source": [
    "1. Loading the data set in a data frame"
   ]
  },
  {
   "cell_type": "code",
   "execution_count": 59,
   "metadata": {},
   "outputs": [
    {
     "data": {
      "text/html": [
       "<div>\n",
       "<style scoped>\n",
       "    .dataframe tbody tr th:only-of-type {\n",
       "        vertical-align: middle;\n",
       "    }\n",
       "\n",
       "    .dataframe tbody tr th {\n",
       "        vertical-align: top;\n",
       "    }\n",
       "\n",
       "    .dataframe thead th {\n",
       "        text-align: right;\n",
       "    }\n",
       "</style>\n",
       "<table border=\"1\" class=\"dataframe\">\n",
       "  <thead>\n",
       "    <tr style=\"text-align: right;\">\n",
       "      <th></th>\n",
       "      <th>VIN (1-10)</th>\n",
       "      <th>County</th>\n",
       "      <th>City</th>\n",
       "      <th>State</th>\n",
       "      <th>Postal Code</th>\n",
       "      <th>Model Year</th>\n",
       "      <th>Make</th>\n",
       "      <th>Model</th>\n",
       "      <th>Electric Vehicle Type</th>\n",
       "      <th>Clean Alternative Fuel Vehicle (CAFV) Eligibility</th>\n",
       "      <th>Electric Range</th>\n",
       "      <th>Base MSRP</th>\n",
       "      <th>Legislative District</th>\n",
       "      <th>DOL Vehicle ID</th>\n",
       "      <th>Vehicle Location</th>\n",
       "      <th>Electric Utility</th>\n",
       "      <th>2020 Census Tract</th>\n",
       "    </tr>\n",
       "  </thead>\n",
       "  <tbody>\n",
       "    <tr>\n",
       "      <th>0</th>\n",
       "      <td>5YJ3E1EB2J</td>\n",
       "      <td>Suffolk</td>\n",
       "      <td>Suffolk</td>\n",
       "      <td>VA</td>\n",
       "      <td>23435.0</td>\n",
       "      <td>2018</td>\n",
       "      <td>TESLA</td>\n",
       "      <td>MODEL 3</td>\n",
       "      <td>Battery Electric Vehicle (BEV)</td>\n",
       "      <td>Clean Alternative Fuel Vehicle Eligible</td>\n",
       "      <td>215</td>\n",
       "      <td>0</td>\n",
       "      <td>NaN</td>\n",
       "      <td>476647986</td>\n",
       "      <td>POINT (-76.42443 36.8752)</td>\n",
       "      <td>NaN</td>\n",
       "      <td>5.180008e+10</td>\n",
       "    </tr>\n",
       "    <tr>\n",
       "      <th>1</th>\n",
       "      <td>5YJ3E1ECXL</td>\n",
       "      <td>Yakima</td>\n",
       "      <td>Yakima</td>\n",
       "      <td>WA</td>\n",
       "      <td>98908.0</td>\n",
       "      <td>2020</td>\n",
       "      <td>TESLA</td>\n",
       "      <td>MODEL 3</td>\n",
       "      <td>Battery Electric Vehicle (BEV)</td>\n",
       "      <td>Clean Alternative Fuel Vehicle Eligible</td>\n",
       "      <td>308</td>\n",
       "      <td>0</td>\n",
       "      <td>14.0</td>\n",
       "      <td>103490145</td>\n",
       "      <td>POINT (-120.56916 46.58514)</td>\n",
       "      <td>PACIFICORP</td>\n",
       "      <td>5.307700e+10</td>\n",
       "    </tr>\n",
       "    <tr>\n",
       "      <th>2</th>\n",
       "      <td>WA1LAAGE7M</td>\n",
       "      <td>Yakima</td>\n",
       "      <td>Yakima</td>\n",
       "      <td>WA</td>\n",
       "      <td>98908.0</td>\n",
       "      <td>2021</td>\n",
       "      <td>AUDI</td>\n",
       "      <td>E-TRON</td>\n",
       "      <td>Battery Electric Vehicle (BEV)</td>\n",
       "      <td>Clean Alternative Fuel Vehicle Eligible</td>\n",
       "      <td>222</td>\n",
       "      <td>0</td>\n",
       "      <td>14.0</td>\n",
       "      <td>144941534</td>\n",
       "      <td>POINT (-120.56916 46.58514)</td>\n",
       "      <td>PACIFICORP</td>\n",
       "      <td>5.307700e+10</td>\n",
       "    </tr>\n",
       "    <tr>\n",
       "      <th>3</th>\n",
       "      <td>5YJ3E1EA1K</td>\n",
       "      <td>Danville</td>\n",
       "      <td>Danville</td>\n",
       "      <td>VA</td>\n",
       "      <td>24541.0</td>\n",
       "      <td>2019</td>\n",
       "      <td>TESLA</td>\n",
       "      <td>MODEL 3</td>\n",
       "      <td>Battery Electric Vehicle (BEV)</td>\n",
       "      <td>Clean Alternative Fuel Vehicle Eligible</td>\n",
       "      <td>220</td>\n",
       "      <td>0</td>\n",
       "      <td>NaN</td>\n",
       "      <td>168513922</td>\n",
       "      <td>POINT (-79.4172 36.58598)</td>\n",
       "      <td>NaN</td>\n",
       "      <td>5.159000e+10</td>\n",
       "    </tr>\n",
       "    <tr>\n",
       "      <th>4</th>\n",
       "      <td>1FADP5CU9E</td>\n",
       "      <td>Norfolk</td>\n",
       "      <td>Norfolk</td>\n",
       "      <td>VA</td>\n",
       "      <td>23518.0</td>\n",
       "      <td>2014</td>\n",
       "      <td>FORD</td>\n",
       "      <td>C-MAX</td>\n",
       "      <td>Plug-in Hybrid Electric Vehicle (PHEV)</td>\n",
       "      <td>Not eligible due to low battery range</td>\n",
       "      <td>19</td>\n",
       "      <td>0</td>\n",
       "      <td>NaN</td>\n",
       "      <td>150749378</td>\n",
       "      <td>POINT (-76.21549 36.92478)</td>\n",
       "      <td>NaN</td>\n",
       "      <td>5.171001e+10</td>\n",
       "    </tr>\n",
       "  </tbody>\n",
       "</table>\n",
       "</div>"
      ],
      "text/plain": [
       "   VIN (1-10)    County      City State  Postal Code  Model Year   Make  \\\n",
       "0  5YJ3E1EB2J   Suffolk   Suffolk    VA      23435.0        2018  TESLA   \n",
       "1  5YJ3E1ECXL    Yakima    Yakima    WA      98908.0        2020  TESLA   \n",
       "2  WA1LAAGE7M    Yakima    Yakima    WA      98908.0        2021   AUDI   \n",
       "3  5YJ3E1EA1K  Danville  Danville    VA      24541.0        2019  TESLA   \n",
       "4  1FADP5CU9E   Norfolk   Norfolk    VA      23518.0        2014   FORD   \n",
       "\n",
       "     Model                   Electric Vehicle Type  \\\n",
       "0  MODEL 3          Battery Electric Vehicle (BEV)   \n",
       "1  MODEL 3          Battery Electric Vehicle (BEV)   \n",
       "2   E-TRON          Battery Electric Vehicle (BEV)   \n",
       "3  MODEL 3          Battery Electric Vehicle (BEV)   \n",
       "4    C-MAX  Plug-in Hybrid Electric Vehicle (PHEV)   \n",
       "\n",
       "  Clean Alternative Fuel Vehicle (CAFV) Eligibility  Electric Range  \\\n",
       "0           Clean Alternative Fuel Vehicle Eligible             215   \n",
       "1           Clean Alternative Fuel Vehicle Eligible             308   \n",
       "2           Clean Alternative Fuel Vehicle Eligible             222   \n",
       "3           Clean Alternative Fuel Vehicle Eligible             220   \n",
       "4             Not eligible due to low battery range              19   \n",
       "\n",
       "   Base MSRP  Legislative District  DOL Vehicle ID  \\\n",
       "0          0                   NaN       476647986   \n",
       "1          0                  14.0       103490145   \n",
       "2          0                  14.0       144941534   \n",
       "3          0                   NaN       168513922   \n",
       "4          0                   NaN       150749378   \n",
       "\n",
       "              Vehicle Location Electric Utility  2020 Census Tract  \n",
       "0    POINT (-76.42443 36.8752)              NaN       5.180008e+10  \n",
       "1  POINT (-120.56916 46.58514)       PACIFICORP       5.307700e+10  \n",
       "2  POINT (-120.56916 46.58514)       PACIFICORP       5.307700e+10  \n",
       "3    POINT (-79.4172 36.58598)              NaN       5.159000e+10  \n",
       "4   POINT (-76.21549 36.92478)              NaN       5.171001e+10  "
      ]
     },
     "execution_count": 59,
     "metadata": {},
     "output_type": "execute_result"
    }
   ],
   "source": [
    "ev_pop = pd.read_csv('data/Electric_Vehicle_Population_Data.csv')\n",
    "ev_pop.head(5)"
   ]
  },
  {
   "cell_type": "code",
   "execution_count": 60,
   "metadata": {},
   "outputs": [
    {
     "data": {
      "text/plain": [
       "Index(['VIN (1-10)', 'County', 'City', 'State', 'Postal Code', 'Model Year',\n",
       "       'Make', 'Model', 'Electric Vehicle Type',\n",
       "       'Clean Alternative Fuel Vehicle (CAFV) Eligibility', 'Electric Range',\n",
       "       'Base MSRP', 'Legislative District', 'DOL Vehicle ID',\n",
       "       'Vehicle Location', 'Electric Utility', '2020 Census Tract'],\n",
       "      dtype='object')"
      ]
     },
     "execution_count": 60,
     "metadata": {},
     "output_type": "execute_result"
    }
   ],
   "source": [
    "ev_pop.columns"
   ]
  },
  {
   "attachments": {},
   "cell_type": "markdown",
   "metadata": {},
   "source": [
    "2. extracting the information that we need "
   ]
  },
  {
   "cell_type": "code",
   "execution_count": 61,
   "metadata": {},
   "outputs": [],
   "source": [
    "df_ev_pop = ev_pop[['DOL Vehicle ID', 'Make','Model','Vehicle Location', 'County', 'City', 'State', 'County', 'Model Year']]"
   ]
  },
  {
   "attachments": {},
   "cell_type": "markdown",
   "metadata": {},
   "source": [
    "This dataset needs time at least we need to know when it is records etc "
   ]
  },
  {
   "cell_type": "code",
   "execution_count": 62,
   "metadata": {},
   "outputs": [
    {
     "data": {
      "text/html": [
       "<div>\n",
       "<style scoped>\n",
       "    .dataframe tbody tr th:only-of-type {\n",
       "        vertical-align: middle;\n",
       "    }\n",
       "\n",
       "    .dataframe tbody tr th {\n",
       "        vertical-align: top;\n",
       "    }\n",
       "\n",
       "    .dataframe thead th {\n",
       "        text-align: right;\n",
       "    }\n",
       "</style>\n",
       "<table border=\"1\" class=\"dataframe\">\n",
       "  <thead>\n",
       "    <tr style=\"text-align: right;\">\n",
       "      <th></th>\n",
       "      <th>DOL Vehicle ID</th>\n",
       "      <th>Make</th>\n",
       "      <th>Model</th>\n",
       "      <th>Vehicle Location</th>\n",
       "      <th>County</th>\n",
       "      <th>City</th>\n",
       "      <th>State</th>\n",
       "      <th>County</th>\n",
       "      <th>Model Year</th>\n",
       "      <th>last_updated_at</th>\n",
       "    </tr>\n",
       "  </thead>\n",
       "  <tbody>\n",
       "    <tr>\n",
       "      <th>0</th>\n",
       "      <td>476647986</td>\n",
       "      <td>TESLA</td>\n",
       "      <td>MODEL 3</td>\n",
       "      <td>POINT (-76.42443 36.8752)</td>\n",
       "      <td>Suffolk</td>\n",
       "      <td>Suffolk</td>\n",
       "      <td>VA</td>\n",
       "      <td>Suffolk</td>\n",
       "      <td>2018</td>\n",
       "      <td>2023-03-18</td>\n",
       "    </tr>\n",
       "    <tr>\n",
       "      <th>1</th>\n",
       "      <td>103490145</td>\n",
       "      <td>TESLA</td>\n",
       "      <td>MODEL 3</td>\n",
       "      <td>POINT (-120.56916 46.58514)</td>\n",
       "      <td>Yakima</td>\n",
       "      <td>Yakima</td>\n",
       "      <td>WA</td>\n",
       "      <td>Yakima</td>\n",
       "      <td>2020</td>\n",
       "      <td>2023-03-18</td>\n",
       "    </tr>\n",
       "    <tr>\n",
       "      <th>2</th>\n",
       "      <td>144941534</td>\n",
       "      <td>AUDI</td>\n",
       "      <td>E-TRON</td>\n",
       "      <td>POINT (-120.56916 46.58514)</td>\n",
       "      <td>Yakima</td>\n",
       "      <td>Yakima</td>\n",
       "      <td>WA</td>\n",
       "      <td>Yakima</td>\n",
       "      <td>2021</td>\n",
       "      <td>2023-03-18</td>\n",
       "    </tr>\n",
       "    <tr>\n",
       "      <th>3</th>\n",
       "      <td>168513922</td>\n",
       "      <td>TESLA</td>\n",
       "      <td>MODEL 3</td>\n",
       "      <td>POINT (-79.4172 36.58598)</td>\n",
       "      <td>Danville</td>\n",
       "      <td>Danville</td>\n",
       "      <td>VA</td>\n",
       "      <td>Danville</td>\n",
       "      <td>2019</td>\n",
       "      <td>2023-03-18</td>\n",
       "    </tr>\n",
       "    <tr>\n",
       "      <th>4</th>\n",
       "      <td>150749378</td>\n",
       "      <td>FORD</td>\n",
       "      <td>C-MAX</td>\n",
       "      <td>POINT (-76.21549 36.92478)</td>\n",
       "      <td>Norfolk</td>\n",
       "      <td>Norfolk</td>\n",
       "      <td>VA</td>\n",
       "      <td>Norfolk</td>\n",
       "      <td>2014</td>\n",
       "      <td>2023-03-18</td>\n",
       "    </tr>\n",
       "  </tbody>\n",
       "</table>\n",
       "</div>"
      ],
      "text/plain": [
       "   DOL Vehicle ID   Make    Model             Vehicle Location    County  \\\n",
       "0       476647986  TESLA  MODEL 3    POINT (-76.42443 36.8752)   Suffolk   \n",
       "1       103490145  TESLA  MODEL 3  POINT (-120.56916 46.58514)    Yakima   \n",
       "2       144941534   AUDI   E-TRON  POINT (-120.56916 46.58514)    Yakima   \n",
       "3       168513922  TESLA  MODEL 3    POINT (-79.4172 36.58598)  Danville   \n",
       "4       150749378   FORD    C-MAX   POINT (-76.21549 36.92478)   Norfolk   \n",
       "\n",
       "       City State    County  Model Year last_updated_at  \n",
       "0   Suffolk    VA   Suffolk        2018      2023-03-18  \n",
       "1    Yakima    WA    Yakima        2020      2023-03-18  \n",
       "2    Yakima    WA    Yakima        2021      2023-03-18  \n",
       "3  Danville    VA  Danville        2019      2023-03-18  \n",
       "4   Norfolk    VA   Norfolk        2014      2023-03-18  "
      ]
     },
     "execution_count": 62,
     "metadata": {},
     "output_type": "execute_result"
    }
   ],
   "source": [
    "df_ev_pop[\"last_updated_at\"]= pd.to_datetime(\"03/18/2023\")\n",
    "df_ev_pop.head()"
   ]
  },
  {
   "cell_type": "code",
   "execution_count": 63,
   "metadata": {},
   "outputs": [
    {
     "name": "stdout",
     "output_type": "stream",
     "text": [
      "<class 'pandas.core.frame.DataFrame'>\n",
      "RangeIndex: 121978 entries, 0 to 121977\n",
      "Data columns (total 10 columns):\n",
      " #   Column            Non-Null Count   Dtype         \n",
      "---  ------            --------------   -----         \n",
      " 0   DOL Vehicle ID    121978 non-null  int64         \n",
      " 1   Make              121978 non-null  object        \n",
      " 2   Model             121874 non-null  object        \n",
      " 3   Vehicle Location  121946 non-null  object        \n",
      " 4   County            121976 non-null  object        \n",
      " 5   City              121976 non-null  object        \n",
      " 6   State             121978 non-null  object        \n",
      " 7   County            121976 non-null  object        \n",
      " 8   Model Year        121978 non-null  int64         \n",
      " 9   last_updated_at   121978 non-null  datetime64[ns]\n",
      "dtypes: datetime64[ns](1), int64(2), object(7)\n",
      "memory usage: 9.3+ MB\n"
     ]
    }
   ],
   "source": [
    "df_ev_pop.info()"
   ]
  },
  {
   "attachments": {},
   "cell_type": "markdown",
   "metadata": {},
   "source": [
    "we need to split Vehicle Location column in to two lat and long "
   ]
  },
  {
   "cell_type": "code",
   "execution_count": 64,
   "metadata": {},
   "outputs": [
    {
     "data": {
      "text/html": [
       "<div>\n",
       "<style scoped>\n",
       "    .dataframe tbody tr th:only-of-type {\n",
       "        vertical-align: middle;\n",
       "    }\n",
       "\n",
       "    .dataframe tbody tr th {\n",
       "        vertical-align: top;\n",
       "    }\n",
       "\n",
       "    .dataframe thead th {\n",
       "        text-align: right;\n",
       "    }\n",
       "</style>\n",
       "<table border=\"1\" class=\"dataframe\">\n",
       "  <thead>\n",
       "    <tr style=\"text-align: right;\">\n",
       "      <th></th>\n",
       "      <th>DOL Vehicle ID</th>\n",
       "      <th>Make</th>\n",
       "      <th>Model</th>\n",
       "      <th>Vehicle Location</th>\n",
       "      <th>County</th>\n",
       "      <th>City</th>\n",
       "      <th>State</th>\n",
       "      <th>County</th>\n",
       "      <th>Model Year</th>\n",
       "      <th>last_updated_at</th>\n",
       "      <th>val</th>\n",
       "      <th>Latitude</th>\n",
       "      <th>Longitude</th>\n",
       "    </tr>\n",
       "  </thead>\n",
       "  <tbody>\n",
       "    <tr>\n",
       "      <th>0</th>\n",
       "      <td>476647986</td>\n",
       "      <td>TESLA</td>\n",
       "      <td>MODEL 3</td>\n",
       "      <td>POINT (-76.42443 36.8752)</td>\n",
       "      <td>Suffolk</td>\n",
       "      <td>Suffolk</td>\n",
       "      <td>VA</td>\n",
       "      <td>Suffolk</td>\n",
       "      <td>2018</td>\n",
       "      <td>2023-03-18</td>\n",
       "      <td>POINT</td>\n",
       "      <td>-76.42443</td>\n",
       "      <td>36.8752</td>\n",
       "    </tr>\n",
       "    <tr>\n",
       "      <th>1</th>\n",
       "      <td>103490145</td>\n",
       "      <td>TESLA</td>\n",
       "      <td>MODEL 3</td>\n",
       "      <td>POINT (-120.56916 46.58514)</td>\n",
       "      <td>Yakima</td>\n",
       "      <td>Yakima</td>\n",
       "      <td>WA</td>\n",
       "      <td>Yakima</td>\n",
       "      <td>2020</td>\n",
       "      <td>2023-03-18</td>\n",
       "      <td>POINT</td>\n",
       "      <td>-120.56916</td>\n",
       "      <td>46.58514</td>\n",
       "    </tr>\n",
       "    <tr>\n",
       "      <th>2</th>\n",
       "      <td>144941534</td>\n",
       "      <td>AUDI</td>\n",
       "      <td>E-TRON</td>\n",
       "      <td>POINT (-120.56916 46.58514)</td>\n",
       "      <td>Yakima</td>\n",
       "      <td>Yakima</td>\n",
       "      <td>WA</td>\n",
       "      <td>Yakima</td>\n",
       "      <td>2021</td>\n",
       "      <td>2023-03-18</td>\n",
       "      <td>POINT</td>\n",
       "      <td>-120.56916</td>\n",
       "      <td>46.58514</td>\n",
       "    </tr>\n",
       "    <tr>\n",
       "      <th>3</th>\n",
       "      <td>168513922</td>\n",
       "      <td>TESLA</td>\n",
       "      <td>MODEL 3</td>\n",
       "      <td>POINT (-79.4172 36.58598)</td>\n",
       "      <td>Danville</td>\n",
       "      <td>Danville</td>\n",
       "      <td>VA</td>\n",
       "      <td>Danville</td>\n",
       "      <td>2019</td>\n",
       "      <td>2023-03-18</td>\n",
       "      <td>POINT</td>\n",
       "      <td>-79.4172</td>\n",
       "      <td>36.58598</td>\n",
       "    </tr>\n",
       "    <tr>\n",
       "      <th>4</th>\n",
       "      <td>150749378</td>\n",
       "      <td>FORD</td>\n",
       "      <td>C-MAX</td>\n",
       "      <td>POINT (-76.21549 36.92478)</td>\n",
       "      <td>Norfolk</td>\n",
       "      <td>Norfolk</td>\n",
       "      <td>VA</td>\n",
       "      <td>Norfolk</td>\n",
       "      <td>2014</td>\n",
       "      <td>2023-03-18</td>\n",
       "      <td>POINT</td>\n",
       "      <td>-76.21549</td>\n",
       "      <td>36.92478</td>\n",
       "    </tr>\n",
       "  </tbody>\n",
       "</table>\n",
       "</div>"
      ],
      "text/plain": [
       "   DOL Vehicle ID   Make    Model             Vehicle Location    County  \\\n",
       "0       476647986  TESLA  MODEL 3    POINT (-76.42443 36.8752)   Suffolk   \n",
       "1       103490145  TESLA  MODEL 3  POINT (-120.56916 46.58514)    Yakima   \n",
       "2       144941534   AUDI   E-TRON  POINT (-120.56916 46.58514)    Yakima   \n",
       "3       168513922  TESLA  MODEL 3    POINT (-79.4172 36.58598)  Danville   \n",
       "4       150749378   FORD    C-MAX   POINT (-76.21549 36.92478)   Norfolk   \n",
       "\n",
       "       City State    County  Model Year last_updated_at    val    Latitude  \\\n",
       "0   Suffolk    VA   Suffolk        2018      2023-03-18  POINT   -76.42443   \n",
       "1    Yakima    WA    Yakima        2020      2023-03-18  POINT  -120.56916   \n",
       "2    Yakima    WA    Yakima        2021      2023-03-18  POINT  -120.56916   \n",
       "3  Danville    VA  Danville        2019      2023-03-18  POINT    -79.4172   \n",
       "4   Norfolk    VA   Norfolk        2014      2023-03-18  POINT   -76.21549   \n",
       "\n",
       "  Longitude  \n",
       "0   36.8752  \n",
       "1  46.58514  \n",
       "2  46.58514  \n",
       "3  36.58598  \n",
       "4  36.92478  "
      ]
     },
     "execution_count": 64,
     "metadata": {},
     "output_type": "execute_result"
    }
   ],
   "source": [
    "df_ev_pop[[\"val\", \"Latitude\", \"Longitude\"]] = df_ev_pop['Vehicle Location'].str.split(' ', expand=True)\n",
    "# \n",
    "\n",
    "# df_ev_pop.drop(columns=['val'])\n",
    "# removing paranthesis \n",
    "df_ev_pop[\"Latitude\"] =  df_ev_pop[\"Latitude\"].str[1:]\n",
    "df_ev_pop[\"Longitude\"] =df_ev_pop[\"Longitude\"].str.replace(')',\"\")\n",
    "df_ev_pop[\"Longitude\"]= df_ev_pop[\"Longitude\"].str.strip()\n",
    "df_ev_pop[\"Latitude\"] =  df_ev_pop[\"Latitude\"].str.strip()\n",
    "df_ev_pop.head()"
   ]
  },
  {
   "cell_type": "code",
   "execution_count": 65,
   "metadata": {},
   "outputs": [],
   "source": [
    "df_ev_pop =df_ev_pop.drop(columns=['val'])"
   ]
  },
  {
   "cell_type": "code",
   "execution_count": 66,
   "metadata": {},
   "outputs": [],
   "source": [
    "df_ev_pop[\"quantity\"]= int(1)"
   ]
  },
  {
   "cell_type": "code",
   "execution_count": 67,
   "metadata": {},
   "outputs": [
    {
     "data": {
      "text/plain": [
       "Index(['DOL Vehicle ID', 'Make', 'Model', 'Vehicle Location', 'County', 'City',\n",
       "       'State', 'County', 'Model Year', 'last_updated_at', 'Latitude',\n",
       "       'Longitude', 'quantity'],\n",
       "      dtype='object')"
      ]
     },
     "execution_count": 67,
     "metadata": {},
     "output_type": "execute_result"
    }
   ],
   "source": [
    "df_ev_pop.columns "
   ]
  },
  {
   "cell_type": "code",
   "execution_count": 68,
   "metadata": {},
   "outputs": [],
   "source": [
    "df_ev_pop.rename(columns={'DOL Vehicle ID': 'dv_pop_DOL_Vehicle ID', \n",
    "                          'Make': 'dv_pop_Make',\n",
    "                          'Model': 'dv_pop_Model',\n",
    "                          'Vehicle Location': 'dv_pop_Vehicle_Location',\n",
    "                          'Model Year': 'dv_pop_Model_Year',\n",
    "                          'last_updated_at': 'dv_pop_last_updated_at',\n",
    "                          'quantity': 'dv_pop_quantity',\n",
    "                          }, inplace=True)"
   ]
  },
  {
   "cell_type": "code",
   "execution_count": 69,
   "metadata": {},
   "outputs": [
    {
     "name": "stdout",
     "output_type": "stream",
     "text": [
      "<class 'pandas.core.frame.DataFrame'>\n",
      "RangeIndex: 121978 entries, 0 to 121977\n",
      "Data columns (total 13 columns):\n",
      " #   Column                   Non-Null Count   Dtype         \n",
      "---  ------                   --------------   -----         \n",
      " 0   dv_pop_DOL_Vehicle ID    121978 non-null  int64         \n",
      " 1   dv_pop_Make              121978 non-null  object        \n",
      " 2   dv_pop_Model             121874 non-null  object        \n",
      " 3   dv_pop_Vehicle_Location  121946 non-null  object        \n",
      " 4   County                   121976 non-null  object        \n",
      " 5   City                     121976 non-null  object        \n",
      " 6   State                    121978 non-null  object        \n",
      " 7   County                   121976 non-null  object        \n",
      " 8   dv_pop_Model_Year        121978 non-null  int64         \n",
      " 9   dv_pop_last_updated_at   121978 non-null  datetime64[ns]\n",
      " 10  Latitude                 121946 non-null  object        \n",
      " 11  Longitude                121946 non-null  object        \n",
      " 12  dv_pop_quantity          121978 non-null  int64         \n",
      "dtypes: datetime64[ns](1), int64(3), object(9)\n",
      "memory usage: 12.1+ MB\n"
     ]
    }
   ],
   "source": [
    "df_ev_pop.info()"
   ]
  },
  {
   "cell_type": "code",
   "execution_count": 72,
   "metadata": {},
   "outputs": [
    {
     "data": {
      "text/plain": [
       "648"
      ]
     },
     "execution_count": 72,
     "metadata": {},
     "output_type": "execute_result"
    }
   ],
   "source": [
    "len(df_ev_pop.City.unique())"
   ]
  },
  {
   "cell_type": "code",
   "execution_count": 75,
   "metadata": {},
   "outputs": [
    {
     "name": "stdout",
     "output_type": "stream",
     "text": [
      "269 done\n",
      "270 done\n",
      "271 done\n",
      "272 done\n",
      "273 done\n",
      "274 done\n"
     ]
    },
    {
     "ename": "TypeError",
     "evalue": "unsupported operand type(s) for +: 'float' and 'str'",
     "output_type": "error",
     "traceback": [
      "\u001b[0;31m---------------------------------------------------------------------------\u001b[0m",
      "\u001b[0;31mTypeError\u001b[0m                                 Traceback (most recent call last)",
      "Cell \u001b[0;32mIn[75], line 9\u001b[0m\n\u001b[1;32m      7\u001b[0m \u001b[39mfor\u001b[39;00m city \u001b[39min\u001b[39;00m  city_list:\n\u001b[1;32m      8\u001b[0m     i\u001b[39m+\u001b[39m\u001b[39m=\u001b[39m\u001b[39m1\u001b[39m\n\u001b[0;32m----> 9\u001b[0m     location \u001b[39m=\u001b[39m geolocator\u001b[39m.\u001b[39mgeocode(city \u001b[39m+\u001b[39;49m \u001b[39m\"\u001b[39;49m\u001b[39m, \u001b[39;49m\u001b[39m\"\u001b[39;49m \u001b[39m+\u001b[39m \u001b[39m'\u001b[39m\u001b[39mWA\u001b[39m\u001b[39m'\u001b[39m)\n\u001b[1;32m     10\u001b[0m     \u001b[39mif\u001b[39;00m location \u001b[39mis\u001b[39;00m \u001b[39mNone\u001b[39;00m:\n\u001b[1;32m     11\u001b[0m         city_lat\u001b[39m.\u001b[39mappend(\u001b[39m\"\u001b[39m\u001b[39mnull\u001b[39m\u001b[39m\"\u001b[39m)\n",
      "\u001b[0;31mTypeError\u001b[0m: unsupported operand type(s) for +: 'float' and 'str'"
     ]
    }
   ],
   "source": [
    "from geopy.geocoders import Nominatim\n",
    "import math\n",
    "geolocator = Nominatim(user_agent=\"my_app\")\n",
    "import math \n",
    "city_list = df_ev_pop.City.unique().tolist()\n",
    "city_lat = []\n",
    "city_long = []\n",
    "i =0\n",
    "for city in  city_list:\n",
    "    i+=1\n",
    "    location = geolocator.geocode(city + \", \" + 'WA')\n",
    "    if location is None or math.isnan(location.latitude) or math.isnan(location.longitude):\n",
    "        city_lat.append(None)\n",
    "        city_lat.append(\"null\")\n",
    "        city_long.append(\"null\") \n",
    "    else:\n",
    "        city_lat.append(location.latitude)\n",
    "        city_long.append(location.longitude)\n",
    "    print(\"done\")\n",
    "\n"
   ]
  },
  {
   "cell_type": "code",
   "execution_count": null,
   "metadata": {},
   "outputs": [],
   "source": [
    "# from geopy.geocoders import Nominatim\n",
    "# geolocator = Nominatim(user_agent=\"my_app\")\n",
    "\n",
    "# city_lat = []\n",
    "# city_long = []\n",
    "\n",
    "# for index, row in df_ev_pop.iterrows():\n",
    "#     location = geolocator.geocode(row[\"dv_pop_City\"] + \", \" + row[\"dv_pop_State\"])\n",
    "#     city_lat.append(location.latitude)\n",
    "#     city_long.append(location.longitude)\n",
    "    \n",
    "# df_ev_pop[city_lat] = city_lat\n",
    "# df_ev_pop[city_long] = city_long"
   ]
  },
  {
   "attachments": {},
   "cell_type": "markdown",
   "metadata": {},
   "source": [
    "we can drop Vehicle Location "
   ]
  },
  {
   "attachments": {},
   "cell_type": "markdown",
   "metadata": {},
   "source": [
    "-----------------------"
   ]
  },
  {
   "attachments": {},
   "cell_type": "markdown",
   "metadata": {},
   "source": [
    "2. ev_station data set "
   ]
  },
  {
   "cell_type": "code",
   "execution_count": 14,
   "metadata": {},
   "outputs": [
    {
     "data": {
      "text/html": [
       "<div>\n",
       "<style scoped>\n",
       "    .dataframe tbody tr th:only-of-type {\n",
       "        vertical-align: middle;\n",
       "    }\n",
       "\n",
       "    .dataframe tbody tr th {\n",
       "        vertical-align: top;\n",
       "    }\n",
       "\n",
       "    .dataframe thead th {\n",
       "        text-align: right;\n",
       "    }\n",
       "</style>\n",
       "<table border=\"1\" class=\"dataframe\">\n",
       "  <thead>\n",
       "    <tr style=\"text-align: right;\">\n",
       "      <th></th>\n",
       "      <th>Fuel Type Code</th>\n",
       "      <th>Station Name</th>\n",
       "      <th>Street Address</th>\n",
       "      <th>Intersection Directions</th>\n",
       "      <th>City</th>\n",
       "      <th>State</th>\n",
       "      <th>ZIP</th>\n",
       "      <th>Plus4</th>\n",
       "      <th>Station Phone</th>\n",
       "      <th>Status Code</th>\n",
       "      <th>...</th>\n",
       "      <th>EV Pricing (French)</th>\n",
       "      <th>LPG Nozzle Types</th>\n",
       "      <th>Hydrogen Pressures</th>\n",
       "      <th>Hydrogen Standards</th>\n",
       "      <th>CNG Fill Type Code</th>\n",
       "      <th>CNG PSI</th>\n",
       "      <th>CNG Vehicle Class</th>\n",
       "      <th>LNG Vehicle Class</th>\n",
       "      <th>EV On-Site Renewable Source</th>\n",
       "      <th>Restricted Access</th>\n",
       "    </tr>\n",
       "  </thead>\n",
       "  <tbody>\n",
       "    <tr>\n",
       "      <th>0</th>\n",
       "      <td>CNG</td>\n",
       "      <td>Spire - Montgomery Operations Center</td>\n",
       "      <td>2951 Chestnut St</td>\n",
       "      <td>NaN</td>\n",
       "      <td>Montgomery</td>\n",
       "      <td>AL</td>\n",
       "      <td>36107</td>\n",
       "      <td>NaN</td>\n",
       "      <td>NaN</td>\n",
       "      <td>E</td>\n",
       "      <td>...</td>\n",
       "      <td>NaN</td>\n",
       "      <td>NaN</td>\n",
       "      <td>NaN</td>\n",
       "      <td>NaN</td>\n",
       "      <td>B</td>\n",
       "      <td>3600</td>\n",
       "      <td>MD</td>\n",
       "      <td>NaN</td>\n",
       "      <td>NaN</td>\n",
       "      <td>NaN</td>\n",
       "    </tr>\n",
       "    <tr>\n",
       "      <th>1</th>\n",
       "      <td>CNG</td>\n",
       "      <td>PS Energy - Atlanta</td>\n",
       "      <td>340 Whitehall St</td>\n",
       "      <td>From I-7585 N, exit 91 to Central Ave, left on...</td>\n",
       "      <td>Atlanta</td>\n",
       "      <td>GA</td>\n",
       "      <td>30303</td>\n",
       "      <td>NaN</td>\n",
       "      <td>770-350-3000</td>\n",
       "      <td>E</td>\n",
       "      <td>...</td>\n",
       "      <td>NaN</td>\n",
       "      <td>NaN</td>\n",
       "      <td>NaN</td>\n",
       "      <td>NaN</td>\n",
       "      <td>Q</td>\n",
       "      <td>3600</td>\n",
       "      <td>MD</td>\n",
       "      <td>NaN</td>\n",
       "      <td>NaN</td>\n",
       "      <td>NaN</td>\n",
       "    </tr>\n",
       "    <tr>\n",
       "      <th>2</th>\n",
       "      <td>CNG</td>\n",
       "      <td>Metropolitan Atlanta Rapid Transit Authority</td>\n",
       "      <td>2424 Piedmont Rd NE</td>\n",
       "      <td>NaN</td>\n",
       "      <td>Atlanta</td>\n",
       "      <td>GA</td>\n",
       "      <td>30324</td>\n",
       "      <td>NaN</td>\n",
       "      <td>NaN</td>\n",
       "      <td>E</td>\n",
       "      <td>...</td>\n",
       "      <td>NaN</td>\n",
       "      <td>NaN</td>\n",
       "      <td>NaN</td>\n",
       "      <td>NaN</td>\n",
       "      <td>Q</td>\n",
       "      <td>3000</td>\n",
       "      <td>LD</td>\n",
       "      <td>NaN</td>\n",
       "      <td>NaN</td>\n",
       "      <td>NaN</td>\n",
       "    </tr>\n",
       "    <tr>\n",
       "      <th>3</th>\n",
       "      <td>CNG</td>\n",
       "      <td>United Parcel Service</td>\n",
       "      <td>270 Marvin Miller Dr</td>\n",
       "      <td>NaN</td>\n",
       "      <td>Atlanta</td>\n",
       "      <td>GA</td>\n",
       "      <td>30336</td>\n",
       "      <td>NaN</td>\n",
       "      <td>NaN</td>\n",
       "      <td>E</td>\n",
       "      <td>...</td>\n",
       "      <td>NaN</td>\n",
       "      <td>NaN</td>\n",
       "      <td>NaN</td>\n",
       "      <td>NaN</td>\n",
       "      <td>B</td>\n",
       "      <td>3600</td>\n",
       "      <td>HD</td>\n",
       "      <td>NaN</td>\n",
       "      <td>NaN</td>\n",
       "      <td>NaN</td>\n",
       "    </tr>\n",
       "    <tr>\n",
       "      <th>4</th>\n",
       "      <td>CNG</td>\n",
       "      <td>Clean Energy - Texas Department of Transportation</td>\n",
       "      <td>7721A Washington St</td>\n",
       "      <td>I-10, Washington Ave exit, 1.5 blocks to the s...</td>\n",
       "      <td>Houston</td>\n",
       "      <td>TX</td>\n",
       "      <td>77007</td>\n",
       "      <td>NaN</td>\n",
       "      <td>866-809-4869</td>\n",
       "      <td>E</td>\n",
       "      <td>...</td>\n",
       "      <td>NaN</td>\n",
       "      <td>NaN</td>\n",
       "      <td>NaN</td>\n",
       "      <td>NaN</td>\n",
       "      <td>Q</td>\n",
       "      <td>3000 3600</td>\n",
       "      <td>MD</td>\n",
       "      <td>NaN</td>\n",
       "      <td>NaN</td>\n",
       "      <td>NaN</td>\n",
       "    </tr>\n",
       "  </tbody>\n",
       "</table>\n",
       "<p>5 rows × 65 columns</p>\n",
       "</div>"
      ],
      "text/plain": [
       "  Fuel Type Code                                       Station Name  \\\n",
       "0            CNG               Spire - Montgomery Operations Center   \n",
       "1            CNG                                PS Energy - Atlanta   \n",
       "2            CNG       Metropolitan Atlanta Rapid Transit Authority   \n",
       "3            CNG                              United Parcel Service   \n",
       "4            CNG  Clean Energy - Texas Department of Transportation   \n",
       "\n",
       "         Street Address                            Intersection Directions  \\\n",
       "0      2951 Chestnut St                                                NaN   \n",
       "1      340 Whitehall St  From I-7585 N, exit 91 to Central Ave, left on...   \n",
       "2   2424 Piedmont Rd NE                                                NaN   \n",
       "3  270 Marvin Miller Dr                                                NaN   \n",
       "4   7721A Washington St  I-10, Washington Ave exit, 1.5 blocks to the s...   \n",
       "\n",
       "         City State    ZIP  Plus4 Station Phone Status Code  ...  \\\n",
       "0  Montgomery    AL  36107    NaN           NaN           E  ...   \n",
       "1     Atlanta    GA  30303    NaN  770-350-3000           E  ...   \n",
       "2     Atlanta    GA  30324    NaN           NaN           E  ...   \n",
       "3     Atlanta    GA  30336    NaN           NaN           E  ...   \n",
       "4     Houston    TX  77007    NaN  866-809-4869           E  ...   \n",
       "\n",
       "  EV Pricing (French) LPG Nozzle Types Hydrogen Pressures Hydrogen Standards  \\\n",
       "0                 NaN              NaN                NaN                NaN   \n",
       "1                 NaN              NaN                NaN                NaN   \n",
       "2                 NaN              NaN                NaN                NaN   \n",
       "3                 NaN              NaN                NaN                NaN   \n",
       "4                 NaN              NaN                NaN                NaN   \n",
       "\n",
       "  CNG Fill Type Code    CNG PSI CNG Vehicle Class  LNG Vehicle Class  \\\n",
       "0                  B       3600                MD                NaN   \n",
       "1                  Q       3600                MD                NaN   \n",
       "2                  Q       3000                LD                NaN   \n",
       "3                  B       3600                HD                NaN   \n",
       "4                  Q  3000 3600                MD                NaN   \n",
       "\n",
       "   EV On-Site Renewable Source  Restricted Access  \n",
       "0                          NaN                NaN  \n",
       "1                          NaN                NaN  \n",
       "2                          NaN                NaN  \n",
       "3                          NaN                NaN  \n",
       "4                          NaN                NaN  \n",
       "\n",
       "[5 rows x 65 columns]"
      ]
     },
     "execution_count": 14,
     "metadata": {},
     "output_type": "execute_result"
    }
   ],
   "source": [
    "# pd.set_option(\"display.max_columns\",10 )\n",
    "ev_station = pd.read_csv('data/alt_fuel_stations.csv')\n",
    "ev_station.head(5)"
   ]
  },
  {
   "cell_type": "code",
   "execution_count": 15,
   "metadata": {},
   "outputs": [
    {
     "data": {
      "text/plain": [
       "Index(['Fuel Type Code', 'Station Name', 'Street Address',\n",
       "       'Intersection Directions', 'City', 'State', 'ZIP', 'Plus4',\n",
       "       'Station Phone', 'Status Code', 'Expected Date',\n",
       "       'Groups With Access Code', 'Access Days Time', 'Cards Accepted',\n",
       "       'BD Blends', 'NG Fill Type Code', 'NG PSI', 'EV Level1 EVSE Num',\n",
       "       'EV Level2 EVSE Num', 'EV DC Fast Count', 'EV Other Info', 'EV Network',\n",
       "       'EV Network Web', 'Geocode Status', 'Latitude', 'Longitude',\n",
       "       'Date Last Confirmed', 'ID', 'Updated At', 'Owner Type Code',\n",
       "       'Federal Agency ID', 'Federal Agency Name', 'Open Date',\n",
       "       'Hydrogen Status Link', 'NG Vehicle Class', 'LPG Primary',\n",
       "       'E85 Blender Pump', 'EV Connector Types', 'Country',\n",
       "       'Intersection Directions (French)', 'Access Days Time (French)',\n",
       "       'BD Blends (French)', 'Groups With Access Code (French)',\n",
       "       'Hydrogen Is Retail', 'Access Code', 'Access Detail Code',\n",
       "       'Federal Agency Code', 'Facility Type', 'CNG Dispenser Num',\n",
       "       'CNG On-Site Renewable Source', 'CNG Total Compression Capacity',\n",
       "       'CNG Storage Capacity', 'LNG On-Site Renewable Source',\n",
       "       'E85 Other Ethanol Blends', 'EV Pricing', 'EV Pricing (French)',\n",
       "       'LPG Nozzle Types', 'Hydrogen Pressures', 'Hydrogen Standards',\n",
       "       'CNG Fill Type Code', 'CNG PSI', 'CNG Vehicle Class',\n",
       "       'LNG Vehicle Class', 'EV On-Site Renewable Source',\n",
       "       'Restricted Access'],\n",
       "      dtype='object')"
      ]
     },
     "execution_count": 15,
     "metadata": {},
     "output_type": "execute_result"
    }
   ],
   "source": [
    "ev_station.columns"
   ]
  },
  {
   "cell_type": "code",
   "execution_count": 16,
   "metadata": {},
   "outputs": [],
   "source": [
    "ev_station_v1 = ev_station[['ID','Updated At', 'Status Code', \"Station Name\", 'Fuel Type Code', \"Access Code\", \"Street Address\", \"City\", \"State\",\"Country\", \"ZIP\", \"Latitude\", \"Longitude\", \"Open Date\", 'EV Pricing'] ]\n"
   ]
  },
  {
   "cell_type": "code",
   "execution_count": 17,
   "metadata": {},
   "outputs": [
    {
     "data": {
      "text/plain": [
       "56800"
      ]
     },
     "execution_count": 17,
     "metadata": {},
     "output_type": "execute_result"
    }
   ],
   "source": [
    "len(ev_station_v1)"
   ]
  },
  {
   "cell_type": "code",
   "execution_count": 18,
   "metadata": {},
   "outputs": [
    {
     "data": {
      "text/html": [
       "<div>\n",
       "<style scoped>\n",
       "    .dataframe tbody tr th:only-of-type {\n",
       "        vertical-align: middle;\n",
       "    }\n",
       "\n",
       "    .dataframe tbody tr th {\n",
       "        vertical-align: top;\n",
       "    }\n",
       "\n",
       "    .dataframe thead th {\n",
       "        text-align: right;\n",
       "    }\n",
       "</style>\n",
       "<table border=\"1\" class=\"dataframe\">\n",
       "  <thead>\n",
       "    <tr style=\"text-align: right;\">\n",
       "      <th></th>\n",
       "      <th>ID</th>\n",
       "      <th>Updated At</th>\n",
       "      <th>Status Code</th>\n",
       "      <th>Station Name</th>\n",
       "      <th>Fuel Type Code</th>\n",
       "      <th>Access Code</th>\n",
       "      <th>Street Address</th>\n",
       "      <th>City</th>\n",
       "      <th>State</th>\n",
       "      <th>Country</th>\n",
       "      <th>ZIP</th>\n",
       "      <th>Latitude</th>\n",
       "      <th>Longitude</th>\n",
       "      <th>Open Date</th>\n",
       "      <th>EV Pricing</th>\n",
       "    </tr>\n",
       "  </thead>\n",
       "  <tbody>\n",
       "    <tr>\n",
       "      <th>0</th>\n",
       "      <td>17</td>\n",
       "      <td>2021-07-29 15:08:10 UTC</td>\n",
       "      <td>E</td>\n",
       "      <td>Spire - Montgomery Operations Center</td>\n",
       "      <td>CNG</td>\n",
       "      <td>private</td>\n",
       "      <td>2951 Chestnut St</td>\n",
       "      <td>Montgomery</td>\n",
       "      <td>AL</td>\n",
       "      <td>US</td>\n",
       "      <td>36107</td>\n",
       "      <td>32.367916</td>\n",
       "      <td>-86.267021</td>\n",
       "      <td>2010-12-01</td>\n",
       "      <td>NaN</td>\n",
       "    </tr>\n",
       "    <tr>\n",
       "      <th>1</th>\n",
       "      <td>42</td>\n",
       "      <td>2021-07-26 13:24:55 UTC</td>\n",
       "      <td>E</td>\n",
       "      <td>PS Energy - Atlanta</td>\n",
       "      <td>CNG</td>\n",
       "      <td>public</td>\n",
       "      <td>340 Whitehall St</td>\n",
       "      <td>Atlanta</td>\n",
       "      <td>GA</td>\n",
       "      <td>US</td>\n",
       "      <td>30303</td>\n",
       "      <td>33.745843</td>\n",
       "      <td>-84.398837</td>\n",
       "      <td>1994-07-15</td>\n",
       "      <td>NaN</td>\n",
       "    </tr>\n",
       "    <tr>\n",
       "      <th>2</th>\n",
       "      <td>45</td>\n",
       "      <td>2021-07-27 21:03:31 UTC</td>\n",
       "      <td>E</td>\n",
       "      <td>Metropolitan Atlanta Rapid Transit Authority</td>\n",
       "      <td>CNG</td>\n",
       "      <td>private</td>\n",
       "      <td>2424 Piedmont Rd NE</td>\n",
       "      <td>Atlanta</td>\n",
       "      <td>GA</td>\n",
       "      <td>US</td>\n",
       "      <td>30324</td>\n",
       "      <td>33.821911</td>\n",
       "      <td>-84.367461</td>\n",
       "      <td>1996-12-15</td>\n",
       "      <td>NaN</td>\n",
       "    </tr>\n",
       "    <tr>\n",
       "      <th>3</th>\n",
       "      <td>64</td>\n",
       "      <td>2021-04-08 20:32:57 UTC</td>\n",
       "      <td>E</td>\n",
       "      <td>United Parcel Service</td>\n",
       "      <td>CNG</td>\n",
       "      <td>private</td>\n",
       "      <td>270 Marvin Miller Dr</td>\n",
       "      <td>Atlanta</td>\n",
       "      <td>GA</td>\n",
       "      <td>US</td>\n",
       "      <td>30336</td>\n",
       "      <td>33.760256</td>\n",
       "      <td>-84.543822</td>\n",
       "      <td>1997-01-01</td>\n",
       "      <td>NaN</td>\n",
       "    </tr>\n",
       "    <tr>\n",
       "      <th>4</th>\n",
       "      <td>72</td>\n",
       "      <td>2021-07-20 14:30:28 UTC</td>\n",
       "      <td>E</td>\n",
       "      <td>Clean Energy - Texas Department of Transportation</td>\n",
       "      <td>CNG</td>\n",
       "      <td>public</td>\n",
       "      <td>7721A Washington St</td>\n",
       "      <td>Houston</td>\n",
       "      <td>TX</td>\n",
       "      <td>US</td>\n",
       "      <td>77007</td>\n",
       "      <td>29.779918</td>\n",
       "      <td>-95.435385</td>\n",
       "      <td>1996-12-15</td>\n",
       "      <td>NaN</td>\n",
       "    </tr>\n",
       "  </tbody>\n",
       "</table>\n",
       "</div>"
      ],
      "text/plain": [
       "   ID               Updated At Status Code  \\\n",
       "0  17  2021-07-29 15:08:10 UTC           E   \n",
       "1  42  2021-07-26 13:24:55 UTC           E   \n",
       "2  45  2021-07-27 21:03:31 UTC           E   \n",
       "3  64  2021-04-08 20:32:57 UTC           E   \n",
       "4  72  2021-07-20 14:30:28 UTC           E   \n",
       "\n",
       "                                        Station Name Fuel Type Code  \\\n",
       "0               Spire - Montgomery Operations Center            CNG   \n",
       "1                                PS Energy - Atlanta            CNG   \n",
       "2       Metropolitan Atlanta Rapid Transit Authority            CNG   \n",
       "3                              United Parcel Service            CNG   \n",
       "4  Clean Energy - Texas Department of Transportation            CNG   \n",
       "\n",
       "  Access Code        Street Address        City State Country    ZIP  \\\n",
       "0     private      2951 Chestnut St  Montgomery    AL      US  36107   \n",
       "1      public      340 Whitehall St     Atlanta    GA      US  30303   \n",
       "2     private   2424 Piedmont Rd NE     Atlanta    GA      US  30324   \n",
       "3     private  270 Marvin Miller Dr     Atlanta    GA      US  30336   \n",
       "4      public   7721A Washington St     Houston    TX      US  77007   \n",
       "\n",
       "    Latitude  Longitude   Open Date EV Pricing  \n",
       "0  32.367916 -86.267021  2010-12-01        NaN  \n",
       "1  33.745843 -84.398837  1994-07-15        NaN  \n",
       "2  33.821911 -84.367461  1996-12-15        NaN  \n",
       "3  33.760256 -84.543822  1997-01-01        NaN  \n",
       "4  29.779918 -95.435385  1996-12-15        NaN  "
      ]
     },
     "execution_count": 18,
     "metadata": {},
     "output_type": "execute_result"
    }
   ],
   "source": [
    "ev_station_v1.head()"
   ]
  },
  {
   "attachments": {},
   "cell_type": "markdown",
   "metadata": {},
   "source": [
    "fuel type cng = Compressed Natural Gas (CNG) is a gasoline and diesel fuel alternative consisting primarily of methane. The gas is associated with other fossil fuels (coal or oil) and is created by methanogenic organisms in landfill\n",
    "\n",
    "E85= E85 (or flex fuel) is a term that refers to high-level ethanol-gasoline blends containing 51% to 83% ethanol, depending on geography and season (see Fuel Properties and E85 Flex Fuel Specification).\n",
    "\n",
    "ELEC : electric \n",
    "\n",
    "LPG= LNG is natural gas in its liquid form. \n",
    "\n",
    "BD: ?\n",
    "\n",
    "HY : Hydrogen Fueling"
   ]
  },
  {
   "cell_type": "code",
   "execution_count": 19,
   "metadata": {},
   "outputs": [
    {
     "data": {
      "text/plain": [
       "array(['CNG', 'E85', 'ELEC', 'LNG', 'LPG', 'BD', 'HY'], dtype=object)"
      ]
     },
     "execution_count": 19,
     "metadata": {},
     "output_type": "execute_result"
    }
   ],
   "source": [
    "ev_station_v1[\"Fuel Type Code\"].unique()"
   ]
  },
  {
   "attachments": {},
   "cell_type": "markdown",
   "metadata": {},
   "source": [
    "- at the moment we only need WA\n",
    "- since we are interested in ev chars we do not need other charging stations information, we filter them out \n",
    "- we need to also bring the charging stations status\n",
    "- status code :  e  is available , t is temprorarly closed , we can change this information with active and temprorily closed \n",
    "- we can consider this data set as "
   ]
  },
  {
   "cell_type": "code",
   "execution_count": 20,
   "metadata": {},
   "outputs": [],
   "source": [
    "ev_station_v2 = ev_station_v1.loc[ev_station_v1[\"Fuel Type Code\"]=='ELEC']\n",
    "ev_station_v3 = ev_station_v2.loc[ev_station_v1[\"State\"]=='WA']"
   ]
  },
  {
   "cell_type": "code",
   "execution_count": 21,
   "metadata": {},
   "outputs": [
    {
     "data": {
      "text/plain": [
       "1686"
      ]
     },
     "execution_count": 21,
     "metadata": {},
     "output_type": "execute_result"
    }
   ],
   "source": [
    "len(ev_station_v3)"
   ]
  },
  {
   "cell_type": "code",
   "execution_count": 22,
   "metadata": {},
   "outputs": [
    {
     "data": {
      "text/html": [
       "<div>\n",
       "<style scoped>\n",
       "    .dataframe tbody tr th:only-of-type {\n",
       "        vertical-align: middle;\n",
       "    }\n",
       "\n",
       "    .dataframe tbody tr th {\n",
       "        vertical-align: top;\n",
       "    }\n",
       "\n",
       "    .dataframe thead th {\n",
       "        text-align: right;\n",
       "    }\n",
       "</style>\n",
       "<table border=\"1\" class=\"dataframe\">\n",
       "  <thead>\n",
       "    <tr style=\"text-align: right;\">\n",
       "      <th></th>\n",
       "      <th>ID</th>\n",
       "      <th>Updated At</th>\n",
       "      <th>Status Code</th>\n",
       "      <th>Station Name</th>\n",
       "      <th>Fuel Type Code</th>\n",
       "      <th>Access Code</th>\n",
       "      <th>Street Address</th>\n",
       "      <th>City</th>\n",
       "      <th>State</th>\n",
       "      <th>Country</th>\n",
       "      <th>ZIP</th>\n",
       "      <th>Latitude</th>\n",
       "      <th>Longitude</th>\n",
       "      <th>Open Date</th>\n",
       "      <th>EV Pricing</th>\n",
       "    </tr>\n",
       "  </thead>\n",
       "  <tbody>\n",
       "    <tr>\n",
       "      <th>2348</th>\n",
       "      <td>33351</td>\n",
       "      <td>2021-03-11 23:22:17 UTC</td>\n",
       "      <td>E</td>\n",
       "      <td>City of Lacey - City Hall Parking</td>\n",
       "      <td>ELEC</td>\n",
       "      <td>public</td>\n",
       "      <td>420 College St</td>\n",
       "      <td>Lacey</td>\n",
       "      <td>WA</td>\n",
       "      <td>US</td>\n",
       "      <td>98503</td>\n",
       "      <td>47.044011</td>\n",
       "      <td>-122.822404</td>\n",
       "      <td>2018-01-15</td>\n",
       "      <td>NaN</td>\n",
       "    </tr>\n",
       "    <tr>\n",
       "      <th>2431</th>\n",
       "      <td>33717</td>\n",
       "      <td>2021-03-11 23:22:17 UTC</td>\n",
       "      <td>E</td>\n",
       "      <td>Seattle-Tacoma International Airport - General...</td>\n",
       "      <td>ELEC</td>\n",
       "      <td>public</td>\n",
       "      <td>17801 Pacific Hwy S</td>\n",
       "      <td>Seattle</td>\n",
       "      <td>WA</td>\n",
       "      <td>US</td>\n",
       "      <td>98188</td>\n",
       "      <td>47.443377</td>\n",
       "      <td>-122.296229</td>\n",
       "      <td>2010-03-01</td>\n",
       "      <td>Free</td>\n",
       "    </tr>\n",
       "    <tr>\n",
       "      <th>2880</th>\n",
       "      <td>35337</td>\n",
       "      <td>2021-03-11 23:22:17 UTC</td>\n",
       "      <td>E</td>\n",
       "      <td>Haggen Food &amp; Pharmacy</td>\n",
       "      <td>ELEC</td>\n",
       "      <td>public</td>\n",
       "      <td>1313 Cooper Point Rd SW</td>\n",
       "      <td>Olympia</td>\n",
       "      <td>WA</td>\n",
       "      <td>US</td>\n",
       "      <td>98502</td>\n",
       "      <td>47.035421</td>\n",
       "      <td>-122.938962</td>\n",
       "      <td>2009-08-15</td>\n",
       "      <td>Free</td>\n",
       "    </tr>\n",
       "    <tr>\n",
       "      <th>2975</th>\n",
       "      <td>35620</td>\n",
       "      <td>2021-03-11 23:22:17 UTC</td>\n",
       "      <td>E</td>\n",
       "      <td>Avista Corp</td>\n",
       "      <td>ELEC</td>\n",
       "      <td>public</td>\n",
       "      <td>1411 E Mission Ave</td>\n",
       "      <td>Spokane</td>\n",
       "      <td>WA</td>\n",
       "      <td>US</td>\n",
       "      <td>99252</td>\n",
       "      <td>47.673347</td>\n",
       "      <td>-117.388933</td>\n",
       "      <td>2010-04-15</td>\n",
       "      <td>Free</td>\n",
       "    </tr>\n",
       "    <tr>\n",
       "      <th>2976</th>\n",
       "      <td>35621</td>\n",
       "      <td>2021-03-11 23:22:17 UTC</td>\n",
       "      <td>E</td>\n",
       "      <td>Steam Plant Grill</td>\n",
       "      <td>ELEC</td>\n",
       "      <td>public</td>\n",
       "      <td>159 S Lincoln St</td>\n",
       "      <td>Spokane</td>\n",
       "      <td>WA</td>\n",
       "      <td>US</td>\n",
       "      <td>99201</td>\n",
       "      <td>47.654998</td>\n",
       "      <td>-117.425025</td>\n",
       "      <td>2010-04-15</td>\n",
       "      <td>Free</td>\n",
       "    </tr>\n",
       "  </tbody>\n",
       "</table>\n",
       "</div>"
      ],
      "text/plain": [
       "         ID               Updated At Status Code  \\\n",
       "2348  33351  2021-03-11 23:22:17 UTC           E   \n",
       "2431  33717  2021-03-11 23:22:17 UTC           E   \n",
       "2880  35337  2021-03-11 23:22:17 UTC           E   \n",
       "2975  35620  2021-03-11 23:22:17 UTC           E   \n",
       "2976  35621  2021-03-11 23:22:17 UTC           E   \n",
       "\n",
       "                                           Station Name Fuel Type Code  \\\n",
       "2348                  City of Lacey - City Hall Parking           ELEC   \n",
       "2431  Seattle-Tacoma International Airport - General...           ELEC   \n",
       "2880                             Haggen Food & Pharmacy           ELEC   \n",
       "2975                                        Avista Corp           ELEC   \n",
       "2976                                  Steam Plant Grill           ELEC   \n",
       "\n",
       "     Access Code           Street Address     City State Country    ZIP  \\\n",
       "2348      public           420 College St    Lacey    WA      US  98503   \n",
       "2431      public      17801 Pacific Hwy S  Seattle    WA      US  98188   \n",
       "2880      public  1313 Cooper Point Rd SW  Olympia    WA      US  98502   \n",
       "2975      public       1411 E Mission Ave  Spokane    WA      US  99252   \n",
       "2976      public         159 S Lincoln St  Spokane    WA      US  99201   \n",
       "\n",
       "       Latitude   Longitude   Open Date EV Pricing  \n",
       "2348  47.044011 -122.822404  2018-01-15        NaN  \n",
       "2431  47.443377 -122.296229  2010-03-01       Free  \n",
       "2880  47.035421 -122.938962  2009-08-15       Free  \n",
       "2975  47.673347 -117.388933  2010-04-15       Free  \n",
       "2976  47.654998 -117.425025  2010-04-15       Free  "
      ]
     },
     "execution_count": 22,
     "metadata": {},
     "output_type": "execute_result"
    }
   ],
   "source": [
    "ev_station_v3.head()"
   ]
  },
  {
   "attachments": {},
   "cell_type": "markdown",
   "metadata": {},
   "source": [
    "checking to see if we need any transformation on the pricing info. it seems we need an big transformation. "
   ]
  },
  {
   "cell_type": "code",
   "execution_count": 23,
   "metadata": {},
   "outputs": [],
   "source": [
    "ev_station_v3[\"quantity\"]= int(1)"
   ]
  },
  {
   "cell_type": "code",
   "execution_count": 24,
   "metadata": {},
   "outputs": [
    {
     "data": {
      "text/plain": [
       "Index(['ID', 'Updated At', 'Status Code', 'Station Name', 'Fuel Type Code',\n",
       "       'Access Code', 'Street Address', 'City', 'State', 'Country', 'ZIP',\n",
       "       'Latitude', 'Longitude', 'Open Date', 'EV Pricing', 'quantity'],\n",
       "      dtype='object')"
      ]
     },
     "execution_count": 24,
     "metadata": {},
     "output_type": "execute_result"
    }
   ],
   "source": [
    "ev_station_v3.columns"
   ]
  },
  {
   "cell_type": "code",
   "execution_count": 25,
   "metadata": {},
   "outputs": [],
   "source": [
    "ev_station_v3['Latitude']= ev_station_v3['Latitude'].astype(str)\n",
    "ev_station_v3['Longitude']= ev_station_v3['Longitude'].astype(str)"
   ]
  },
  {
   "cell_type": "code",
   "execution_count": 26,
   "metadata": {},
   "outputs": [],
   "source": [
    "# ev_station_v3[\"EV Pricing\"].unique()"
   ]
  },
  {
   "attachments": {},
   "cell_type": "markdown",
   "metadata": {},
   "source": [
    "------------------- "
   ]
  },
  {
   "attachments": {},
   "cell_type": "markdown",
   "metadata": {},
   "source": [
    "3. combining two data frames to one df "
   ]
  },
  {
   "attachments": {},
   "cell_type": "markdown",
   "metadata": {},
   "source": [
    "we need to merge two data frame \n",
    "we need to check if the sizes are staied the same"
   ]
  },
  {
   "cell_type": "code",
   "execution_count": 27,
   "metadata": {},
   "outputs": [
    {
     "name": "stdout",
     "output_type": "stream",
     "text": [
      "(1686, 16)\n",
      "(121978, 13)\n"
     ]
    }
   ],
   "source": [
    "print(ev_station_v3.shape)\n",
    "print(df_ev_pop.shape)"
   ]
  },
  {
   "cell_type": "code",
   "execution_count": 28,
   "metadata": {},
   "outputs": [
    {
     "name": "stdout",
     "output_type": "stream",
     "text": [
      "<class 'pandas.core.frame.DataFrame'>\n",
      "Int64Index: 1686 entries, 2348 to 56750\n",
      "Data columns (total 16 columns):\n",
      " #   Column          Non-Null Count  Dtype \n",
      "---  ------          --------------  ----- \n",
      " 0   ID              1686 non-null   int64 \n",
      " 1   Updated At      1686 non-null   object\n",
      " 2   Status Code     1686 non-null   object\n",
      " 3   Station Name    1686 non-null   object\n",
      " 4   Fuel Type Code  1686 non-null   object\n",
      " 5   Access Code     1686 non-null   object\n",
      " 6   Street Address  1686 non-null   object\n",
      " 7   City            1686 non-null   object\n",
      " 8   State           1686 non-null   object\n",
      " 9   Country         1686 non-null   object\n",
      " 10  ZIP             1686 non-null   object\n",
      " 11  Latitude        1686 non-null   object\n",
      " 12  Longitude       1686 non-null   object\n",
      " 13  Open Date       1602 non-null   object\n",
      " 14  EV Pricing      653 non-null    object\n",
      " 15  quantity        1686 non-null   int64 \n",
      "dtypes: int64(2), object(14)\n",
      "memory usage: 223.9+ KB\n"
     ]
    }
   ],
   "source": [
    "ev_station_v3.info()"
   ]
  },
  {
   "cell_type": "code",
   "execution_count": 29,
   "metadata": {},
   "outputs": [],
   "source": [
    "result = pd.merge(ev_station_v3,\n",
    "                  df_ev_pop,\n",
    "                  on = ['Latitude', 'Longitude'],\n",
    "                  how='outer',\n",
    "                  indicator=True\n",
    ")"
   ]
  },
  {
   "cell_type": "code",
   "execution_count": 30,
   "metadata": {},
   "outputs": [
    {
     "data": {
      "text/html": [
       "<div>\n",
       "<style scoped>\n",
       "    .dataframe tbody tr th:only-of-type {\n",
       "        vertical-align: middle;\n",
       "    }\n",
       "\n",
       "    .dataframe tbody tr th {\n",
       "        vertical-align: top;\n",
       "    }\n",
       "\n",
       "    .dataframe thead th {\n",
       "        text-align: right;\n",
       "    }\n",
       "</style>\n",
       "<table border=\"1\" class=\"dataframe\">\n",
       "  <thead>\n",
       "    <tr style=\"text-align: right;\">\n",
       "      <th></th>\n",
       "      <th>ID</th>\n",
       "      <th>Updated At</th>\n",
       "      <th>Status Code</th>\n",
       "      <th>Station Name</th>\n",
       "      <th>Fuel Type Code</th>\n",
       "      <th>Access Code</th>\n",
       "      <th>Street Address</th>\n",
       "      <th>City</th>\n",
       "      <th>State</th>\n",
       "      <th>Country</th>\n",
       "      <th>...</th>\n",
       "      <th>dv_pop_Model</th>\n",
       "      <th>dv_pop_Vehicle_Location</th>\n",
       "      <th>dv_pop_County</th>\n",
       "      <th>dv_pop_City</th>\n",
       "      <th>dv_pop_State</th>\n",
       "      <th>dv_pop_County</th>\n",
       "      <th>dv_pop_Model_Year</th>\n",
       "      <th>dv_pop_last_updated_at</th>\n",
       "      <th>dv_pop_quantity</th>\n",
       "      <th>_merge</th>\n",
       "    </tr>\n",
       "  </thead>\n",
       "  <tbody>\n",
       "    <tr>\n",
       "      <th>0</th>\n",
       "      <td>33351.0</td>\n",
       "      <td>2021-03-11 23:22:17 UTC</td>\n",
       "      <td>E</td>\n",
       "      <td>City of Lacey - City Hall Parking</td>\n",
       "      <td>ELEC</td>\n",
       "      <td>public</td>\n",
       "      <td>420 College St</td>\n",
       "      <td>Lacey</td>\n",
       "      <td>WA</td>\n",
       "      <td>US</td>\n",
       "      <td>...</td>\n",
       "      <td>NaN</td>\n",
       "      <td>NaN</td>\n",
       "      <td>NaN</td>\n",
       "      <td>NaN</td>\n",
       "      <td>NaN</td>\n",
       "      <td>NaN</td>\n",
       "      <td>NaN</td>\n",
       "      <td>NaT</td>\n",
       "      <td>NaN</td>\n",
       "      <td>left_only</td>\n",
       "    </tr>\n",
       "    <tr>\n",
       "      <th>1</th>\n",
       "      <td>33717.0</td>\n",
       "      <td>2021-03-11 23:22:17 UTC</td>\n",
       "      <td>E</td>\n",
       "      <td>Seattle-Tacoma International Airport - General...</td>\n",
       "      <td>ELEC</td>\n",
       "      <td>public</td>\n",
       "      <td>17801 Pacific Hwy S</td>\n",
       "      <td>Seattle</td>\n",
       "      <td>WA</td>\n",
       "      <td>US</td>\n",
       "      <td>...</td>\n",
       "      <td>NaN</td>\n",
       "      <td>NaN</td>\n",
       "      <td>NaN</td>\n",
       "      <td>NaN</td>\n",
       "      <td>NaN</td>\n",
       "      <td>NaN</td>\n",
       "      <td>NaN</td>\n",
       "      <td>NaT</td>\n",
       "      <td>NaN</td>\n",
       "      <td>left_only</td>\n",
       "    </tr>\n",
       "    <tr>\n",
       "      <th>2</th>\n",
       "      <td>35337.0</td>\n",
       "      <td>2021-03-11 23:22:17 UTC</td>\n",
       "      <td>E</td>\n",
       "      <td>Haggen Food &amp; Pharmacy</td>\n",
       "      <td>ELEC</td>\n",
       "      <td>public</td>\n",
       "      <td>1313 Cooper Point Rd SW</td>\n",
       "      <td>Olympia</td>\n",
       "      <td>WA</td>\n",
       "      <td>US</td>\n",
       "      <td>...</td>\n",
       "      <td>NaN</td>\n",
       "      <td>NaN</td>\n",
       "      <td>NaN</td>\n",
       "      <td>NaN</td>\n",
       "      <td>NaN</td>\n",
       "      <td>NaN</td>\n",
       "      <td>NaN</td>\n",
       "      <td>NaT</td>\n",
       "      <td>NaN</td>\n",
       "      <td>left_only</td>\n",
       "    </tr>\n",
       "    <tr>\n",
       "      <th>3</th>\n",
       "      <td>35620.0</td>\n",
       "      <td>2021-03-11 23:22:17 UTC</td>\n",
       "      <td>E</td>\n",
       "      <td>Avista Corp</td>\n",
       "      <td>ELEC</td>\n",
       "      <td>public</td>\n",
       "      <td>1411 E Mission Ave</td>\n",
       "      <td>Spokane</td>\n",
       "      <td>WA</td>\n",
       "      <td>US</td>\n",
       "      <td>...</td>\n",
       "      <td>NaN</td>\n",
       "      <td>NaN</td>\n",
       "      <td>NaN</td>\n",
       "      <td>NaN</td>\n",
       "      <td>NaN</td>\n",
       "      <td>NaN</td>\n",
       "      <td>NaN</td>\n",
       "      <td>NaT</td>\n",
       "      <td>NaN</td>\n",
       "      <td>left_only</td>\n",
       "    </tr>\n",
       "    <tr>\n",
       "      <th>4</th>\n",
       "      <td>35621.0</td>\n",
       "      <td>2021-03-11 23:22:17 UTC</td>\n",
       "      <td>E</td>\n",
       "      <td>Steam Plant Grill</td>\n",
       "      <td>ELEC</td>\n",
       "      <td>public</td>\n",
       "      <td>159 S Lincoln St</td>\n",
       "      <td>Spokane</td>\n",
       "      <td>WA</td>\n",
       "      <td>US</td>\n",
       "      <td>...</td>\n",
       "      <td>NaN</td>\n",
       "      <td>NaN</td>\n",
       "      <td>NaN</td>\n",
       "      <td>NaN</td>\n",
       "      <td>NaN</td>\n",
       "      <td>NaN</td>\n",
       "      <td>NaN</td>\n",
       "      <td>NaT</td>\n",
       "      <td>NaN</td>\n",
       "      <td>left_only</td>\n",
       "    </tr>\n",
       "  </tbody>\n",
       "</table>\n",
       "<p>5 rows × 28 columns</p>\n",
       "</div>"
      ],
      "text/plain": [
       "        ID               Updated At Status Code  \\\n",
       "0  33351.0  2021-03-11 23:22:17 UTC           E   \n",
       "1  33717.0  2021-03-11 23:22:17 UTC           E   \n",
       "2  35337.0  2021-03-11 23:22:17 UTC           E   \n",
       "3  35620.0  2021-03-11 23:22:17 UTC           E   \n",
       "4  35621.0  2021-03-11 23:22:17 UTC           E   \n",
       "\n",
       "                                        Station Name Fuel Type Code  \\\n",
       "0                  City of Lacey - City Hall Parking           ELEC   \n",
       "1  Seattle-Tacoma International Airport - General...           ELEC   \n",
       "2                             Haggen Food & Pharmacy           ELEC   \n",
       "3                                        Avista Corp           ELEC   \n",
       "4                                  Steam Plant Grill           ELEC   \n",
       "\n",
       "  Access Code           Street Address     City State Country  ...  \\\n",
       "0      public           420 College St    Lacey    WA      US  ...   \n",
       "1      public      17801 Pacific Hwy S  Seattle    WA      US  ...   \n",
       "2      public  1313 Cooper Point Rd SW  Olympia    WA      US  ...   \n",
       "3      public       1411 E Mission Ave  Spokane    WA      US  ...   \n",
       "4      public         159 S Lincoln St  Spokane    WA      US  ...   \n",
       "\n",
       "  dv_pop_Model dv_pop_Vehicle_Location  dv_pop_County dv_pop_City  \\\n",
       "0          NaN                     NaN            NaN         NaN   \n",
       "1          NaN                     NaN            NaN         NaN   \n",
       "2          NaN                     NaN            NaN         NaN   \n",
       "3          NaN                     NaN            NaN         NaN   \n",
       "4          NaN                     NaN            NaN         NaN   \n",
       "\n",
       "  dv_pop_State  dv_pop_County  dv_pop_Model_Year dv_pop_last_updated_at  \\\n",
       "0          NaN            NaN                NaN                    NaT   \n",
       "1          NaN            NaN                NaN                    NaT   \n",
       "2          NaN            NaN                NaN                    NaT   \n",
       "3          NaN            NaN                NaN                    NaT   \n",
       "4          NaN            NaN                NaN                    NaT   \n",
       "\n",
       "  dv_pop_quantity     _merge  \n",
       "0             NaN  left_only  \n",
       "1             NaN  left_only  \n",
       "2             NaN  left_only  \n",
       "3             NaN  left_only  \n",
       "4             NaN  left_only  \n",
       "\n",
       "[5 rows x 28 columns]"
      ]
     },
     "execution_count": 30,
     "metadata": {},
     "output_type": "execute_result"
    }
   ],
   "source": [
    "result.head()"
   ]
  },
  {
   "cell_type": "code",
   "execution_count": 31,
   "metadata": {},
   "outputs": [
    {
     "data": {
      "text/plain": [
       "Index(['ID', 'Updated At', 'Status Code', 'Station Name', 'Fuel Type Code',\n",
       "       'Access Code', 'Street Address', 'City', 'State', 'Country', 'ZIP',\n",
       "       'Latitude', 'Longitude', 'Open Date', 'EV Pricing', 'quantity',\n",
       "       'dv_pop_DOL_Vehicle ID', 'dv_pop_Make', 'dv_pop_Model',\n",
       "       'dv_pop_Vehicle_Location', 'dv_pop_County', 'dv_pop_City',\n",
       "       'dv_pop_State', 'dv_pop_County', 'dv_pop_Model_Year',\n",
       "       'dv_pop_last_updated_at', 'dv_pop_quantity', '_merge'],\n",
       "      dtype='object')"
      ]
     },
     "execution_count": 31,
     "metadata": {},
     "output_type": "execute_result"
    }
   ],
   "source": [
    "result.columns"
   ]
  },
  {
   "cell_type": "code",
   "execution_count": 32,
   "metadata": {},
   "outputs": [
    {
     "name": "stdout",
     "output_type": "stream",
     "text": [
      "(1686, 16)\n",
      "(121978, 13)\n"
     ]
    }
   ],
   "source": [
    "print(ev_station_v3.shape)\n",
    "print(df_ev_pop.shape)"
   ]
  },
  {
   "cell_type": "code",
   "execution_count": 33,
   "metadata": {},
   "outputs": [
    {
     "data": {
      "text/plain": [
       "(123664, 28)"
      ]
     },
     "execution_count": 33,
     "metadata": {},
     "output_type": "execute_result"
    }
   ],
   "source": [
    "result.shape"
   ]
  },
  {
   "cell_type": "code",
   "execution_count": 34,
   "metadata": {},
   "outputs": [
    {
     "data": {
      "text/plain": [
       "-1686"
      ]
     },
     "execution_count": 34,
     "metadata": {},
     "output_type": "execute_result"
    }
   ],
   "source": [
    "121978 - 123664"
   ]
  },
  {
   "cell_type": "code",
   "execution_count": 36,
   "metadata": {},
   "outputs": [
    {
     "data": {
      "text/plain": [
       "['left_only', 'right_only']\n",
       "Categories (3, object): ['left_only', 'right_only', 'both']"
      ]
     },
     "execution_count": 36,
     "metadata": {},
     "output_type": "execute_result"
    }
   ],
   "source": [
    "result['_merge'].unique()"
   ]
  },
  {
   "cell_type": "code",
   "execution_count": 40,
   "metadata": {},
   "outputs": [
    {
     "data": {
      "text/plain": [
       "'Lacey, WA'"
      ]
     },
     "execution_count": 40,
     "metadata": {},
     "output_type": "execute_result"
    }
   ],
   "source": [
    "# Concatenate city and state columns with a comma\n",
    "result[\"City\"][0] + \", \" + result[\"State\"][0]"
   ]
  },
  {
   "cell_type": "code",
   "execution_count": 54,
   "metadata": {},
   "outputs": [
    {
     "name": "stdout",
     "output_type": "stream",
     "text": [
      "47.0263876 -122.8072257\n"
     ]
    }
   ],
   "source": [
    "\n",
    "from geopy.geocoders import Nominatim\n",
    "geolocator = Nominatim(user_agent=\"my_app\")\n",
    "\n",
    "location = geolocator.geocode(result[\"City\"][0] + \", \" + result[\"State\"][0])\n",
    "\n",
    "print(location.latitude, location.longitude)"
   ]
  },
  {
   "cell_type": "code",
   "execution_count": 46,
   "metadata": {},
   "outputs": [
    {
     "data": {
      "text/plain": [
       "191"
      ]
     },
     "execution_count": 46,
     "metadata": {},
     "output_type": "execute_result"
    }
   ],
   "source": [
    "len(result.City.unique())"
   ]
  },
  {
   "cell_type": "code",
   "execution_count": 48,
   "metadata": {},
   "outputs": [
    {
     "data": {
      "text/plain": [
       "array(['WA', nan], dtype=object)"
      ]
     },
     "execution_count": 48,
     "metadata": {},
     "output_type": "execute_result"
    }
   ],
   "source": [
    "result.State.unique()"
   ]
  },
  {
   "cell_type": "code",
   "execution_count": null,
   "metadata": {},
   "outputs": [],
   "source": [
    "city_lat = []\n",
    "city_long = []\n",
    "for index, row in result.iterrows():\n",
    "    location = geolocator.geocode(row[\"City\"] + \", \" + row[\"State\"])\n",
    "    city_lat.append(location.latitude)\n",
    "    city_long.append(location.longitude)\n",
    "    \n",
    "result[city_lat] = city_lat\n",
    "result[city_long] = city_long"
   ]
  }
 ],
 "metadata": {
  "kernelspec": {
   "display_name": "Python 3",
   "language": "python",
   "name": "python3"
  },
  "language_info": {
   "codemirror_mode": {
    "name": "ipython",
    "version": 3
   },
   "file_extension": ".py",
   "mimetype": "text/x-python",
   "name": "python",
   "nbconvert_exporter": "python",
   "pygments_lexer": "ipython3",
   "version": "3.10.6"
  },
  "orig_nbformat": 4
 },
 "nbformat": 4,
 "nbformat_minor": 2
}
