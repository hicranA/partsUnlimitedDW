{
 "cells": [
  {
   "attachments": {},
   "cell_type": "markdown",
   "metadata": {},
   "source": [
    "# EV_charginging_facts"
   ]
  },
  {
   "attachments": {},
   "cell_type": "markdown",
   "metadata": {},
   "source": [
    "***Table of Contents***\n",
    "1. Ev Car Poulation \n",
    "    - Information about the dataset\n",
    "    - Extracting \n",
    "        1. Saving to a df\n",
    "        2. Extracting the columns that we need and saving as a new df \n",
    "        3. Removing null values that we do not need \n",
    "    - Transforming \n",
    "        1. Adding registiration date column\n",
    "        2. Splitting the vehichle location to lat and long \n",
    "        3. Adding country column:\n",
    "        4. Adding current registiraction status\n",
    "        5. Adding quantity field\n",
    "        6. Adding pk field \n",
    "        7. Adding SCD columns\n",
    "        8. Transforming column names \n",
    "2. EV Stations Data-Set\n",
    "    - Information about the dataset\n",
    "    - Extracting \n",
    "        1. Saving to a df\n",
    "        2. Extracting the columns that we need and saving as a new df \n",
    "        3. Removing null values and filtering out unnecessary date that we do not need \n",
    "    - Transforming \n",
    "        1. Transforming status code to understandable format for users <br>\n",
    "        2. Adding the quantity column<br>\n",
    "        3. Extracting dollor amount from the price column and transforming to float<br>\n",
    "        4. Adding currency column<br>\n",
    "        5. Adding PK column<br>\n",
    "        6. Adding SK Column <br>\n",
    "        7. Transforming column names <br>\n",
    "        8. Transforming activity_date column to date type <br>\n",
    "        9. Transforming column names <br>\n",
    "3.  Combining two data set to create the ev_charging_fact table\n",
    "4.  Creating the Location data frame \n",
    "    a. extracting location info and save as a df<br>\n",
    "    b. populate region info from a look up table<br>\n",
    "    c. create a pk column<br>\n",
    "    e. adding scd columns<br>\n",
    "    f. merge to the result df to bring pk column to the fact df<br>\n",
    "5.  Creating the date data frame \n",
    "    a. extracting location info and save as a df<br>\n",
    "    b. spearate date, month ,year<br>\n",
    "    c. create a pk column<br>\n",
    "6.  Creating the fact table df \n",
    "7.  Saving cumulative df "
   ]
  },
  {
   "attachments": {},
   "cell_type": "markdown",
   "metadata": {},
   "source": [
    "***Libraries***"
   ]
  },
  {
   "cell_type": "code",
   "execution_count": 268,
   "metadata": {},
   "outputs": [],
   "source": [
    "import warnings\n",
    "warnings.simplefilter(action='ignore', category=Warning)\n",
    "import  pandas as pd "
   ]
  },
  {
   "attachments": {},
   "cell_type": "markdown",
   "metadata": {},
   "source": [
    "## 1  EV Car Population Data "
   ]
  },
  {
   "attachments": {},
   "cell_type": "markdown",
   "metadata": {},
   "source": [
    "Information about the data set\n",
    "\n",
    "* last updated at March 18, 2023\n",
    "The VIN is assigned to a specific vehicle model by the manufacturer, and it remains with the vehicle throughout its lifetime. In contrast, the DOL Vehicle ID is assigned by the Washington State Department of Licensing (DOL) to a specific vehicle when it is registered and titled in Washington State. So the VIN identifies the make, model, and features of a particular vehicle, while the DOL Vehicle ID identifies the vehicle as registered in the state of Washington"
   ]
  },
  {
   "attachments": {},
   "cell_type": "markdown",
   "metadata": {},
   "source": [
    "we need to think this table as scd 3 because the records that this table can hardly change, for example VIN or vehicle id these identifications are important and they almost never change but only field that can change is the registiration status. In our data we do not have field for it but we can create one and assume that we have this field to keep things simple. Logic would be when we refreshing we will check\n",
    "* do we have the record of the specific car in our new data\n",
    "    * if we do we skip it \n",
    "    * else we set the current reg status not_active and prev status to active \n"
   ]
  },
  {
   "attachments": {},
   "cell_type": "markdown",
   "metadata": {},
   "source": [
    "* total populated and extracted data fields :19"
   ]
  },
  {
   "attachments": {},
   "cell_type": "markdown",
   "metadata": {},
   "source": [
    "### 1.1 ---------------------extracting the data -----------"
   ]
  },
  {
   "attachments": {},
   "cell_type": "markdown",
   "metadata": {},
   "source": [
    "1. Loading the data set in a data frame"
   ]
  },
  {
   "cell_type": "code",
   "execution_count": 269,
   "metadata": {},
   "outputs": [
    {
     "data": {
      "text/html": [
       "<div>\n",
       "<style scoped>\n",
       "    .dataframe tbody tr th:only-of-type {\n",
       "        vertical-align: middle;\n",
       "    }\n",
       "\n",
       "    .dataframe tbody tr th {\n",
       "        vertical-align: top;\n",
       "    }\n",
       "\n",
       "    .dataframe thead th {\n",
       "        text-align: right;\n",
       "    }\n",
       "</style>\n",
       "<table border=\"1\" class=\"dataframe\">\n",
       "  <thead>\n",
       "    <tr style=\"text-align: right;\">\n",
       "      <th></th>\n",
       "      <th>VIN (1-10)</th>\n",
       "      <th>County</th>\n",
       "      <th>City</th>\n",
       "      <th>State</th>\n",
       "      <th>Postal Code</th>\n",
       "      <th>Model Year</th>\n",
       "      <th>Make</th>\n",
       "      <th>Model</th>\n",
       "      <th>Electric Vehicle Type</th>\n",
       "      <th>Clean Alternative Fuel Vehicle (CAFV) Eligibility</th>\n",
       "      <th>Electric Range</th>\n",
       "      <th>Base MSRP</th>\n",
       "      <th>Legislative District</th>\n",
       "      <th>DOL Vehicle ID</th>\n",
       "      <th>Vehicle Location</th>\n",
       "      <th>Electric Utility</th>\n",
       "      <th>2020 Census Tract</th>\n",
       "    </tr>\n",
       "  </thead>\n",
       "  <tbody>\n",
       "    <tr>\n",
       "      <th>0</th>\n",
       "      <td>5YJ3E1EB2J</td>\n",
       "      <td>Suffolk</td>\n",
       "      <td>Suffolk</td>\n",
       "      <td>VA</td>\n",
       "      <td>23435.0</td>\n",
       "      <td>2018</td>\n",
       "      <td>TESLA</td>\n",
       "      <td>MODEL 3</td>\n",
       "      <td>Battery Electric Vehicle (BEV)</td>\n",
       "      <td>Clean Alternative Fuel Vehicle Eligible</td>\n",
       "      <td>215</td>\n",
       "      <td>0</td>\n",
       "      <td>NaN</td>\n",
       "      <td>476647986</td>\n",
       "      <td>POINT (-76.42443 36.8752)</td>\n",
       "      <td>NaN</td>\n",
       "      <td>5.180008e+10</td>\n",
       "    </tr>\n",
       "    <tr>\n",
       "      <th>1</th>\n",
       "      <td>5YJ3E1ECXL</td>\n",
       "      <td>Yakima</td>\n",
       "      <td>Yakima</td>\n",
       "      <td>WA</td>\n",
       "      <td>98908.0</td>\n",
       "      <td>2020</td>\n",
       "      <td>TESLA</td>\n",
       "      <td>MODEL 3</td>\n",
       "      <td>Battery Electric Vehicle (BEV)</td>\n",
       "      <td>Clean Alternative Fuel Vehicle Eligible</td>\n",
       "      <td>308</td>\n",
       "      <td>0</td>\n",
       "      <td>14.0</td>\n",
       "      <td>103490145</td>\n",
       "      <td>POINT (-120.56916 46.58514)</td>\n",
       "      <td>PACIFICORP</td>\n",
       "      <td>5.307700e+10</td>\n",
       "    </tr>\n",
       "  </tbody>\n",
       "</table>\n",
       "</div>"
      ],
      "text/plain": [
       "   VIN (1-10)   County     City State  Postal Code  Model Year   Make  \\\n",
       "0  5YJ3E1EB2J  Suffolk  Suffolk    VA      23435.0        2018  TESLA   \n",
       "1  5YJ3E1ECXL   Yakima   Yakima    WA      98908.0        2020  TESLA   \n",
       "\n",
       "     Model           Electric Vehicle Type  \\\n",
       "0  MODEL 3  Battery Electric Vehicle (BEV)   \n",
       "1  MODEL 3  Battery Electric Vehicle (BEV)   \n",
       "\n",
       "  Clean Alternative Fuel Vehicle (CAFV) Eligibility  Electric Range  \\\n",
       "0           Clean Alternative Fuel Vehicle Eligible             215   \n",
       "1           Clean Alternative Fuel Vehicle Eligible             308   \n",
       "\n",
       "   Base MSRP  Legislative District  DOL Vehicle ID  \\\n",
       "0          0                   NaN       476647986   \n",
       "1          0                  14.0       103490145   \n",
       "\n",
       "              Vehicle Location Electric Utility  2020 Census Tract  \n",
       "0    POINT (-76.42443 36.8752)              NaN       5.180008e+10  \n",
       "1  POINT (-120.56916 46.58514)       PACIFICORP       5.307700e+10  "
      ]
     },
     "execution_count": 269,
     "metadata": {},
     "output_type": "execute_result"
    }
   ],
   "source": [
    "ev_pop = pd.read_csv('data/Electric_Vehicle_Population_Data.csv')\n",
    "ev_pop.head(2)"
   ]
  },
  {
   "attachments": {},
   "cell_type": "markdown",
   "metadata": {},
   "source": [
    "2 Exploring: we see that we have 121978 rows  and 17 columns"
   ]
  },
  {
   "cell_type": "code",
   "execution_count": 270,
   "metadata": {},
   "outputs": [
    {
     "data": {
      "text/plain": [
       "(121978, 17)"
      ]
     },
     "execution_count": 270,
     "metadata": {},
     "output_type": "execute_result"
    }
   ],
   "source": [
    "ev_pop.shape"
   ]
  },
  {
   "cell_type": "code",
   "execution_count": 271,
   "metadata": {},
   "outputs": [
    {
     "data": {
      "text/plain": [
       "Index(['VIN (1-10)', 'County', 'City', 'State', 'Postal Code', 'Model Year',\n",
       "       'Make', 'Model', 'Electric Vehicle Type',\n",
       "       'Clean Alternative Fuel Vehicle (CAFV) Eligibility', 'Electric Range',\n",
       "       'Base MSRP', 'Legislative District', 'DOL Vehicle ID',\n",
       "       'Vehicle Location', 'Electric Utility', '2020 Census Tract'],\n",
       "      dtype='object')"
      ]
     },
     "execution_count": 271,
     "metadata": {},
     "output_type": "execute_result"
    }
   ],
   "source": [
    "ev_pop.columns"
   ]
  },
  {
   "attachments": {},
   "cell_type": "markdown",
   "metadata": {},
   "source": [
    "3. extracting the information that we need and saving to a different data frame "
   ]
  },
  {
   "cell_type": "code",
   "execution_count": 272,
   "metadata": {},
   "outputs": [],
   "source": [
    "df_ev_pop = ev_pop[['VIN (1-10)', 'DOL Vehicle ID', 'Make','Model','Vehicle Location', 'City', 'State', 'Model Year']]"
   ]
  },
  {
   "attachments": {},
   "cell_type": "markdown",
   "metadata": {},
   "source": [
    "4. Removing Null Values "
   ]
  },
  {
   "cell_type": "code",
   "execution_count": 273,
   "metadata": {},
   "outputs": [],
   "source": [
    "df_ev_pop = df_ev_pop.loc[df_ev_pop['City'].notnull()]\n",
    "df_ev_pop = df_ev_pop.loc[df_ev_pop['City'].notna()]"
   ]
  },
  {
   "attachments": {},
   "cell_type": "markdown",
   "metadata": {},
   "source": [
    "### 1.2 ------------------- Transforming the Data ---------"
   ]
  },
  {
   "attachments": {},
   "cell_type": "markdown",
   "metadata": {},
   "source": [
    "**1. adding registiration date column:** (this field does not exsist but we need it because we are missing a date dimension) and we are basing registiration date from model year. we are naming this field as activity date because we are going to use this field for our merge <br>\n"
   ]
  },
  {
   "cell_type": "code",
   "execution_count": 274,
   "metadata": {},
   "outputs": [],
   "source": [
    "df_ev_pop[\"activity_date\"] = \"01/01/\" + df_ev_pop['Model Year'].astype(str)"
   ]
  },
  {
   "attachments": {},
   "cell_type": "markdown",
   "metadata": {},
   "source": [
    "now we need to change the data type ad date type"
   ]
  },
  {
   "cell_type": "code",
   "execution_count": 275,
   "metadata": {},
   "outputs": [],
   "source": [
    "df_ev_pop[\"activity_date\"]= df_ev_pop[\"activity_date\"].astype('datetime64[D]')"
   ]
  },
  {
   "attachments": {},
   "cell_type": "markdown",
   "metadata": {},
   "source": [
    "let's drop make "
   ]
  },
  {
   "attachments": {},
   "cell_type": "markdown",
   "metadata": {},
   "source": [
    "we can now drop model year since we have it as a date "
   ]
  },
  {
   "cell_type": "code",
   "execution_count": 276,
   "metadata": {},
   "outputs": [],
   "source": [
    "df_ev_pop = df_ev_pop.drop(columns=['Model Year'])"
   ]
  },
  {
   "attachments": {},
   "cell_type": "markdown",
   "metadata": {},
   "source": [
    "**2. Splitting the vehichle location to lat and long**: We need these fields to spearated so we can create viz or run some analytics queries and we need to make sure \n",
    "that they are stored as float incase we need to calculate the distance in between two location"
   ]
  },
  {
   "cell_type": "code",
   "execution_count": 277,
   "metadata": {},
   "outputs": [
    {
     "data": {
      "text/html": [
       "<div>\n",
       "<style scoped>\n",
       "    .dataframe tbody tr th:only-of-type {\n",
       "        vertical-align: middle;\n",
       "    }\n",
       "\n",
       "    .dataframe tbody tr th {\n",
       "        vertical-align: top;\n",
       "    }\n",
       "\n",
       "    .dataframe thead th {\n",
       "        text-align: right;\n",
       "    }\n",
       "</style>\n",
       "<table border=\"1\" class=\"dataframe\">\n",
       "  <thead>\n",
       "    <tr style=\"text-align: right;\">\n",
       "      <th></th>\n",
       "      <th>VIN (1-10)</th>\n",
       "      <th>DOL Vehicle ID</th>\n",
       "      <th>Make</th>\n",
       "      <th>Model</th>\n",
       "      <th>Vehicle Location</th>\n",
       "      <th>City</th>\n",
       "      <th>State</th>\n",
       "      <th>activity_date</th>\n",
       "      <th>val</th>\n",
       "      <th>Latitude</th>\n",
       "      <th>Longitude</th>\n",
       "    </tr>\n",
       "  </thead>\n",
       "  <tbody>\n",
       "    <tr>\n",
       "      <th>0</th>\n",
       "      <td>5YJ3E1EB2J</td>\n",
       "      <td>476647986</td>\n",
       "      <td>TESLA</td>\n",
       "      <td>MODEL 3</td>\n",
       "      <td>POINT (-76.42443 36.8752)</td>\n",
       "      <td>Suffolk</td>\n",
       "      <td>VA</td>\n",
       "      <td>2018-01-01</td>\n",
       "      <td>POINT</td>\n",
       "      <td>-76.42443</td>\n",
       "      <td>36.8752</td>\n",
       "    </tr>\n",
       "    <tr>\n",
       "      <th>1</th>\n",
       "      <td>5YJ3E1ECXL</td>\n",
       "      <td>103490145</td>\n",
       "      <td>TESLA</td>\n",
       "      <td>MODEL 3</td>\n",
       "      <td>POINT (-120.56916 46.58514)</td>\n",
       "      <td>Yakima</td>\n",
       "      <td>WA</td>\n",
       "      <td>2020-01-01</td>\n",
       "      <td>POINT</td>\n",
       "      <td>-120.56916</td>\n",
       "      <td>46.58514</td>\n",
       "    </tr>\n",
       "    <tr>\n",
       "      <th>2</th>\n",
       "      <td>WA1LAAGE7M</td>\n",
       "      <td>144941534</td>\n",
       "      <td>AUDI</td>\n",
       "      <td>E-TRON</td>\n",
       "      <td>POINT (-120.56916 46.58514)</td>\n",
       "      <td>Yakima</td>\n",
       "      <td>WA</td>\n",
       "      <td>2021-01-01</td>\n",
       "      <td>POINT</td>\n",
       "      <td>-120.56916</td>\n",
       "      <td>46.58514</td>\n",
       "    </tr>\n",
       "    <tr>\n",
       "      <th>3</th>\n",
       "      <td>5YJ3E1EA1K</td>\n",
       "      <td>168513922</td>\n",
       "      <td>TESLA</td>\n",
       "      <td>MODEL 3</td>\n",
       "      <td>POINT (-79.4172 36.58598)</td>\n",
       "      <td>Danville</td>\n",
       "      <td>VA</td>\n",
       "      <td>2019-01-01</td>\n",
       "      <td>POINT</td>\n",
       "      <td>-79.4172</td>\n",
       "      <td>36.58598</td>\n",
       "    </tr>\n",
       "    <tr>\n",
       "      <th>4</th>\n",
       "      <td>1FADP5CU9E</td>\n",
       "      <td>150749378</td>\n",
       "      <td>FORD</td>\n",
       "      <td>C-MAX</td>\n",
       "      <td>POINT (-76.21549 36.92478)</td>\n",
       "      <td>Norfolk</td>\n",
       "      <td>VA</td>\n",
       "      <td>2014-01-01</td>\n",
       "      <td>POINT</td>\n",
       "      <td>-76.21549</td>\n",
       "      <td>36.92478</td>\n",
       "    </tr>\n",
       "  </tbody>\n",
       "</table>\n",
       "</div>"
      ],
      "text/plain": [
       "   VIN (1-10)  DOL Vehicle ID   Make    Model             Vehicle Location  \\\n",
       "0  5YJ3E1EB2J       476647986  TESLA  MODEL 3    POINT (-76.42443 36.8752)   \n",
       "1  5YJ3E1ECXL       103490145  TESLA  MODEL 3  POINT (-120.56916 46.58514)   \n",
       "2  WA1LAAGE7M       144941534   AUDI   E-TRON  POINT (-120.56916 46.58514)   \n",
       "3  5YJ3E1EA1K       168513922  TESLA  MODEL 3    POINT (-79.4172 36.58598)   \n",
       "4  1FADP5CU9E       150749378   FORD    C-MAX   POINT (-76.21549 36.92478)   \n",
       "\n",
       "       City State activity_date    val    Latitude Longitude  \n",
       "0   Suffolk    VA    2018-01-01  POINT   -76.42443   36.8752  \n",
       "1    Yakima    WA    2020-01-01  POINT  -120.56916  46.58514  \n",
       "2    Yakima    WA    2021-01-01  POINT  -120.56916  46.58514  \n",
       "3  Danville    VA    2019-01-01  POINT    -79.4172  36.58598  \n",
       "4   Norfolk    VA    2014-01-01  POINT   -76.21549  36.92478  "
      ]
     },
     "execution_count": 277,
     "metadata": {},
     "output_type": "execute_result"
    }
   ],
   "source": [
    "df_ev_pop[[\"val\", \"Latitude\", \"Longitude\"]] = df_ev_pop['Vehicle Location'].str.split(' ', expand=True)\n",
    "# removing paranthesis \n",
    "df_ev_pop[\"Latitude\"] =  df_ev_pop[\"Latitude\"].str[1:]\n",
    "df_ev_pop[\"Longitude\"] =df_ev_pop[\"Longitude\"].str.replace(')',\"\")\n",
    "df_ev_pop[\"Longitude\"]= df_ev_pop[\"Longitude\"].str.strip()\n",
    "df_ev_pop[\"Latitude\"] =  df_ev_pop[\"Latitude\"].str.strip()\n",
    "df_ev_pop.head()"
   ]
  },
  {
   "cell_type": "code",
   "execution_count": 278,
   "metadata": {},
   "outputs": [],
   "source": [
    "df_ev_pop[\"Longitude\"]= df_ev_pop[\"Longitude\"].astype(float)\n",
    "df_ev_pop[\"Latitude\"] =  df_ev_pop[\"Latitude\"].astype(float)"
   ]
  },
  {
   "cell_type": "code",
   "execution_count": 279,
   "metadata": {},
   "outputs": [],
   "source": [
    "df_ev_pop = df_ev_pop.drop(columns=['val'])\n",
    "df_ev_pop = df_ev_pop.drop(columns=['Vehicle Location'])"
   ]
  },
  {
   "attachments": {},
   "cell_type": "markdown",
   "metadata": {},
   "source": [
    "**3. Adding country column:** We need this field for the merge and it is missing in the original data. We know that all this locations are in united states. so we populate all the rows with US"
   ]
  },
  {
   "cell_type": "code",
   "execution_count": 280,
   "metadata": {},
   "outputs": [],
   "source": [
    "df_ev_pop[\"country\"]= 'US'"
   ]
  },
  {
   "attachments": {},
   "cell_type": "markdown",
   "metadata": {},
   "source": [
    "**4. Adding current registiraction status :** this field does not exsist but we know that people move and when they move the registiration to that state might move to another state and you need to move your registiration. Therefore we are creating this field to keep track of this change"
   ]
  },
  {
   "cell_type": "code",
   "execution_count": 281,
   "metadata": {},
   "outputs": [],
   "source": [
    "df_ev_pop[\"current_reg_status\"]= 'active'"
   ]
  },
  {
   "attachments": {},
   "cell_type": "markdown",
   "metadata": {},
   "source": [
    "**5. Adding quantity field:** we want to keep track how many cars in that region so we are adding the quantity field"
   ]
  },
  {
   "cell_type": "code",
   "execution_count": 282,
   "metadata": {},
   "outputs": [],
   "source": [
    "df_ev_pop[\"quantity\"]= int(1)"
   ]
  },
  {
   "attachments": {},
   "cell_type": "markdown",
   "metadata": {},
   "source": [
    "**6. Adding pk field :** I checked to see if the the records are unique and all of theme were. I used DOL Vehicle ID to check. Since we know we have unique cars we can create new pk number for the cars. "
   ]
  },
  {
   "cell_type": "code",
   "execution_count": 283,
   "metadata": {},
   "outputs": [],
   "source": [
    "df_ev_pop =df_ev_pop.reset_index(drop=True)\n",
    "df_ev_pop['ev_car_pop_id'] =  df_ev_pop.index+1"
   ]
  },
  {
   "attachments": {},
   "cell_type": "markdown",
   "metadata": {},
   "source": [
    "**7. Adding SCD columns:** Since we know that we do not need to keep track of anything other than the registiration status we can add scd type 3 columns.We are adding prev_reg_status column to keep track of the activty status and we will add the updated_at column to see when we update the registiration status."
   ]
  },
  {
   "cell_type": "code",
   "execution_count": 284,
   "metadata": {},
   "outputs": [],
   "source": [
    "df_ev_pop[\"prev_reg_status\"] = ''"
   ]
  },
  {
   "attachments": {},
   "cell_type": "markdown",
   "metadata": {},
   "source": [
    "We can use current date to show the date that acitivity date has been adjusted. We will have registiration date and we will have updated at so this will give you the enough historical information about the this table"
   ]
  },
  {
   "cell_type": "code",
   "execution_count": 285,
   "metadata": {},
   "outputs": [],
   "source": [
    "df_ev_pop[\"reg_sta_updated_at\"]=  pd.Series(dtype='datetime64[ns]')"
   ]
  },
  {
   "attachments": {},
   "cell_type": "markdown",
   "metadata": {},
   "source": [
    "8. Transforming column names : some of the columns have empty spots and we also want to show that this dv-pop data so we add "
   ]
  },
  {
   "cell_type": "code",
   "execution_count": 286,
   "metadata": {},
   "outputs": [
    {
     "data": {
      "text/plain": [
       "Index(['VIN (1-10)', 'DOL Vehicle ID', 'Make', 'Model', 'City', 'State',\n",
       "       'activity_date', 'Latitude', 'Longitude', 'country',\n",
       "       'current_reg_status', 'quantity', 'ev_car_pop_id', 'prev_reg_status',\n",
       "       'reg_sta_updated_at'],\n",
       "      dtype='object')"
      ]
     },
     "execution_count": 286,
     "metadata": {},
     "output_type": "execute_result"
    }
   ],
   "source": [
    "df_ev_pop.columns"
   ]
  },
  {
   "cell_type": "code",
   "execution_count": 287,
   "metadata": {},
   "outputs": [],
   "source": [
    "df_ev_pop.rename(columns={'DOL Vehicle ID': 'dol_vehicle_id', \n",
    "                          'VIN (1-10)': 'vehicle_vin', \n",
    "                          'Make': 'vehicle_make',\n",
    "                          'Latitude': 'latitude',\n",
    "                          'Longitude': 'longitude',\n",
    "                          'City': 'city',\n",
    "                          'State': 'state',\n",
    "                          'Model': 'vehicle_model',\n",
    "                          'quantity': 'vehicle_pop_quantity',\n",
    "                          }, inplace=True)"
   ]
  },
  {
   "cell_type": "code",
   "execution_count": 288,
   "metadata": {},
   "outputs": [
    {
     "name": "stdout",
     "output_type": "stream",
     "text": [
      "<class 'pandas.core.frame.DataFrame'>\n",
      "RangeIndex: 121976 entries, 0 to 121975\n",
      "Data columns (total 15 columns):\n",
      " #   Column                Non-Null Count   Dtype         \n",
      "---  ------                --------------   -----         \n",
      " 0   vehicle_vin           121976 non-null  object        \n",
      " 1   dol_vehicle_id        121976 non-null  int64         \n",
      " 2   vehicle_make          121976 non-null  object        \n",
      " 3   vehicle_model         121872 non-null  object        \n",
      " 4   city                  121976 non-null  object        \n",
      " 5   state                 121976 non-null  object        \n",
      " 6   activity_date         121976 non-null  datetime64[ns]\n",
      " 7   latitude              121946 non-null  float64       \n",
      " 8   longitude             121946 non-null  float64       \n",
      " 9   country               121976 non-null  object        \n",
      " 10  current_reg_status    121976 non-null  object        \n",
      " 11  vehicle_pop_quantity  121976 non-null  int64         \n",
      " 12  ev_car_pop_id         121976 non-null  int64         \n",
      " 13  prev_reg_status       121976 non-null  object        \n",
      " 14  reg_sta_updated_at    0 non-null       datetime64[ns]\n",
      "dtypes: datetime64[ns](2), float64(2), int64(3), object(8)\n",
      "memory usage: 14.0+ MB\n"
     ]
    }
   ],
   "source": [
    "df_ev_pop.info()"
   ]
  },
  {
   "attachments": {},
   "cell_type": "markdown",
   "metadata": {},
   "source": [
    "our final data siz"
   ]
  },
  {
   "cell_type": "code",
   "execution_count": 289,
   "metadata": {},
   "outputs": [
    {
     "data": {
      "text/plain": [
       "(121976, 15)"
      ]
     },
     "execution_count": 289,
     "metadata": {},
     "output_type": "execute_result"
    }
   ],
   "source": [
    "df_ev_pop.shape"
   ]
  },
  {
   "attachments": {},
   "cell_type": "markdown",
   "metadata": {},
   "source": [
    "-----------------------"
   ]
  },
  {
   "attachments": {},
   "cell_type": "markdown",
   "metadata": {},
   "source": [
    "# 2 ev_station data set "
   ]
  },
  {
   "attachments": {},
   "cell_type": "markdown",
   "metadata": {},
   "source": [
    "* \"Access Code\": This tells us if the station is public or private\n",
    "* \"Status Code\": "
   ]
  },
  {
   "attachments": {},
   "cell_type": "markdown",
   "metadata": {},
   "source": [
    "### 2. extracting the data -------------------------"
   ]
  },
  {
   "attachments": {},
   "cell_type": "markdown",
   "metadata": {},
   "source": [
    "**1. Saving to a df:**"
   ]
  },
  {
   "cell_type": "code",
   "execution_count": 290,
   "metadata": {},
   "outputs": [
    {
     "data": {
      "text/html": [
       "<div>\n",
       "<style scoped>\n",
       "    .dataframe tbody tr th:only-of-type {\n",
       "        vertical-align: middle;\n",
       "    }\n",
       "\n",
       "    .dataframe tbody tr th {\n",
       "        vertical-align: top;\n",
       "    }\n",
       "\n",
       "    .dataframe thead th {\n",
       "        text-align: right;\n",
       "    }\n",
       "</style>\n",
       "<table border=\"1\" class=\"dataframe\">\n",
       "  <thead>\n",
       "    <tr style=\"text-align: right;\">\n",
       "      <th></th>\n",
       "      <th>Fuel Type Code</th>\n",
       "      <th>Station Name</th>\n",
       "      <th>Street Address</th>\n",
       "      <th>Intersection Directions</th>\n",
       "      <th>City</th>\n",
       "      <th>State</th>\n",
       "      <th>ZIP</th>\n",
       "      <th>Plus4</th>\n",
       "      <th>Station Phone</th>\n",
       "      <th>Status Code</th>\n",
       "      <th>...</th>\n",
       "      <th>EV Pricing (French)</th>\n",
       "      <th>LPG Nozzle Types</th>\n",
       "      <th>Hydrogen Pressures</th>\n",
       "      <th>Hydrogen Standards</th>\n",
       "      <th>CNG Fill Type Code</th>\n",
       "      <th>CNG PSI</th>\n",
       "      <th>CNG Vehicle Class</th>\n",
       "      <th>LNG Vehicle Class</th>\n",
       "      <th>EV On-Site Renewable Source</th>\n",
       "      <th>Restricted Access</th>\n",
       "    </tr>\n",
       "  </thead>\n",
       "  <tbody>\n",
       "    <tr>\n",
       "      <th>0</th>\n",
       "      <td>CNG</td>\n",
       "      <td>Spire - Montgomery Operations Center</td>\n",
       "      <td>2951 Chestnut St</td>\n",
       "      <td>NaN</td>\n",
       "      <td>Montgomery</td>\n",
       "      <td>AL</td>\n",
       "      <td>36107</td>\n",
       "      <td>NaN</td>\n",
       "      <td>NaN</td>\n",
       "      <td>E</td>\n",
       "      <td>...</td>\n",
       "      <td>NaN</td>\n",
       "      <td>NaN</td>\n",
       "      <td>NaN</td>\n",
       "      <td>NaN</td>\n",
       "      <td>B</td>\n",
       "      <td>3600</td>\n",
       "      <td>MD</td>\n",
       "      <td>NaN</td>\n",
       "      <td>NaN</td>\n",
       "      <td>NaN</td>\n",
       "    </tr>\n",
       "    <tr>\n",
       "      <th>1</th>\n",
       "      <td>CNG</td>\n",
       "      <td>PS Energy - Atlanta</td>\n",
       "      <td>340 Whitehall St</td>\n",
       "      <td>From I-7585 N, exit 91 to Central Ave, left on...</td>\n",
       "      <td>Atlanta</td>\n",
       "      <td>GA</td>\n",
       "      <td>30303</td>\n",
       "      <td>NaN</td>\n",
       "      <td>770-350-3000</td>\n",
       "      <td>E</td>\n",
       "      <td>...</td>\n",
       "      <td>NaN</td>\n",
       "      <td>NaN</td>\n",
       "      <td>NaN</td>\n",
       "      <td>NaN</td>\n",
       "      <td>Q</td>\n",
       "      <td>3600</td>\n",
       "      <td>MD</td>\n",
       "      <td>NaN</td>\n",
       "      <td>NaN</td>\n",
       "      <td>NaN</td>\n",
       "    </tr>\n",
       "    <tr>\n",
       "      <th>2</th>\n",
       "      <td>CNG</td>\n",
       "      <td>Metropolitan Atlanta Rapid Transit Authority</td>\n",
       "      <td>2424 Piedmont Rd NE</td>\n",
       "      <td>NaN</td>\n",
       "      <td>Atlanta</td>\n",
       "      <td>GA</td>\n",
       "      <td>30324</td>\n",
       "      <td>NaN</td>\n",
       "      <td>NaN</td>\n",
       "      <td>E</td>\n",
       "      <td>...</td>\n",
       "      <td>NaN</td>\n",
       "      <td>NaN</td>\n",
       "      <td>NaN</td>\n",
       "      <td>NaN</td>\n",
       "      <td>Q</td>\n",
       "      <td>3000</td>\n",
       "      <td>LD</td>\n",
       "      <td>NaN</td>\n",
       "      <td>NaN</td>\n",
       "      <td>NaN</td>\n",
       "    </tr>\n",
       "    <tr>\n",
       "      <th>3</th>\n",
       "      <td>CNG</td>\n",
       "      <td>United Parcel Service</td>\n",
       "      <td>270 Marvin Miller Dr</td>\n",
       "      <td>NaN</td>\n",
       "      <td>Atlanta</td>\n",
       "      <td>GA</td>\n",
       "      <td>30336</td>\n",
       "      <td>NaN</td>\n",
       "      <td>NaN</td>\n",
       "      <td>E</td>\n",
       "      <td>...</td>\n",
       "      <td>NaN</td>\n",
       "      <td>NaN</td>\n",
       "      <td>NaN</td>\n",
       "      <td>NaN</td>\n",
       "      <td>B</td>\n",
       "      <td>3600</td>\n",
       "      <td>HD</td>\n",
       "      <td>NaN</td>\n",
       "      <td>NaN</td>\n",
       "      <td>NaN</td>\n",
       "    </tr>\n",
       "    <tr>\n",
       "      <th>4</th>\n",
       "      <td>CNG</td>\n",
       "      <td>Clean Energy - Texas Department of Transportation</td>\n",
       "      <td>7721A Washington St</td>\n",
       "      <td>I-10, Washington Ave exit, 1.5 blocks to the s...</td>\n",
       "      <td>Houston</td>\n",
       "      <td>TX</td>\n",
       "      <td>77007</td>\n",
       "      <td>NaN</td>\n",
       "      <td>866-809-4869</td>\n",
       "      <td>E</td>\n",
       "      <td>...</td>\n",
       "      <td>NaN</td>\n",
       "      <td>NaN</td>\n",
       "      <td>NaN</td>\n",
       "      <td>NaN</td>\n",
       "      <td>Q</td>\n",
       "      <td>3000 3600</td>\n",
       "      <td>MD</td>\n",
       "      <td>NaN</td>\n",
       "      <td>NaN</td>\n",
       "      <td>NaN</td>\n",
       "    </tr>\n",
       "  </tbody>\n",
       "</table>\n",
       "<p>5 rows × 65 columns</p>\n",
       "</div>"
      ],
      "text/plain": [
       "  Fuel Type Code                                       Station Name  \\\n",
       "0            CNG               Spire - Montgomery Operations Center   \n",
       "1            CNG                                PS Energy - Atlanta   \n",
       "2            CNG       Metropolitan Atlanta Rapid Transit Authority   \n",
       "3            CNG                              United Parcel Service   \n",
       "4            CNG  Clean Energy - Texas Department of Transportation   \n",
       "\n",
       "         Street Address                            Intersection Directions  \\\n",
       "0      2951 Chestnut St                                                NaN   \n",
       "1      340 Whitehall St  From I-7585 N, exit 91 to Central Ave, left on...   \n",
       "2   2424 Piedmont Rd NE                                                NaN   \n",
       "3  270 Marvin Miller Dr                                                NaN   \n",
       "4   7721A Washington St  I-10, Washington Ave exit, 1.5 blocks to the s...   \n",
       "\n",
       "         City State    ZIP  Plus4 Station Phone Status Code  ...  \\\n",
       "0  Montgomery    AL  36107    NaN           NaN           E  ...   \n",
       "1     Atlanta    GA  30303    NaN  770-350-3000           E  ...   \n",
       "2     Atlanta    GA  30324    NaN           NaN           E  ...   \n",
       "3     Atlanta    GA  30336    NaN           NaN           E  ...   \n",
       "4     Houston    TX  77007    NaN  866-809-4869           E  ...   \n",
       "\n",
       "  EV Pricing (French) LPG Nozzle Types Hydrogen Pressures Hydrogen Standards  \\\n",
       "0                 NaN              NaN                NaN                NaN   \n",
       "1                 NaN              NaN                NaN                NaN   \n",
       "2                 NaN              NaN                NaN                NaN   \n",
       "3                 NaN              NaN                NaN                NaN   \n",
       "4                 NaN              NaN                NaN                NaN   \n",
       "\n",
       "  CNG Fill Type Code    CNG PSI CNG Vehicle Class  LNG Vehicle Class  \\\n",
       "0                  B       3600                MD                NaN   \n",
       "1                  Q       3600                MD                NaN   \n",
       "2                  Q       3000                LD                NaN   \n",
       "3                  B       3600                HD                NaN   \n",
       "4                  Q  3000 3600                MD                NaN   \n",
       "\n",
       "   EV On-Site Renewable Source  Restricted Access  \n",
       "0                          NaN                NaN  \n",
       "1                          NaN                NaN  \n",
       "2                          NaN                NaN  \n",
       "3                          NaN                NaN  \n",
       "4                          NaN                NaN  \n",
       "\n",
       "[5 rows x 65 columns]"
      ]
     },
     "execution_count": 290,
     "metadata": {},
     "output_type": "execute_result"
    }
   ],
   "source": [
    "ev_station = pd.read_csv('data/alt_fuel_stations.csv')\n",
    "ev_station.head(5)"
   ]
  },
  {
   "cell_type": "code",
   "execution_count": 291,
   "metadata": {},
   "outputs": [
    {
     "data": {
      "text/plain": [
       "Index(['Fuel Type Code', 'Station Name', 'Street Address',\n",
       "       'Intersection Directions', 'City', 'State', 'ZIP', 'Plus4',\n",
       "       'Station Phone', 'Status Code', 'Expected Date',\n",
       "       'Groups With Access Code', 'Access Days Time', 'Cards Accepted',\n",
       "       'BD Blends', 'NG Fill Type Code', 'NG PSI', 'EV Level1 EVSE Num',\n",
       "       'EV Level2 EVSE Num', 'EV DC Fast Count', 'EV Other Info', 'EV Network',\n",
       "       'EV Network Web', 'Geocode Status', 'Latitude', 'Longitude',\n",
       "       'Date Last Confirmed', 'ID', 'Updated At', 'Owner Type Code',\n",
       "       'Federal Agency ID', 'Federal Agency Name', 'Open Date',\n",
       "       'Hydrogen Status Link', 'NG Vehicle Class', 'LPG Primary',\n",
       "       'E85 Blender Pump', 'EV Connector Types', 'Country',\n",
       "       'Intersection Directions (French)', 'Access Days Time (French)',\n",
       "       'BD Blends (French)', 'Groups With Access Code (French)',\n",
       "       'Hydrogen Is Retail', 'Access Code', 'Access Detail Code',\n",
       "       'Federal Agency Code', 'Facility Type', 'CNG Dispenser Num',\n",
       "       'CNG On-Site Renewable Source', 'CNG Total Compression Capacity',\n",
       "       'CNG Storage Capacity', 'LNG On-Site Renewable Source',\n",
       "       'E85 Other Ethanol Blends', 'EV Pricing', 'EV Pricing (French)',\n",
       "       'LPG Nozzle Types', 'Hydrogen Pressures', 'Hydrogen Standards',\n",
       "       'CNG Fill Type Code', 'CNG PSI', 'CNG Vehicle Class',\n",
       "       'LNG Vehicle Class', 'EV On-Site Renewable Source',\n",
       "       'Restricted Access'],\n",
       "      dtype='object')"
      ]
     },
     "execution_count": 291,
     "metadata": {},
     "output_type": "execute_result"
    }
   ],
   "source": [
    "ev_station.columns"
   ]
  },
  {
   "attachments": {},
   "cell_type": "markdown",
   "metadata": {},
   "source": [
    "**2. Extracting the columns that we need and saving as a new df:**"
   ]
  },
  {
   "cell_type": "code",
   "execution_count": 292,
   "metadata": {},
   "outputs": [],
   "source": [
    "ev_station_v1 = ev_station[['ID','Status Code', \"Station Name\", 'Fuel Type Code', \"Access Code\",  \"City\", \"State\",\"Country\", \"Latitude\", \"Longitude\", \"Open Date\", 'EV Pricing'] ]\n"
   ]
  },
  {
   "cell_type": "code",
   "execution_count": 293,
   "metadata": {},
   "outputs": [
    {
     "data": {
      "text/plain": [
       "56800"
      ]
     },
     "execution_count": 293,
     "metadata": {},
     "output_type": "execute_result"
    }
   ],
   "source": [
    "len(ev_station_v1)"
   ]
  },
  {
   "attachments": {},
   "cell_type": "markdown",
   "metadata": {},
   "source": [
    "**3. Removing null values and not nessary rows to limit unnessary data:**"
   ]
  },
  {
   "cell_type": "code",
   "execution_count": 294,
   "metadata": {},
   "outputs": [],
   "source": [
    "ev_station_v1 = ev_station_v1.loc[ev_station_v1['City'].notnull()]\n",
    "ev_station_v1 = ev_station_v1.loc[ev_station_v1['City'].notna()]"
   ]
  },
  {
   "cell_type": "code",
   "execution_count": 295,
   "metadata": {},
   "outputs": [
    {
     "data": {
      "text/html": [
       "<div>\n",
       "<style scoped>\n",
       "    .dataframe tbody tr th:only-of-type {\n",
       "        vertical-align: middle;\n",
       "    }\n",
       "\n",
       "    .dataframe tbody tr th {\n",
       "        vertical-align: top;\n",
       "    }\n",
       "\n",
       "    .dataframe thead th {\n",
       "        text-align: right;\n",
       "    }\n",
       "</style>\n",
       "<table border=\"1\" class=\"dataframe\">\n",
       "  <thead>\n",
       "    <tr style=\"text-align: right;\">\n",
       "      <th></th>\n",
       "      <th>ID</th>\n",
       "      <th>Status Code</th>\n",
       "      <th>Station Name</th>\n",
       "      <th>Fuel Type Code</th>\n",
       "      <th>Access Code</th>\n",
       "      <th>City</th>\n",
       "      <th>State</th>\n",
       "      <th>Country</th>\n",
       "      <th>Latitude</th>\n",
       "      <th>Longitude</th>\n",
       "      <th>Open Date</th>\n",
       "      <th>EV Pricing</th>\n",
       "    </tr>\n",
       "  </thead>\n",
       "  <tbody>\n",
       "    <tr>\n",
       "      <th>0</th>\n",
       "      <td>17</td>\n",
       "      <td>E</td>\n",
       "      <td>Spire - Montgomery Operations Center</td>\n",
       "      <td>CNG</td>\n",
       "      <td>private</td>\n",
       "      <td>Montgomery</td>\n",
       "      <td>AL</td>\n",
       "      <td>US</td>\n",
       "      <td>32.367916</td>\n",
       "      <td>-86.267021</td>\n",
       "      <td>2010-12-01</td>\n",
       "      <td>NaN</td>\n",
       "    </tr>\n",
       "    <tr>\n",
       "      <th>1</th>\n",
       "      <td>42</td>\n",
       "      <td>E</td>\n",
       "      <td>PS Energy - Atlanta</td>\n",
       "      <td>CNG</td>\n",
       "      <td>public</td>\n",
       "      <td>Atlanta</td>\n",
       "      <td>GA</td>\n",
       "      <td>US</td>\n",
       "      <td>33.745843</td>\n",
       "      <td>-84.398837</td>\n",
       "      <td>1994-07-15</td>\n",
       "      <td>NaN</td>\n",
       "    </tr>\n",
       "    <tr>\n",
       "      <th>2</th>\n",
       "      <td>45</td>\n",
       "      <td>E</td>\n",
       "      <td>Metropolitan Atlanta Rapid Transit Authority</td>\n",
       "      <td>CNG</td>\n",
       "      <td>private</td>\n",
       "      <td>Atlanta</td>\n",
       "      <td>GA</td>\n",
       "      <td>US</td>\n",
       "      <td>33.821911</td>\n",
       "      <td>-84.367461</td>\n",
       "      <td>1996-12-15</td>\n",
       "      <td>NaN</td>\n",
       "    </tr>\n",
       "    <tr>\n",
       "      <th>3</th>\n",
       "      <td>64</td>\n",
       "      <td>E</td>\n",
       "      <td>United Parcel Service</td>\n",
       "      <td>CNG</td>\n",
       "      <td>private</td>\n",
       "      <td>Atlanta</td>\n",
       "      <td>GA</td>\n",
       "      <td>US</td>\n",
       "      <td>33.760256</td>\n",
       "      <td>-84.543822</td>\n",
       "      <td>1997-01-01</td>\n",
       "      <td>NaN</td>\n",
       "    </tr>\n",
       "    <tr>\n",
       "      <th>4</th>\n",
       "      <td>72</td>\n",
       "      <td>E</td>\n",
       "      <td>Clean Energy - Texas Department of Transportation</td>\n",
       "      <td>CNG</td>\n",
       "      <td>public</td>\n",
       "      <td>Houston</td>\n",
       "      <td>TX</td>\n",
       "      <td>US</td>\n",
       "      <td>29.779918</td>\n",
       "      <td>-95.435385</td>\n",
       "      <td>1996-12-15</td>\n",
       "      <td>NaN</td>\n",
       "    </tr>\n",
       "  </tbody>\n",
       "</table>\n",
       "</div>"
      ],
      "text/plain": [
       "   ID Status Code                                       Station Name  \\\n",
       "0  17           E               Spire - Montgomery Operations Center   \n",
       "1  42           E                                PS Energy - Atlanta   \n",
       "2  45           E       Metropolitan Atlanta Rapid Transit Authority   \n",
       "3  64           E                              United Parcel Service   \n",
       "4  72           E  Clean Energy - Texas Department of Transportation   \n",
       "\n",
       "  Fuel Type Code Access Code        City State Country   Latitude  Longitude  \\\n",
       "0            CNG     private  Montgomery    AL      US  32.367916 -86.267021   \n",
       "1            CNG      public     Atlanta    GA      US  33.745843 -84.398837   \n",
       "2            CNG     private     Atlanta    GA      US  33.821911 -84.367461   \n",
       "3            CNG     private     Atlanta    GA      US  33.760256 -84.543822   \n",
       "4            CNG      public     Houston    TX      US  29.779918 -95.435385   \n",
       "\n",
       "    Open Date EV Pricing  \n",
       "0  2010-12-01        NaN  \n",
       "1  1994-07-15        NaN  \n",
       "2  1996-12-15        NaN  \n",
       "3  1997-01-01        NaN  \n",
       "4  1996-12-15        NaN  "
      ]
     },
     "execution_count": 295,
     "metadata": {},
     "output_type": "execute_result"
    }
   ],
   "source": [
    "ev_station_v1.head()"
   ]
  },
  {
   "attachments": {},
   "cell_type": "markdown",
   "metadata": {},
   "source": [
    "fuel type cng = Compressed Natural Gas (CNG) is a gasoline and diesel fuel alternative consisting primarily of methane. The gas is associated with other fossil fuels (coal or oil) and is created by methanogenic organisms in landfill\n",
    "\n",
    "E85= E85 (or flex fuel) is a term that refers to high-level ethanol-gasoline blends containing 51% to 83% ethanol, depending on geography and season (see Fuel Properties and E85 Flex Fuel Specification).\n",
    "\n",
    "ELEC : electric \n",
    "\n",
    "LPG= LNG is natural gas in its liquid form. \n",
    "\n",
    "BD: ?\n",
    "\n",
    "HY : Hydrogen Fueling"
   ]
  },
  {
   "cell_type": "code",
   "execution_count": 296,
   "metadata": {},
   "outputs": [
    {
     "data": {
      "text/plain": [
       "array(['CNG', 'E85', 'ELEC', 'LNG', 'LPG', 'BD', 'HY'], dtype=object)"
      ]
     },
     "execution_count": 296,
     "metadata": {},
     "output_type": "execute_result"
    }
   ],
   "source": [
    "ev_station_v1[\"Fuel Type Code\"].unique()"
   ]
  },
  {
   "attachments": {},
   "cell_type": "markdown",
   "metadata": {},
   "source": [
    "since we are interested in ev chars we do not need other charging stations information, we filter them out and then drop the fuel type code "
   ]
  },
  {
   "cell_type": "code",
   "execution_count": 297,
   "metadata": {},
   "outputs": [],
   "source": [
    "ev_station_v1 = ev_station_v1.loc[ev_station_v1[\"Fuel Type Code\"]=='ELEC']\n",
    "# ev_station_v3 = ev_station_v2.loc[ev_station_v1[\"State\"]=='WA']"
   ]
  },
  {
   "cell_type": "code",
   "execution_count": 298,
   "metadata": {},
   "outputs": [],
   "source": [
    "ev_station_v1 = ev_station_v1.drop(columns=[\"Fuel Type Code\"])"
   ]
  },
  {
   "cell_type": "code",
   "execution_count": 299,
   "metadata": {},
   "outputs": [
    {
     "data": {
      "text/plain": [
       "Index(['ID', 'Status Code', 'Station Name', 'Access Code', 'City', 'State',\n",
       "       'Country', 'Latitude', 'Longitude', 'Open Date', 'EV Pricing'],\n",
       "      dtype='object')"
      ]
     },
     "execution_count": 299,
     "metadata": {},
     "output_type": "execute_result"
    }
   ],
   "source": [
    "ev_station_v1.columns"
   ]
  },
  {
   "attachments": {},
   "cell_type": "markdown",
   "metadata": {},
   "source": [
    "### 2.3  transforming --------------------------------------"
   ]
  },
  {
   "attachments": {},
   "cell_type": "markdown",
   "metadata": {},
   "source": [
    "**1. Tranforming status code to user friendly print**"
   ]
  },
  {
   "cell_type": "code",
   "execution_count": 300,
   "metadata": {},
   "outputs": [],
   "source": [
    "ev_station_v1['Status Code']= ['not_yet_accessible' if x == 'P' else 'temprorally_closed'  if x =='T'else 'open' for x in ev_station_v1['Status Code']]"
   ]
  },
  {
   "attachments": {},
   "cell_type": "markdown",
   "metadata": {},
   "source": [
    "**2. Adding the quantity column**"
   ]
  },
  {
   "cell_type": "code",
   "execution_count": 301,
   "metadata": {},
   "outputs": [],
   "source": [
    "ev_station_v1[\"ev_cs_quantity\"]= int(1)"
   ]
  },
  {
   "attachments": {},
   "cell_type": "markdown",
   "metadata": {},
   "source": [
    "**3. Extracting dollor amount from the price column and transforming to float**"
   ]
  },
  {
   "cell_type": "code",
   "execution_count": 302,
   "metadata": {},
   "outputs": [
    {
     "data": {
      "text/plain": [
       "159     NaN\n",
       "160    Free\n",
       "161     NaN\n",
       "162     NaN\n",
       "163     NaN\n",
       "Name: EV Pricing, dtype: object"
      ]
     },
     "execution_count": 302,
     "metadata": {},
     "output_type": "execute_result"
    }
   ],
   "source": [
    "ev_station_v1['EV Pricing'].head()"
   ]
  },
  {
   "cell_type": "code",
   "execution_count": 303,
   "metadata": {},
   "outputs": [],
   "source": [
    "#define function for conditional formatting\n",
    "def cond_formatting(x):\n",
    "    if x ==  'Free':\n",
    "        return '$0'\n",
    "    else:\n",
    "        return x"
   ]
  },
  {
   "cell_type": "code",
   "execution_count": 304,
   "metadata": {},
   "outputs": [],
   "source": [
    "ev_station_v1['EV Pricing']=ev_station_v1['EV Pricing'].apply(cond_formatting)"
   ]
  },
  {
   "cell_type": "code",
   "execution_count": 305,
   "metadata": {},
   "outputs": [
    {
     "data": {
      "text/plain": [
       "159    NaN\n",
       "160     $0\n",
       "161    NaN\n",
       "162    NaN\n",
       "163    NaN\n",
       "Name: EV Pricing, dtype: object"
      ]
     },
     "execution_count": 305,
     "metadata": {},
     "output_type": "execute_result"
    }
   ],
   "source": [
    "ev_station_v1['EV Pricing'].head()"
   ]
  },
  {
   "cell_type": "code",
   "execution_count": 306,
   "metadata": {},
   "outputs": [],
   "source": [
    "df_price = ev_station_v1['EV Pricing'].str.extract(r'\\$(\\d+(?:\\.\\d{2})?)')"
   ]
  },
  {
   "cell_type": "code",
   "execution_count": 307,
   "metadata": {},
   "outputs": [
    {
     "name": "stdout",
     "output_type": "stream",
     "text": [
      "new column size  47086\n",
      "df size  47086\n"
     ]
    }
   ],
   "source": [
    "print(\"new column size \", len(df_price))\n",
    "\n",
    "print(\"df size \", len(ev_station_v1))"
   ]
  },
  {
   "cell_type": "code",
   "execution_count": 308,
   "metadata": {},
   "outputs": [],
   "source": [
    "ev_station_v1['EV Pricing'] = df_price"
   ]
  },
  {
   "cell_type": "code",
   "execution_count": 309,
   "metadata": {},
   "outputs": [],
   "source": [
    "ev_station_v1['EV Pricing'] = ev_station_v1['EV Pricing'].astype(float)"
   ]
  },
  {
   "attachments": {},
   "cell_type": "markdown",
   "metadata": {},
   "source": [
    "**4. Adding currency column**"
   ]
  },
  {
   "cell_type": "code",
   "execution_count": 310,
   "metadata": {},
   "outputs": [],
   "source": [
    "ev_station_v1['currency']= \"USD\""
   ]
  },
  {
   "attachments": {},
   "cell_type": "markdown",
   "metadata": {},
   "source": [
    "**5. Adding PK column**"
   ]
  },
  {
   "cell_type": "code",
   "execution_count": 311,
   "metadata": {},
   "outputs": [],
   "source": [
    "ev_station_v1 =ev_station_v1.reset_index(drop=True)\n",
    "ev_station_v1['ev_cs_dim_id'] =  ev_station_v1.index+1"
   ]
  },
  {
   "attachments": {},
   "cell_type": "markdown",
   "metadata": {},
   "source": [
    "**6. Adding SK Column**"
   ]
  },
  {
   "cell_type": "code",
   "execution_count": 312,
   "metadata": {},
   "outputs": [],
   "source": [
    "ev_station_v1 =ev_station_v1.reset_index(drop=True)\n",
    "ev_station_v1['sk_ev_dim_id'] =  ev_station_v1.index+1"
   ]
  },
  {
   "attachments": {},
   "cell_type": "markdown",
   "metadata": {},
   "source": [
    "**7. Adding SCD columns:**"
   ]
  },
  {
   "cell_type": "code",
   "execution_count": 313,
   "metadata": {},
   "outputs": [],
   "source": [
    "ev_station_v1[\"row_effective_date\"]= pd.to_datetime(\"04/21/2023\")\n",
    "ev_station_v1[\"row_expiration_date\"]= pd.Series(dtype='datetime64[ns]')\n",
    "ev_station_v1[\"row_status\"]=\"active\""
   ]
  },
  {
   "attachments": {},
   "cell_type": "markdown",
   "metadata": {},
   "source": [
    "**8. Tranforming columns**"
   ]
  },
  {
   "cell_type": "code",
   "execution_count": 314,
   "metadata": {},
   "outputs": [
    {
     "data": {
      "text/plain": [
       "Index(['ID', 'Status Code', 'Station Name', 'Access Code', 'City', 'State',\n",
       "       'Country', 'Latitude', 'Longitude', 'Open Date', 'EV Pricing',\n",
       "       'ev_cs_quantity', 'currency', 'ev_cs_dim_id', 'sk_ev_dim_id',\n",
       "       'row_effective_date', 'row_expiration_date', 'row_status'],\n",
       "      dtype='object')"
      ]
     },
     "execution_count": 314,
     "metadata": {},
     "output_type": "execute_result"
    }
   ],
   "source": [
    "ev_station_v1.columns"
   ]
  },
  {
   "cell_type": "code",
   "execution_count": 315,
   "metadata": {},
   "outputs": [],
   "source": [
    "ev_station_v1.rename(columns={'ID': 'charging_station_id', \n",
    "                              'Station Name' : 'station_name',\n",
    "                          'Status Code': 'status_code', \n",
    "                          'Status Code': 'status_code', \n",
    "                          'EV Pricing': 'ev_price',\n",
    "                          'Latitude': 'latitude',\n",
    "                          'Longitude': 'longitude',\n",
    "                          'Access Code' : 'access_code',\n",
    "                          'Open Date' : 'activity_date',\n",
    "                          'City': 'city',\n",
    "                          'Country': 'country',\n",
    "                          'State': 'state',\n",
    "                          'Model': 'vehicle_model',\n",
    "                          'quantity': 'vehicle_pop_quantity',\n",
    "                          }, inplace=True)"
   ]
  },
  {
   "attachments": {},
   "cell_type": "markdown",
   "metadata": {},
   "source": [
    "**9. Transforming activity_date column to date type**"
   ]
  },
  {
   "cell_type": "code",
   "execution_count": 316,
   "metadata": {},
   "outputs": [],
   "source": [
    "ev_station_v1[\"activity_date\"]= ev_station_v1[\"activity_date\"].astype('datetime64[D]')"
   ]
  },
  {
   "cell_type": "code",
   "execution_count": 317,
   "metadata": {},
   "outputs": [
    {
     "name": "stdout",
     "output_type": "stream",
     "text": [
      "<class 'pandas.core.frame.DataFrame'>\n",
      "RangeIndex: 47086 entries, 0 to 47085\n",
      "Data columns (total 18 columns):\n",
      " #   Column               Non-Null Count  Dtype         \n",
      "---  ------               --------------  -----         \n",
      " 0   charging_station_id  47086 non-null  int64         \n",
      " 1   status_code          47086 non-null  object        \n",
      " 2   station_name         47086 non-null  object        \n",
      " 3   access_code          47086 non-null  object        \n",
      " 4   city                 47086 non-null  object        \n",
      " 5   state                47086 non-null  object        \n",
      " 6   country              47086 non-null  object        \n",
      " 7   latitude             47086 non-null  float64       \n",
      " 8   longitude            47086 non-null  float64       \n",
      " 9   activity_date        45791 non-null  datetime64[ns]\n",
      " 10  ev_price             13376 non-null  float64       \n",
      " 11  ev_cs_quantity       47086 non-null  int64         \n",
      " 12  currency             47086 non-null  object        \n",
      " 13  ev_cs_dim_id         47086 non-null  int64         \n",
      " 14  sk_ev_dim_id         47086 non-null  int64         \n",
      " 15  row_effective_date   47086 non-null  datetime64[ns]\n",
      " 16  row_expiration_date  0 non-null      datetime64[ns]\n",
      " 17  row_status           47086 non-null  object        \n",
      "dtypes: datetime64[ns](3), float64(3), int64(4), object(8)\n",
      "memory usage: 6.5+ MB\n"
     ]
    }
   ],
   "source": [
    "ev_station_v1.info()"
   ]
  },
  {
   "attachments": {},
   "cell_type": "markdown",
   "metadata": {},
   "source": [
    "------------------- "
   ]
  },
  {
   "attachments": {},
   "cell_type": "markdown",
   "metadata": {},
   "source": [
    "# 3. combining two data frames to one df "
   ]
  },
  {
   "attachments": {},
   "cell_type": "markdown",
   "metadata": {},
   "source": [
    "we need to merge two data frame \n",
    "we need to check if the sizes are staied the same"
   ]
  },
  {
   "cell_type": "code",
   "execution_count": 318,
   "metadata": {},
   "outputs": [
    {
     "name": "stdout",
     "output_type": "stream",
     "text": [
      "(47086, 18)\n",
      "(121976, 15)\n"
     ]
    }
   ],
   "source": [
    "print(ev_station_v1.shape)\n",
    "print(df_ev_pop.shape)"
   ]
  },
  {
   "cell_type": "code",
   "execution_count": 319,
   "metadata": {},
   "outputs": [
    {
     "name": "stdout",
     "output_type": "stream",
     "text": [
      "result will have  28 columns\n"
     ]
    }
   ],
   "source": [
    "print('result will have ', ((18-6)+(15-6)+6+1), 'columns')#+1 for the _merge column"
   ]
  },
  {
   "cell_type": "code",
   "execution_count": 320,
   "metadata": {},
   "outputs": [
    {
     "data": {
      "text/plain": [
       "Index(['vehicle_vin', 'dol_vehicle_id', 'vehicle_make', 'vehicle_model',\n",
       "       'city', 'state', 'activity_date', 'latitude', 'longitude', 'country',\n",
       "       'current_reg_status', 'vehicle_pop_quantity', 'ev_car_pop_id',\n",
       "       'prev_reg_status', 'reg_sta_updated_at'],\n",
       "      dtype='object')"
      ]
     },
     "execution_count": 320,
     "metadata": {},
     "output_type": "execute_result"
    }
   ],
   "source": [
    "df_ev_pop.columns"
   ]
  },
  {
   "cell_type": "code",
   "execution_count": 321,
   "metadata": {},
   "outputs": [
    {
     "data": {
      "text/plain": [
       "Index(['charging_station_id', 'status_code', 'station_name', 'access_code',\n",
       "       'city', 'state', 'country', 'latitude', 'longitude', 'activity_date',\n",
       "       'ev_price', 'ev_cs_quantity', 'currency', 'ev_cs_dim_id',\n",
       "       'sk_ev_dim_id', 'row_effective_date', 'row_expiration_date',\n",
       "       'row_status'],\n",
       "      dtype='object')"
      ]
     },
     "execution_count": 321,
     "metadata": {},
     "output_type": "execute_result"
    }
   ],
   "source": [
    "ev_station_v1.columns"
   ]
  },
  {
   "cell_type": "code",
   "execution_count": 322,
   "metadata": {},
   "outputs": [],
   "source": [
    "result = pd.merge(ev_station_v1,\n",
    "                  df_ev_pop,\n",
    "                  on = ['latitude', 'longitude','city', 'state','country', 'activity_date'],\n",
    "                  how='outer',\n",
    "                  indicator=True\n",
    ")"
   ]
  },
  {
   "cell_type": "code",
   "execution_count": 323,
   "metadata": {},
   "outputs": [
    {
     "data": {
      "text/plain": [
       "(169062, 28)"
      ]
     },
     "execution_count": 323,
     "metadata": {},
     "output_type": "execute_result"
    }
   ],
   "source": [
    "result.shape"
   ]
  },
  {
   "attachments": {},
   "cell_type": "markdown",
   "metadata": {},
   "source": [
    "# 4.Creating the Location data frame "
   ]
  },
  {
   "attachments": {},
   "cell_type": "markdown",
   "metadata": {},
   "source": [
    "1. extract the location data "
   ]
  },
  {
   "cell_type": "code",
   "execution_count": 324,
   "metadata": {},
   "outputs": [
    {
     "data": {
      "text/html": [
       "<div>\n",
       "<style scoped>\n",
       "    .dataframe tbody tr th:only-of-type {\n",
       "        vertical-align: middle;\n",
       "    }\n",
       "\n",
       "    .dataframe tbody tr th {\n",
       "        vertical-align: top;\n",
       "    }\n",
       "\n",
       "    .dataframe thead th {\n",
       "        text-align: right;\n",
       "    }\n",
       "</style>\n",
       "<table border=\"1\" class=\"dataframe\">\n",
       "  <thead>\n",
       "    <tr style=\"text-align: right;\">\n",
       "      <th></th>\n",
       "      <th>latitude</th>\n",
       "      <th>longitude</th>\n",
       "      <th>city</th>\n",
       "      <th>state</th>\n",
       "      <th>country</th>\n",
       "      <th>size</th>\n",
       "    </tr>\n",
       "  </thead>\n",
       "  <tbody>\n",
       "    <tr>\n",
       "      <th>0</th>\n",
       "      <td>-159.71288</td>\n",
       "      <td>21.96605</td>\n",
       "      <td>Kekaha</td>\n",
       "      <td>HI</td>\n",
       "      <td>US</td>\n",
       "      <td>1</td>\n",
       "    </tr>\n",
       "    <tr>\n",
       "      <th>1</th>\n",
       "      <td>-158.00833</td>\n",
       "      <td>21.31431</td>\n",
       "      <td>Ewa Beach</td>\n",
       "      <td>HI</td>\n",
       "      <td>US</td>\n",
       "      <td>1</td>\n",
       "    </tr>\n",
       "    <tr>\n",
       "      <th>2</th>\n",
       "      <td>-157.94001</td>\n",
       "      <td>21.34183</td>\n",
       "      <td>Honolulu</td>\n",
       "      <td>HI</td>\n",
       "      <td>US</td>\n",
       "      <td>1</td>\n",
       "    </tr>\n",
       "    <tr>\n",
       "      <th>3</th>\n",
       "      <td>-157.93084</td>\n",
       "      <td>21.38013</td>\n",
       "      <td>Aiea</td>\n",
       "      <td>HI</td>\n",
       "      <td>US</td>\n",
       "      <td>1</td>\n",
       "    </tr>\n",
       "    <tr>\n",
       "      <th>4</th>\n",
       "      <td>-147.72213</td>\n",
       "      <td>64.84527</td>\n",
       "      <td>Fairbanks</td>\n",
       "      <td>AK</td>\n",
       "      <td>US</td>\n",
       "      <td>1</td>\n",
       "    </tr>\n",
       "  </tbody>\n",
       "</table>\n",
       "</div>"
      ],
      "text/plain": [
       "    latitude  longitude       city state country  size\n",
       "0 -159.71288   21.96605     Kekaha    HI      US     1\n",
       "1 -158.00833   21.31431  Ewa Beach    HI      US     1\n",
       "2 -157.94001   21.34183   Honolulu    HI      US     1\n",
       "3 -157.93084   21.38013       Aiea    HI      US     1\n",
       "4 -147.72213   64.84527  Fairbanks    AK      US     1"
      ]
     },
     "execution_count": 324,
     "metadata": {},
     "output_type": "execute_result"
    }
   ],
   "source": [
    "location_df= result.groupby(['latitude', 'longitude','city', 'state', 'country'], as_index=False).size()\n",
    "location_df.head()"
   ]
  },
  {
   "cell_type": "code",
   "execution_count": 325,
   "metadata": {},
   "outputs": [],
   "source": [
    "location_df_distinct_city = result.groupby(['city', 'state', 'country'], as_index=False).size()"
   ]
  },
  {
   "attachments": {},
   "cell_type": "markdown",
   "metadata": {},
   "source": [
    "2. Add region data "
   ]
  },
  {
   "cell_type": "code",
   "execution_count": 326,
   "metadata": {},
   "outputs": [],
   "source": [
    "def get_region(state):\n",
    "    regions = {\n",
    "        'AL': 'South',\n",
    "        'AK': 'West',\n",
    "        'AZ': 'West',\n",
    "        'AR': 'South',\n",
    "        'CA': 'West',\n",
    "        'CO': 'West',\n",
    "        'CT': 'Northeast',\n",
    "        'DE': 'South',\n",
    "        'FL': 'South',\n",
    "        'GA': 'South',\n",
    "        'HI': 'West',\n",
    "        'ID': 'West',\n",
    "        'IL': 'Midwest',\n",
    "        'IN': 'Midwest',\n",
    "        'IA': 'Midwest',\n",
    "        'KS': 'Midwest',\n",
    "        'KY': 'South',\n",
    "        'LA': 'South',\n",
    "        'ME': 'Northeast',\n",
    "        'MD': 'South',\n",
    "        'MA': 'Northeast',\n",
    "        'MI': 'Midwest',\n",
    "        'MN': 'Midwest',\n",
    "        'MS': 'South',\n",
    "        'MO': 'Midwest',\n",
    "        'MT': 'West',\n",
    "        'NE': 'Midwest',\n",
    "        'NV': 'West',\n",
    "        'NH': 'Northeast',\n",
    "        'NJ': 'Northeast',\n",
    "        'NM': 'West',\n",
    "        'NY': 'Northeast',\n",
    "        'NC': 'South',\n",
    "        'ND': 'Midwest',\n",
    "        'OH': 'Midwest',\n",
    "        'OK': 'South',\n",
    "        'OR': 'West',\n",
    "        'PA': 'Northeast',\n",
    "        'RI': 'Northeast',\n",
    "        'SC': 'South',\n",
    "        'SD': 'Midwest',\n",
    "        'TN': 'South',\n",
    "        'TX': 'South',\n",
    "        'UT': 'West',\n",
    "        'VT': 'Northeast',\n",
    "        'VA': 'South',\n",
    "        'WA': 'West',\n",
    "        'WV': 'South',\n",
    "        'WI': 'Midwest',\n",
    "        'WY': 'West',\n",
    "    }\n",
    "    return regions.get(state, None)\n"
   ]
  },
  {
   "cell_type": "code",
   "execution_count": 327,
   "metadata": {},
   "outputs": [],
   "source": [
    "location_df['region']= location_df['state'].apply(get_region)"
   ]
  },
  {
   "cell_type": "code",
   "execution_count": 328,
   "metadata": {},
   "outputs": [
    {
     "data": {
      "text/html": [
       "<div>\n",
       "<style scoped>\n",
       "    .dataframe tbody tr th:only-of-type {\n",
       "        vertical-align: middle;\n",
       "    }\n",
       "\n",
       "    .dataframe tbody tr th {\n",
       "        vertical-align: top;\n",
       "    }\n",
       "\n",
       "    .dataframe thead th {\n",
       "        text-align: right;\n",
       "    }\n",
       "</style>\n",
       "<table border=\"1\" class=\"dataframe\">\n",
       "  <thead>\n",
       "    <tr style=\"text-align: right;\">\n",
       "      <th></th>\n",
       "      <th>latitude</th>\n",
       "      <th>longitude</th>\n",
       "      <th>city</th>\n",
       "      <th>state</th>\n",
       "      <th>country</th>\n",
       "      <th>size</th>\n",
       "      <th>region</th>\n",
       "    </tr>\n",
       "  </thead>\n",
       "  <tbody>\n",
       "    <tr>\n",
       "      <th>0</th>\n",
       "      <td>-159.71288</td>\n",
       "      <td>21.96605</td>\n",
       "      <td>Kekaha</td>\n",
       "      <td>HI</td>\n",
       "      <td>US</td>\n",
       "      <td>1</td>\n",
       "      <td>West</td>\n",
       "    </tr>\n",
       "    <tr>\n",
       "      <th>1</th>\n",
       "      <td>-158.00833</td>\n",
       "      <td>21.31431</td>\n",
       "      <td>Ewa Beach</td>\n",
       "      <td>HI</td>\n",
       "      <td>US</td>\n",
       "      <td>1</td>\n",
       "      <td>West</td>\n",
       "    </tr>\n",
       "    <tr>\n",
       "      <th>2</th>\n",
       "      <td>-157.94001</td>\n",
       "      <td>21.34183</td>\n",
       "      <td>Honolulu</td>\n",
       "      <td>HI</td>\n",
       "      <td>US</td>\n",
       "      <td>1</td>\n",
       "      <td>West</td>\n",
       "    </tr>\n",
       "    <tr>\n",
       "      <th>3</th>\n",
       "      <td>-157.93084</td>\n",
       "      <td>21.38013</td>\n",
       "      <td>Aiea</td>\n",
       "      <td>HI</td>\n",
       "      <td>US</td>\n",
       "      <td>1</td>\n",
       "      <td>West</td>\n",
       "    </tr>\n",
       "    <tr>\n",
       "      <th>4</th>\n",
       "      <td>-147.72213</td>\n",
       "      <td>64.84527</td>\n",
       "      <td>Fairbanks</td>\n",
       "      <td>AK</td>\n",
       "      <td>US</td>\n",
       "      <td>1</td>\n",
       "      <td>West</td>\n",
       "    </tr>\n",
       "  </tbody>\n",
       "</table>\n",
       "</div>"
      ],
      "text/plain": [
       "    latitude  longitude       city state country  size region\n",
       "0 -159.71288   21.96605     Kekaha    HI      US     1   West\n",
       "1 -158.00833   21.31431  Ewa Beach    HI      US     1   West\n",
       "2 -157.94001   21.34183   Honolulu    HI      US     1   West\n",
       "3 -157.93084   21.38013       Aiea    HI      US     1   West\n",
       "4 -147.72213   64.84527  Fairbanks    AK      US     1   West"
      ]
     },
     "execution_count": 328,
     "metadata": {},
     "output_type": "execute_result"
    }
   ],
   "source": [
    "location_df.head()"
   ]
  },
  {
   "cell_type": "code",
   "execution_count": 329,
   "metadata": {},
   "outputs": [],
   "source": [
    "location_df = location_df.drop(columns=['size'])"
   ]
  },
  {
   "cell_type": "code",
   "execution_count": 330,
   "metadata": {},
   "outputs": [
    {
     "data": {
      "text/html": [
       "<div>\n",
       "<style scoped>\n",
       "    .dataframe tbody tr th:only-of-type {\n",
       "        vertical-align: middle;\n",
       "    }\n",
       "\n",
       "    .dataframe tbody tr th {\n",
       "        vertical-align: top;\n",
       "    }\n",
       "\n",
       "    .dataframe thead th {\n",
       "        text-align: right;\n",
       "    }\n",
       "</style>\n",
       "<table border=\"1\" class=\"dataframe\">\n",
       "  <thead>\n",
       "    <tr style=\"text-align: right;\">\n",
       "      <th></th>\n",
       "      <th>latitude</th>\n",
       "      <th>longitude</th>\n",
       "      <th>city</th>\n",
       "      <th>state</th>\n",
       "      <th>country</th>\n",
       "      <th>region</th>\n",
       "    </tr>\n",
       "  </thead>\n",
       "  <tbody>\n",
       "    <tr>\n",
       "      <th>0</th>\n",
       "      <td>-159.71288</td>\n",
       "      <td>21.96605</td>\n",
       "      <td>Kekaha</td>\n",
       "      <td>HI</td>\n",
       "      <td>US</td>\n",
       "      <td>West</td>\n",
       "    </tr>\n",
       "    <tr>\n",
       "      <th>1</th>\n",
       "      <td>-158.00833</td>\n",
       "      <td>21.31431</td>\n",
       "      <td>Ewa Beach</td>\n",
       "      <td>HI</td>\n",
       "      <td>US</td>\n",
       "      <td>West</td>\n",
       "    </tr>\n",
       "    <tr>\n",
       "      <th>2</th>\n",
       "      <td>-157.94001</td>\n",
       "      <td>21.34183</td>\n",
       "      <td>Honolulu</td>\n",
       "      <td>HI</td>\n",
       "      <td>US</td>\n",
       "      <td>West</td>\n",
       "    </tr>\n",
       "    <tr>\n",
       "      <th>3</th>\n",
       "      <td>-157.93084</td>\n",
       "      <td>21.38013</td>\n",
       "      <td>Aiea</td>\n",
       "      <td>HI</td>\n",
       "      <td>US</td>\n",
       "      <td>West</td>\n",
       "    </tr>\n",
       "    <tr>\n",
       "      <th>4</th>\n",
       "      <td>-147.72213</td>\n",
       "      <td>64.84527</td>\n",
       "      <td>Fairbanks</td>\n",
       "      <td>AK</td>\n",
       "      <td>US</td>\n",
       "      <td>West</td>\n",
       "    </tr>\n",
       "  </tbody>\n",
       "</table>\n",
       "</div>"
      ],
      "text/plain": [
       "    latitude  longitude       city state country region\n",
       "0 -159.71288   21.96605     Kekaha    HI      US   West\n",
       "1 -158.00833   21.31431  Ewa Beach    HI      US   West\n",
       "2 -157.94001   21.34183   Honolulu    HI      US   West\n",
       "3 -157.93084   21.38013       Aiea    HI      US   West\n",
       "4 -147.72213   64.84527  Fairbanks    AK      US   West"
      ]
     },
     "execution_count": 330,
     "metadata": {},
     "output_type": "execute_result"
    }
   ],
   "source": [
    "location_df.head()"
   ]
  },
  {
   "attachments": {},
   "cell_type": "markdown",
   "metadata": {},
   "source": [
    "**adding city lat and long** "
   ]
  },
  {
   "attachments": {},
   "cell_type": "markdown",
   "metadata": {},
   "source": [
    "creating dstinct city,state, country df "
   ]
  },
  {
   "cell_type": "code",
   "execution_count": 331,
   "metadata": {},
   "outputs": [],
   "source": [
    "distinct_city = location_df.groupby(['city', 'state', 'country'], as_index=False).size()"
   ]
  },
  {
   "cell_type": "code",
   "execution_count": 332,
   "metadata": {},
   "outputs": [],
   "source": [
    "import pandas as pd "
   ]
  },
  {
   "cell_type": "code",
   "execution_count": 333,
   "metadata": {},
   "outputs": [
    {
     "data": {
      "text/html": [
       "<div>\n",
       "<style scoped>\n",
       "    .dataframe tbody tr th:only-of-type {\n",
       "        vertical-align: middle;\n",
       "    }\n",
       "\n",
       "    .dataframe tbody tr th {\n",
       "        vertical-align: top;\n",
       "    }\n",
       "\n",
       "    .dataframe thead th {\n",
       "        text-align: right;\n",
       "    }\n",
       "</style>\n",
       "<table border=\"1\" class=\"dataframe\">\n",
       "  <thead>\n",
       "    <tr style=\"text-align: right;\">\n",
       "      <th></th>\n",
       "      <th>City</th>\n",
       "      <th>State</th>\n",
       "      <th>Country</th>\n",
       "      <th>size</th>\n",
       "      <th>city_lat</th>\n",
       "      <th>city_long</th>\n",
       "    </tr>\n",
       "  </thead>\n",
       "  <tbody>\n",
       "    <tr>\n",
       "      <th>0</th>\n",
       "      <td>AIKEN</td>\n",
       "      <td>SC</td>\n",
       "      <td>US</td>\n",
       "      <td>1</td>\n",
       "      <td>33.572319</td>\n",
       "      <td>-81.618209</td>\n",
       "    </tr>\n",
       "    <tr>\n",
       "      <th>1</th>\n",
       "      <td>ANN ARBOR</td>\n",
       "      <td>MI</td>\n",
       "      <td>US</td>\n",
       "      <td>1</td>\n",
       "      <td>42.268157</td>\n",
       "      <td>-83.731229</td>\n",
       "    </tr>\n",
       "    <tr>\n",
       "      <th>2</th>\n",
       "      <td>ANTHEM</td>\n",
       "      <td>AZ</td>\n",
       "      <td>US</td>\n",
       "      <td>1</td>\n",
       "      <td>33.858395</td>\n",
       "      <td>-112.11357</td>\n",
       "    </tr>\n",
       "    <tr>\n",
       "      <th>3</th>\n",
       "      <td>AUBURN</td>\n",
       "      <td>WA</td>\n",
       "      <td>US</td>\n",
       "      <td>1</td>\n",
       "      <td>47.307537</td>\n",
       "      <td>-122.230181</td>\n",
       "    </tr>\n",
       "    <tr>\n",
       "      <th>4</th>\n",
       "      <td>Abbotsford</td>\n",
       "      <td>WI</td>\n",
       "      <td>US</td>\n",
       "      <td>1</td>\n",
       "      <td>44.946356</td>\n",
       "      <td>-90.315969</td>\n",
       "    </tr>\n",
       "  </tbody>\n",
       "</table>\n",
       "</div>"
      ],
      "text/plain": [
       "         City State Country  size   city_lat   city_long\n",
       "0       AIKEN    SC      US     1  33.572319  -81.618209\n",
       "1   ANN ARBOR    MI      US     1  42.268157  -83.731229\n",
       "2      ANTHEM    AZ      US     1  33.858395  -112.11357\n",
       "3      AUBURN    WA      US     1  47.307537 -122.230181\n",
       "4  Abbotsford    WI      US     1  44.946356  -90.315969"
      ]
     },
     "execution_count": 333,
     "metadata": {},
     "output_type": "execute_result"
    }
   ],
   "source": [
    "city_lat_long = pd.read_pickle('data/df_cities2.pkl')\n",
    "city_lat_long.head()"
   ]
  },
  {
   "cell_type": "code",
   "execution_count": 334,
   "metadata": {},
   "outputs": [
    {
     "name": "stdout",
     "output_type": "stream",
     "text": [
      "size 2018\n"
     ]
    },
    {
     "data": {
      "text/html": [
       "<div>\n",
       "<style scoped>\n",
       "    .dataframe tbody tr th:only-of-type {\n",
       "        vertical-align: middle;\n",
       "    }\n",
       "\n",
       "    .dataframe tbody tr th {\n",
       "        vertical-align: top;\n",
       "    }\n",
       "\n",
       "    .dataframe thead th {\n",
       "        text-align: right;\n",
       "    }\n",
       "</style>\n",
       "<table border=\"1\" class=\"dataframe\">\n",
       "  <thead>\n",
       "    <tr style=\"text-align: right;\">\n",
       "      <th></th>\n",
       "      <th>City</th>\n",
       "      <th>State</th>\n",
       "      <th>Country</th>\n",
       "      <th>size</th>\n",
       "      <th>city_lat</th>\n",
       "      <th>city_long</th>\n",
       "    </tr>\n",
       "  </thead>\n",
       "  <tbody>\n",
       "    <tr>\n",
       "      <th>4673</th>\n",
       "      <td>Phoenix City</td>\n",
       "      <td>AL</td>\n",
       "      <td>US</td>\n",
       "      <td>1</td>\n",
       "      <td>NaN</td>\n",
       "      <td>NaN</td>\n",
       "    </tr>\n",
       "    <tr>\n",
       "      <th>4674</th>\n",
       "      <td>Phoenixville</td>\n",
       "      <td>PA</td>\n",
       "      <td>US</td>\n",
       "      <td>6</td>\n",
       "      <td>NaN</td>\n",
       "      <td>NaN</td>\n",
       "    </tr>\n",
       "    <tr>\n",
       "      <th>4675</th>\n",
       "      <td>Picayune</td>\n",
       "      <td>MS</td>\n",
       "      <td>US</td>\n",
       "      <td>1</td>\n",
       "      <td>NaN</td>\n",
       "      <td>NaN</td>\n",
       "    </tr>\n",
       "    <tr>\n",
       "      <th>4676</th>\n",
       "      <td>Pickens</td>\n",
       "      <td>SC</td>\n",
       "      <td>US</td>\n",
       "      <td>1</td>\n",
       "      <td>NaN</td>\n",
       "      <td>NaN</td>\n",
       "    </tr>\n",
       "    <tr>\n",
       "      <th>4677</th>\n",
       "      <td>Pickerington</td>\n",
       "      <td>OH</td>\n",
       "      <td>US</td>\n",
       "      <td>2</td>\n",
       "      <td>NaN</td>\n",
       "      <td>NaN</td>\n",
       "    </tr>\n",
       "  </tbody>\n",
       "</table>\n",
       "</div>"
      ],
      "text/plain": [
       "              City State Country  size city_lat city_long\n",
       "4673  Phoenix City    AL      US     1      NaN       NaN\n",
       "4674  Phoenixville    PA      US     6      NaN       NaN\n",
       "4675      Picayune    MS      US     1      NaN       NaN\n",
       "4676       Pickens    SC      US     1      NaN       NaN\n",
       "4677  Pickerington    OH      US     2      NaN       NaN"
      ]
     },
     "execution_count": 334,
     "metadata": {},
     "output_type": "execute_result"
    }
   ],
   "source": [
    "city_lat_long_missing = pd.read_pickle('data/df_cities_missing2.pkl')\n",
    "print(\"size\",len(city_lat_long_missing))\n",
    "city_lat_long_missing.head()"
   ]
  },
  {
   "cell_type": "code",
   "execution_count": 335,
   "metadata": {},
   "outputs": [
    {
     "name": "stdout",
     "output_type": "stream",
     "text": [
      "size 6691\n",
      "original distinct df 6687\n",
      "difference 4\n"
     ]
    }
   ],
   "source": [
    "city_lat_long_v3 =  pd.concat([city_lat_long, city_lat_long_missing], ignore_index=True)\n",
    "print('size',len( city_lat_long_v3))\n",
    "print('original distinct df', len(distinct_city))\n",
    "print('difference', (6691- 6687))"
   ]
  },
  {
   "cell_type": "code",
   "execution_count": 336,
   "metadata": {},
   "outputs": [],
   "source": [
    "city_lat_long_v3.to_pickle('data/citylatlong.pk')"
   ]
  },
  {
   "cell_type": "code",
   "execution_count": 337,
   "metadata": {},
   "outputs": [],
   "source": [
    "city_lat_long_v3.rename(columns={\n",
    "                          'City': 'city',\n",
    "                          'Country': 'country',\n",
    "                          'State': 'state',\n",
    "                          }, inplace=True)"
   ]
  },
  {
   "cell_type": "code",
   "execution_count": 338,
   "metadata": {},
   "outputs": [
    {
     "data": {
      "text/plain": [
       "Index(['city', 'state', 'country', 'size', 'city_lat', 'city_long'], dtype='object')"
      ]
     },
     "execution_count": 338,
     "metadata": {},
     "output_type": "execute_result"
    }
   ],
   "source": [
    "city_lat_long_v3.columns"
   ]
  },
  {
   "cell_type": "code",
   "execution_count": 339,
   "metadata": {},
   "outputs": [
    {
     "data": {
      "text/html": [
       "<div>\n",
       "<style scoped>\n",
       "    .dataframe tbody tr th:only-of-type {\n",
       "        vertical-align: middle;\n",
       "    }\n",
       "\n",
       "    .dataframe tbody tr th {\n",
       "        vertical-align: top;\n",
       "    }\n",
       "\n",
       "    .dataframe thead th {\n",
       "        text-align: right;\n",
       "    }\n",
       "</style>\n",
       "<table border=\"1\" class=\"dataframe\">\n",
       "  <thead>\n",
       "    <tr style=\"text-align: right;\">\n",
       "      <th></th>\n",
       "      <th>city</th>\n",
       "      <th>state</th>\n",
       "      <th>country</th>\n",
       "      <th>size_x</th>\n",
       "      <th>size_y</th>\n",
       "      <th>city_lat</th>\n",
       "      <th>city_long</th>\n",
       "      <th>_merge</th>\n",
       "    </tr>\n",
       "  </thead>\n",
       "  <tbody>\n",
       "    <tr>\n",
       "      <th>6687</th>\n",
       "      <td>Bucoda</td>\n",
       "      <td>WA</td>\n",
       "      <td>US</td>\n",
       "      <td>NaN</td>\n",
       "      <td>1</td>\n",
       "      <td>46.797721</td>\n",
       "      <td>-122.868455</td>\n",
       "      <td>right_only</td>\n",
       "    </tr>\n",
       "    <tr>\n",
       "      <th>6688</th>\n",
       "      <td>Kapowsin</td>\n",
       "      <td>WA</td>\n",
       "      <td>US</td>\n",
       "      <td>NaN</td>\n",
       "      <td>1</td>\n",
       "      <td>46.985658</td>\n",
       "      <td>-122.22567</td>\n",
       "      <td>right_only</td>\n",
       "    </tr>\n",
       "    <tr>\n",
       "      <th>6689</th>\n",
       "      <td>Southworth</td>\n",
       "      <td>WA</td>\n",
       "      <td>US</td>\n",
       "      <td>NaN</td>\n",
       "      <td>2</td>\n",
       "      <td>NaN</td>\n",
       "      <td>NaN</td>\n",
       "      <td>right_only</td>\n",
       "    </tr>\n",
       "    <tr>\n",
       "      <th>6690</th>\n",
       "      <td>Wilkeson</td>\n",
       "      <td>WA</td>\n",
       "      <td>US</td>\n",
       "      <td>NaN</td>\n",
       "      <td>4</td>\n",
       "      <td>NaN</td>\n",
       "      <td>NaN</td>\n",
       "      <td>right_only</td>\n",
       "    </tr>\n",
       "  </tbody>\n",
       "</table>\n",
       "</div>"
      ],
      "text/plain": [
       "            city state country  size_x  size_y   city_lat   city_long  \\\n",
       "6687      Bucoda    WA      US     NaN       1  46.797721 -122.868455   \n",
       "6688    Kapowsin    WA      US     NaN       1  46.985658  -122.22567   \n",
       "6689  Southworth    WA      US     NaN       2        NaN         NaN   \n",
       "6690    Wilkeson    WA      US     NaN       4        NaN         NaN   \n",
       "\n",
       "          _merge  \n",
       "6687  right_only  \n",
       "6688  right_only  \n",
       "6689  right_only  \n",
       "6690  right_only  "
      ]
     },
     "execution_count": 339,
     "metadata": {},
     "output_type": "execute_result"
    }
   ],
   "source": [
    "distinct_city.merge(city_lat_long_v3, on=['city', 'state', 'country'], how='outer', indicator=True).query(\"_merge != 'both'\")"
   ]
  },
  {
   "cell_type": "code",
   "execution_count": 340,
   "metadata": {},
   "outputs": [],
   "source": [
    "location_df.loc[(location_df['city'] == 'Porland') & (location_df['state'] == 'OR'), 'city'] = 'Portland'\n",
    "location_df.loc[(location_df['city'] == 'Astoira') & (location_df['state'] == 'OR'), 'city'] = 'Astoria'\n",
    "location_df.loc[(location_df['city'] == 'Milw') & (location_df['state'] == 'WI'), 'city'] = 'Milwaukee'\n",
    "location_df.loc[(location_df['city'] == 'El Dorado OCL') & (location_df['state'] == 'KS'), 'city'] = 'El Dorado'\n",
    "location_df.loc[(location_df['city'] == 'Topeka OCL') & (location_df['state'] == 'KS'), 'city'] = 'Topeka'\n",
    "location_df.loc[(location_df['city'] == 'Lawrence OCL') & (location_df['state'] == 'KS'), 'city'] = 'Lawrence'\n",
    "location_df.loc[(location_df['city'] == \"St. Mary's\") & (location_df['state'] == 'KS'), 'city'] = 'Saint Marys'\n",
    "location_df.loc[(location_df['city'] == \"Richalnd\") & (location_df['state'] == 'WA'), 'city'] = 'Richland'\n",
    "location_df.loc[(location_df['city'] == \"Juno Bech\") & (location_df['state'] == 'FL'), 'city'] = 'Juno Beach'\n",
    "location_df.loc[(location_df['city'] == \"Cassellberry\") & (location_df['state'] == 'FL'), 'city'] = 'Casselberry'\n",
    "location_df.loc[(location_df['city'] == \"Biglake\") & (location_df['state'] == 'TX'), 'city'] = 'Big Lake'\n",
    "location_df.loc[(location_df['city'] == \"Amer Cyn\") & (location_df['state'] == 'CA'), 'city'] = 'American Canyon'\n",
    "location_df.loc[(location_df['city'] == \"Sacranemto\") & (location_df['state'] == 'CA'), 'city'] = 'Sacramento'\n",
    "location_df.loc[(location_df['city'] == \"Porteville\") & (location_df['state'] == 'CA'), 'city'] = 'Porterville'\n",
    "location_df.loc[(location_df['city'] == \"SpringCity\") & (location_df['state'] == 'TN'), 'city'] = 'Spring City'\n",
    "location_df.loc[(location_df['city'] == \"Mufreesboro\") & (location_df['state'] == 'TN'), 'city'] = 'Murfreesboro'\n",
    "location_df.loc[(location_df['city'] == \"Coeur dAlene\") & (location_df['state'] == 'ID'), 'city'] = \"Coeur d'Alene\"\n",
    "location_df.loc[(location_df['city'] == \"Broomfiled\") & (location_df['state'] == 'CO'), 'city'] =  \"Broomfield\"\n",
    "location_df.loc[(location_df['city'] == \"Holidaysburg\") & (location_df['state'] == 'PA'), 'city'] =  \"Hollidaysburg\"\n",
    "location_df.loc[(location_df['city'] == \"Owigsburg\") & (location_df['state'] == 'PA'), 'city'] =  \"Orwigsburg\"\n",
    "location_df.loc[(location_df['city'] == \"East Peorria\") & (location_df['state'] == 'IL'), 'city'] =  \"East Peoria\"\n",
    "location_df.loc[(location_df['city'] == \"Elk Grove Villa\") & (location_df['state'] == 'IL'), 'city'] =  \"Elk Grove Village\"\n",
    "location_df.loc[(location_df['city'] == \"Phoenix City\") & (location_df['state'] == 'AL'), 'city'] =  \"Phenix City\""
   ]
  },
  {
   "cell_type": "code",
   "execution_count": 341,
   "metadata": {},
   "outputs": [],
   "source": [
    "location_df.loc[(location_df['city'] == \"Rockyhill\") & (location_df['state'] == 'CT'), 'city'] =  \"Rocky Hill\"\n",
    "location_df.loc[(location_df['city'] == \"Rte 47, Washington\") & (location_df['state'] == 'CT'), 'city'] =  \"Woodbury\"\n",
    "location_df.loc[(location_df['city'] == \"South Windsor\") & (location_df['state'] == 'CT'), 'city'] =  \"South Windsor\"\n",
    "location_df.loc[(location_df['city'] == \"South Yarmotuh\") & (location_df['state'] == 'MA'), 'city'] =  \"South Yarmouth\"\n",
    "location_df.loc[(location_df['city'] == \"Jamaica Plains\") & (location_df['state'] == 'MA'), 'city'] =  \"Jamaica Plain\"\n",
    "location_df.loc[(location_df['city'] == \"SummerVille\") & (location_df['state'] == 'NJ'), 'city'] =  \"Somerville\"\n",
    "location_df.loc[(location_df['city'] == \"Brea\") & (location_df['state'] == 'KY'), 'city'] =  \"Berea\"\n",
    "location_df.loc[(location_df['city'] == \"Twinsburb\") & (location_df['state'] == 'OH'), 'city'] =  \"Twinsburg\"\n",
    "location_df.loc[(location_df['city'] == \"Chentilly\") & (location_df['state'] == 'VA'), 'city'] =  \"Chantilly\"\n",
    "location_df.loc[(location_df['city'] == \"St. Marys City\") & (location_df['state'] == 'MD'), 'city'] =  \"Saint Marys City\"\n",
    "location_df.loc[(location_df['city'] == \"Elliott City\") & (location_df['state'] == 'MD'), 'city'] =  \"Ellicott City\"\n",
    "location_df.loc[(location_df['city'] == \"Eldersberg\") & (location_df['state'] == 'MD'), 'city'] =  \"Eldersburg\"\n",
    "location_df.loc[(location_df['city'] == \"Warner Robbins\") & (location_df['state'] == 'GA'), 'city'] =  \"Warner Robins\"\n",
    "location_df.loc[(location_df['city'] == \"Robinsonille\") & (location_df['state'] == 'MS'), 'city'] =  \"Robinsonville\"\n",
    "location_df.loc[(location_df['city'] == \"Kernsersville\") & (location_df['state'] == 'NC'), 'city'] =  \"Kernersville\"\n",
    "location_df.loc[(location_df['city'] == \"Mt. St. Francis\") & (location_df['state'] == 'IN'), 'city'] =  \"Mount Saint Francis\"\n",
    "location_df.loc[(location_df['city'] == \"Grauger\") & (location_df['state'] == 'IN'), 'city'] =  \"Granger\"\n",
    "location_df.loc[(location_df['city'] == \"FE Warren AFB\") & (location_df['state'] == 'WY'), 'city'] =  \"Francis E. Warren Air Force Base\"\n",
    "location_df.loc[(location_df['city'] == \"Clfton Park\") & (location_df['state'] == 'NY'), 'city'] =  \"Clifton Park\"\n",
    "location_df.loc[(location_df['city'] == \"Amerst\") & (location_df['state'] == 'NY'), 'city'] =  \"Amherst\"\n",
    "location_df.loc[(location_df['city'] == \"St Albans City\") & (location_df['state'] == 'VT'), 'city'] =  \"St Albans City F.C.\"\n",
    "location_df.loc[(location_df['city'] == \"L?hu?e\") & (location_df['state'] == 'HI'), 'city'] =  \"Lihue\""
   ]
  },
  {
   "cell_type": "code",
   "execution_count": 342,
   "metadata": {},
   "outputs": [],
   "source": [
    "merge = pd.merge(location_df, city_lat_long_v3 , on =['city', 'state', 'country']) "
   ]
  },
  {
   "cell_type": "code",
   "execution_count": 343,
   "metadata": {},
   "outputs": [
    {
     "data": {
      "text/html": [
       "<div>\n",
       "<style scoped>\n",
       "    .dataframe tbody tr th:only-of-type {\n",
       "        vertical-align: middle;\n",
       "    }\n",
       "\n",
       "    .dataframe tbody tr th {\n",
       "        vertical-align: top;\n",
       "    }\n",
       "\n",
       "    .dataframe thead th {\n",
       "        text-align: right;\n",
       "    }\n",
       "</style>\n",
       "<table border=\"1\" class=\"dataframe\">\n",
       "  <thead>\n",
       "    <tr style=\"text-align: right;\">\n",
       "      <th></th>\n",
       "      <th>latitude</th>\n",
       "      <th>longitude</th>\n",
       "      <th>city</th>\n",
       "      <th>state</th>\n",
       "      <th>country</th>\n",
       "      <th>region</th>\n",
       "      <th>size</th>\n",
       "      <th>city_lat</th>\n",
       "      <th>city_long</th>\n",
       "    </tr>\n",
       "  </thead>\n",
       "  <tbody>\n",
       "    <tr>\n",
       "      <th>0</th>\n",
       "      <td>-159.712880</td>\n",
       "      <td>21.966050</td>\n",
       "      <td>Kekaha</td>\n",
       "      <td>HI</td>\n",
       "      <td>US</td>\n",
       "      <td>West</td>\n",
       "      <td>1</td>\n",
       "      <td>21.967281</td>\n",
       "      <td>-159.713603</td>\n",
       "    </tr>\n",
       "    <tr>\n",
       "      <th>1</th>\n",
       "      <td>-158.008330</td>\n",
       "      <td>21.314310</td>\n",
       "      <td>Ewa Beach</td>\n",
       "      <td>HI</td>\n",
       "      <td>US</td>\n",
       "      <td>West</td>\n",
       "      <td>3</td>\n",
       "      <td>21.315603</td>\n",
       "      <td>-158.008804</td>\n",
       "    </tr>\n",
       "    <tr>\n",
       "      <th>2</th>\n",
       "      <td>21.328272</td>\n",
       "      <td>-158.027542</td>\n",
       "      <td>Ewa Beach</td>\n",
       "      <td>HI</td>\n",
       "      <td>US</td>\n",
       "      <td>West</td>\n",
       "      <td>3</td>\n",
       "      <td>21.315603</td>\n",
       "      <td>-158.008804</td>\n",
       "    </tr>\n",
       "    <tr>\n",
       "      <th>3</th>\n",
       "      <td>21.334180</td>\n",
       "      <td>-158.023420</td>\n",
       "      <td>Ewa Beach</td>\n",
       "      <td>HI</td>\n",
       "      <td>US</td>\n",
       "      <td>West</td>\n",
       "      <td>3</td>\n",
       "      <td>21.315603</td>\n",
       "      <td>-158.008804</td>\n",
       "    </tr>\n",
       "    <tr>\n",
       "      <th>4</th>\n",
       "      <td>-157.940010</td>\n",
       "      <td>21.341830</td>\n",
       "      <td>Honolulu</td>\n",
       "      <td>HI</td>\n",
       "      <td>US</td>\n",
       "      <td>West</td>\n",
       "      <td>139</td>\n",
       "      <td>21.304547</td>\n",
       "      <td>-157.855676</td>\n",
       "    </tr>\n",
       "  </tbody>\n",
       "</table>\n",
       "</div>"
      ],
      "text/plain": [
       "     latitude   longitude       city state country region  size   city_lat  \\\n",
       "0 -159.712880   21.966050     Kekaha    HI      US   West     1  21.967281   \n",
       "1 -158.008330   21.314310  Ewa Beach    HI      US   West     3  21.315603   \n",
       "2   21.328272 -158.027542  Ewa Beach    HI      US   West     3  21.315603   \n",
       "3   21.334180 -158.023420  Ewa Beach    HI      US   West     3  21.315603   \n",
       "4 -157.940010   21.341830   Honolulu    HI      US   West   139  21.304547   \n",
       "\n",
       "    city_long  \n",
       "0 -159.713603  \n",
       "1 -158.008804  \n",
       "2 -158.008804  \n",
       "3 -158.008804  \n",
       "4 -157.855676  "
      ]
     },
     "execution_count": 343,
     "metadata": {},
     "output_type": "execute_result"
    }
   ],
   "source": [
    "merge.head()"
   ]
  },
  {
   "cell_type": "code",
   "execution_count": 346,
   "metadata": {},
   "outputs": [],
   "source": [
    "merge.loc[(merge['city'] == 'Riverside') & (merge['state'] == 'MO'), 'city_lat'] = 39.1775\n",
    "merge.loc[(merge['city'] == 'Riverside') & (merge['state'] == 'MO'), 'city_long'] = 94.6130\n",
    "merge.loc[(merge['city'] == 'Albertville') & (merge['state'] == 'NM'), 'city_lat'] = 45.2312\n",
    "merge.loc[(merge['city'] == 'Albertville') & (merge['state'] == 'NM'), 'city_long'] = 93.6688\n",
    "merge.loc[(merge['city'] == 'NOT AVAILABLE FOR USE') & (merge['state'] == 'MI'), 'city_lat'] = 44.3148\n",
    "merge.loc[(merge['city'] == 'NOT AVAILABLE FOR USE') & (merge['state'] == 'MI'), 'city_long'] = 85.6024"
   ]
  },
  {
   "cell_type": "code",
   "execution_count": 345,
   "metadata": {},
   "outputs": [
    {
     "ename": "SyntaxError",
     "evalue": "invalid syntax (3311633845.py, line 1)",
     "output_type": "error",
     "traceback": [
      "\u001b[0;36m  Cell \u001b[0;32mIn[345], line 1\u001b[0;36m\u001b[0m\n\u001b[0;31m    -----\u001b[0m\n\u001b[0m         ^\u001b[0m\n\u001b[0;31mSyntaxError\u001b[0m\u001b[0;31m:\u001b[0m invalid syntax\n"
     ]
    }
   ],
   "source": [
    "-----"
   ]
  },
  {
   "cell_type": "code",
   "execution_count": null,
   "metadata": {},
   "outputs": [],
   "source": [
    "print('missing cities', len(city_lat_long_missing))"
   ]
  },
  {
   "cell_type": "code",
   "execution_count": null,
   "metadata": {},
   "outputs": [],
   "source": [
    "# city_lat_long_missing_filled = city_lat_long_missing.loc[city_lat_long_missing['city_lat'].notna(), :]\n",
    "# city_lat_long_missing2 = city_lat_long_missing.loc[~ city_lat_long_missing['city_lat'].notna(), :]\n",
    "# city_lat_long_missing2_filled = city_lat_long_missing2.loc[city_lat_long_missing2['city_lat'].notna(), :]\n",
    "# city_lat_long_missing3 = city_lat_long_missing2.loc[~ city_lat_long_missing2['city_lat'].notna(), :]\n",
    "# city_lat_long_v1 = pd.concat([city_lat_long, city_lat_long_missing_filled], ignore_index=True)\n",
    "# city_lat_long_v2 =  pd.concat([city_lat_long_v1, city_lat_long_missing2_filled], ignore_index=True)\n",
    "# city_lat_long_v3 =  pd.concat([city_lat_long_v2, city_lat_long_missing3_filled], ignore_index=True)\n",
    "# # save the DataFrame to a pickle file\n",
    "# city_lat_long_missing4.to_pickle('df_cities_missing2.pkl')\n",
    "# city_lat_long_v3.to_pickle('df_cities2.pkl')"
   ]
  },
  {
   "cell_type": "code",
   "execution_count": null,
   "metadata": {},
   "outputs": [],
   "source": [
    "location_df = merge\n",
    "location_df.head()"
   ]
  },
  {
   "attachments": {},
   "cell_type": "markdown",
   "metadata": {},
   "source": [
    "**3. create pk column**"
   ]
  },
  {
   "cell_type": "code",
   "execution_count": null,
   "metadata": {},
   "outputs": [],
   "source": [
    "location_df = location_df.reset_index(drop=True)\n",
    "location_df['location_id']= location_df.index+1"
   ]
  },
  {
   "cell_type": "code",
   "execution_count": null,
   "metadata": {},
   "outputs": [],
   "source": [
    "result.shape"
   ]
  },
  {
   "attachments": {},
   "cell_type": "markdown",
   "metadata": {},
   "source": [
    "**adding scd columns**"
   ]
  },
  {
   "cell_type": "code",
   "execution_count": null,
   "metadata": {},
   "outputs": [],
   "source": [
    "import numpy as np"
   ]
  },
  {
   "cell_type": "code",
   "execution_count": null,
   "metadata": {},
   "outputs": [],
   "source": [
    "location_df['latitude_prev']= float(np.NaN)\n",
    "location_df['longitude_prev']= float(np.NaN)"
   ]
  },
  {
   "attachments": {},
   "cell_type": "markdown",
   "metadata": {},
   "source": [
    "**merging to the fact table**"
   ]
  },
  {
   "cell_type": "code",
   "execution_count": null,
   "metadata": {},
   "outputs": [],
   "source": [
    "result = pd.merge(result, location_df, on=['latitude', 'longitude', 'city', 'state', 'country'])\n",
    "result.head()"
   ]
  },
  {
   "cell_type": "code",
   "execution_count": null,
   "metadata": {},
   "outputs": [],
   "source": [
    "result.shape"
   ]
  },
  {
   "cell_type": "code",
   "execution_count": null,
   "metadata": {},
   "outputs": [],
   "source": [
    "# query example \n",
    "# result['dv_pop_quantity']=result['dv_pop_quantity'].fillna(0)\n",
    "# result['quantity']=result['quantity'].fillna(0)\n",
    "# result['quantity'].unique()\n",
    "\n",
    "# summary = result.groupby(['City', 'State', 'Country']).agg({'dv_pop_quantity': 'sum','quantity': 'sum' })\n",
    "# summary"
   ]
  },
  {
   "attachments": {},
   "cell_type": "markdown",
   "metadata": {},
   "source": [
    "---------------------------"
   ]
  },
  {
   "cell_type": "code",
   "execution_count": null,
   "metadata": {},
   "outputs": [],
   "source": [
    "result.columns"
   ]
  },
  {
   "attachments": {},
   "cell_type": "markdown",
   "metadata": {},
   "source": [
    "# 5 Creating the date df "
   ]
  },
  {
   "attachments": {},
   "cell_type": "markdown",
   "metadata": {},
   "source": [
    "a. extracting the date column as a new df "
   ]
  },
  {
   "cell_type": "code",
   "execution_count": null,
   "metadata": {},
   "outputs": [],
   "source": [
    "date_df = result.loc[:, ['activity_date']].drop_duplicates( keep='first')"
   ]
  },
  {
   "cell_type": "code",
   "execution_count": null,
   "metadata": {},
   "outputs": [],
   "source": [
    "len(date_df)"
   ]
  },
  {
   "cell_type": "code",
   "execution_count": null,
   "metadata": {},
   "outputs": [],
   "source": [
    "date_df.info()"
   ]
  },
  {
   "cell_type": "code",
   "execution_count": null,
   "metadata": {},
   "outputs": [],
   "source": [
    "date_df['day'] = date_df['activity_date'].dt.day.fillna(0).astype(int)\n",
    "date_df['month']= date_df['activity_date'].dt.month.fillna(0).astype(int)\n",
    "date_df['year']= date_df['activity_date'].dt.year.fillna(0).astype(int)"
   ]
  },
  {
   "cell_type": "code",
   "execution_count": null,
   "metadata": {},
   "outputs": [],
   "source": [
    "date_df.head()"
   ]
  },
  {
   "attachments": {},
   "cell_type": "markdown",
   "metadata": {},
   "source": [
    "**b. Adding pk column**"
   ]
  },
  {
   "cell_type": "code",
   "execution_count": null,
   "metadata": {},
   "outputs": [],
   "source": [
    "date_df =date_df.reset_index(drop=True)\n",
    "date_df['date_id']=  date_df.index+1"
   ]
  },
  {
   "attachments": {},
   "cell_type": "markdown",
   "metadata": {},
   "source": [
    "**c. merging to result fact dataframe** "
   ]
  },
  {
   "cell_type": "code",
   "execution_count": null,
   "metadata": {},
   "outputs": [],
   "source": [
    "result = pd.merge(result, date_df, on=['activity_date'])\n",
    "result.head()"
   ]
  },
  {
   "attachments": {},
   "cell_type": "markdown",
   "metadata": {},
   "source": [
    "-----------------------  --------------------------------"
   ]
  },
  {
   "attachments": {},
   "cell_type": "markdown",
   "metadata": {},
   "source": [
    "# 6 ev charging facts df"
   ]
  },
  {
   "cell_type": "code",
   "execution_count": null,
   "metadata": {},
   "outputs": [],
   "source": [
    "result.columns"
   ]
  },
  {
   "attachments": {},
   "cell_type": "markdown",
   "metadata": {},
   "source": [
    "adding pk column"
   ]
  },
  {
   "cell_type": "code",
   "execution_count": null,
   "metadata": {},
   "outputs": [],
   "source": [
    "result =result.reset_index(drop=True)\n",
    "result['ev_char_fact_id']=  result.index+1"
   ]
  },
  {
   "cell_type": "code",
   "execution_count": null,
   "metadata": {},
   "outputs": [],
   "source": [
    "ev_charginging_facts = result.loc[:, ['ev_char_fact_id','ev_car_pop_id','ev_cs_dim_id','location_id','date_id','vehicle_pop_quantity', 'ev_cs_quantity','ev_price']]"
   ]
  },
  {
   "cell_type": "code",
   "execution_count": null,
   "metadata": {},
   "outputs": [],
   "source": [
    "ev_charginging_facts.head()"
   ]
  },
  {
   "attachments": {},
   "cell_type": "markdown",
   "metadata": {},
   "source": [
    "replace ev_car_pop_id\tNaN with -1\n"
   ]
  },
  {
   "attachments": {},
   "cell_type": "markdown",
   "metadata": {},
   "source": [
    "we have to create a an fk with null values in both table when we load "
   ]
  },
  {
   "cell_type": "code",
   "execution_count": null,
   "metadata": {},
   "outputs": [],
   "source": [
    "ev_charginging_facts['ev_car_pop_id'] = ev_charginging_facts['ev_car_pop_id'].fillna(-1)\n",
    "ev_charginging_facts['location_id'] = ev_charginging_facts['location_id'].fillna(-1)"
   ]
  },
  {
   "attachments": {},
   "cell_type": "markdown",
   "metadata": {},
   "source": [
    "# 7 Creating the cumulative dataframe for the cumulative fact table "
   ]
  },
  {
   "attachments": {},
   "cell_type": "markdown",
   "metadata": {},
   "source": [
    "in here we will group by the city lat and long and sum "
   ]
  },
  {
   "cell_type": "code",
   "execution_count": null,
   "metadata": {},
   "outputs": [],
   "source": [
    "result.columns"
   ]
  },
  {
   "cell_type": "code",
   "execution_count": null,
   "metadata": {},
   "outputs": [],
   "source": [
    "#query example \n",
    "# result['dv_pop_quantity']=result['dv_pop_quantity'].fillna(0)\n",
    "# result['quantity']=result['quantity'].fillna(0)\n",
    "# result['quantity'].unique()\n",
    "\n",
    "summary = result.groupby(['year','month','city_lat', 'city_long','city', 'state', 'country']).agg({'vehicle_pop_quantity': 'sum','ev_cs_quantity': 'sum' })\n",
    "summary = summary.reset_index()"
   ]
  },
  {
   "cell_type": "code",
   "execution_count": null,
   "metadata": {},
   "outputs": [],
   "source": [
    "summary.to_pickle('cumulative_df.pkl')"
   ]
  }
 ],
 "metadata": {
  "kernelspec": {
   "display_name": "Python 3",
   "language": "python",
   "name": "python3"
  },
  "language_info": {
   "codemirror_mode": {
    "name": "ipython",
    "version": 3
   },
   "file_extension": ".py",
   "mimetype": "text/x-python",
   "name": "python",
   "nbconvert_exporter": "python",
   "pygments_lexer": "ipython3",
   "version": "3.10.6"
  },
  "orig_nbformat": 4
 },
 "nbformat": 4,
 "nbformat_minor": 2
}
