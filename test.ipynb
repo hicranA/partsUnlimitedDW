{
 "cells": [
  {
   "attachments": {},
   "cell_type": "markdown",
   "metadata": {},
   "source": [
    "# Reading from PDF"
   ]
  },
  {
   "attachments": {},
   "cell_type": "markdown",
   "metadata": {},
   "source": [
    "Libraries that we need "
   ]
  },
  {
   "cell_type": "code",
   "execution_count": 15,
   "metadata": {},
   "outputs": [],
   "source": [
    "from pypdf import PdfReader\n",
    "import pandas as pd"
   ]
  },
  {
   "cell_type": "code",
   "execution_count": 3,
   "metadata": {},
   "outputs": [
    {
     "name": "stdout",
     "output_type": "stream",
     "text": [
      "2\n"
     ]
    },
    {
     "data": {
      "text/plain": [
       "{'/Type': '/Page',\n",
       " '/Resources': {'/ProcSet': ['/PDF', '/Text', '/ImageB', '/ImageC', '/ImageI'],\n",
       "  '/ExtGState': {'/G3': {'/ca': 1, '/BM': '/Normal'}},\n",
       "  '/Font': {'/F9': {'/Type': '/Font',\n",
       "    '/Subtype': '/Type0',\n",
       "    '/BaseFont': '/BAAAAA+ArialMT',\n",
       "    '/Encoding': '/Identity-H',\n",
       "    '/DescendantFonts': [IndirectObject(564, 0, 140511468867200)],\n",
       "    '/ToUnicode': {'/Filter': '/FlateDecode'}}}},\n",
       " '/MediaBox': [0, 0, 612, 792],\n",
       " '/Annots': [IndirectObject(78, 0, 140511468867200),\n",
       "  IndirectObject(79, 0, 140511468867200),\n",
       "  IndirectObject(80, 0, 140511468867200)],\n",
       " '/Contents': {'/Filter': '/FlateDecode'},\n",
       " '/StructParents': 1,\n",
       " '/Parent': {'/Type': '/Pages',\n",
       "  '/Count': 2,\n",
       "  '/Kids': [IndirectObject(2, 0, 140511468867200),\n",
       "   IndirectObject(77, 0, 140511468867200)]}}"
      ]
     },
     "execution_count": 3,
     "metadata": {},
     "output_type": "execute_result"
    }
   ],
   "source": [
    "#we pass the page as input the pdfreader function from pypdf library\n",
    "reader = PdfReader('data/pdf/BatteryEnclosuresAcc.pdf')\n",
    "#using reader object to printing number of pages \n",
    "number_of_pages = len(reader.pages)\n",
    "print(number_of_pages)\n",
    "#now we can think pages as an array we can take a look at the first one\n",
    "page = reader.pages[1]\n",
    "# we can extract only text \n",
    "text = page.extract_text()\n",
    "# here is our first page text content \n",
    "page"
   ]
  },
  {
   "attachments": {},
   "cell_type": "markdown",
   "metadata": {},
   "source": [
    "the best format so far"
   ]
  },
  {
   "cell_type": "code",
   "execution_count": 19,
   "metadata": {},
   "outputs": [],
   "source": [
    "def pdfReader(category,path,file_name ):\n",
    "    reader = PdfReader(path)\n",
    "    df = pd.DataFrame(columns=[\"category\",'model', 'model_name', 'manufacturer', 'weight', 'price'])\n",
    "    data =[]\n",
    "    category= category\n",
    "    print(category)\n",
    "    for page_num in range(number_of_pages):\n",
    "        page = reader.pages[page_num]\n",
    "        text = page.extract_text()\n",
    "        chunks = text.split(\"Price:\")\n",
    "        for i,  chunk in  enumerate(chunks[1:], start=1): # Skip the first chunk which is before the first \"Price\"\n",
    "            #print(\"line\", i)\n",
    "            if \"Show\" in chunk:\n",
    "                # If \"Show\" is in the chunk, break out of the loop\n",
    "                break\n",
    "            if \"Model\" in chunk:\n",
    "                # Get the text between \"Price\" and \"Model\"\n",
    "                model = chunk.split(\"Model\")[0]\n",
    "                # print(\"model Name\")\n",
    "                # print(model)\n",
    "                # Get the text between \"Model\" and \"Manufacturer\"\n",
    "                model_name = chunk.split(\"Model\")[1].split(\"Manufacturer\")[0]\n",
    "                # print(\"model\")\n",
    "                # print(model_name)\n",
    "                manufacturer = chunk.split(\"Manufacturer\")[1].split(\"Weight\")[0]\n",
    "                # print(\"Manufacturer\")\n",
    "                # print(manufacturer)\n",
    "                weight  = chunk.split(\"Weight\")[1].split(\"\\n\")[0].strip()\n",
    "                # print(\"weight\")\n",
    "                # print(weight)\n",
    "                price  = chunk.split(\"Weight\")[1].split(\"\\n\")[0].strip()\n",
    "                # print(\"price\")\n",
    "                # print(price)\n",
    "                # Add the data to the DataFrame as a new row\n",
    "                df.loc[len(df.index)] = [category,model,model_name, manufacturer,weight, price ]\n",
    "            else:\n",
    "                # print(\"Price:\" + chunk)\n",
    "                # print(\" \")\n",
    "                data.append(chunk)\n",
    "\n",
    "    # # Create a pandas DataFrame from the data list\n",
    "    # df = pd.DataFrame(data)\n",
    "    print(\"#########\")\n",
    "    print(\"this is my df\")\n",
    "    print(df)\n",
    "    df.to_csv(file_name, index=False)\n",
    "    print(\"done\")\n",
    "    "
   ]
  },
  {
   "cell_type": "code",
   "execution_count": 23,
   "metadata": {},
   "outputs": [
    {
     "name": "stdout",
     "output_type": "stream",
     "text": [
      "charges\n",
      "#########\n",
      "this is my df\n",
      "  category                                              model  \\\n",
      "0  charges    Elcon 3.3kW UF CAN Bus Charger\\nwith EVCC\\nT...   \n",
      "1  charges    Elcon PFC1500 Charger\\nThis item has been di...   \n",
      "2  charges    Manzanita Micro PFC 20-XM\\nCharger\\nThis pro...   \n",
      "3  charges    Manzanita Micro PFC 30-XM\\nCharger\\nThe PFC-...   \n",
      "4  charges    Manzanita Micro PFC 40-XM\\nCharger\\nThe PFC-...   \n",
      "\n",
      "           model_name    manufacturer   weight    price  \n",
      "0     : UFC33-\\nCAN\\n       : Elcon\\n  : 19.00  : 19.00  \n",
      "1         : ELC1500\\n       : Elcon\\n  : 15.00  : 15.00  \n",
      "2   : MM PFC20-\\nXM\\n   : Manzanita\\n  : 16.00  : 16.00  \n",
      "3   : MM PFC30-\\nXM\\n   : Manzanita\\n  : 17.20  : 17.20  \n",
      "4   : MM PFC40-\\nXM\\n   : Manzanita\\n  : 20.00  : 20.00  \n",
      "done\n"
     ]
    }
   ],
   "source": [
    "pdfReader(category=\"charges\",path= \"data/pdf/Chargers.pdf\",file_name=\"charges.csv\" )"
   ]
  },
  {
   "cell_type": "code",
   "execution_count": 14,
   "metadata": {},
   "outputs": [
    {
     "name": "stdout",
     "output_type": "stream",
     "text": [
      "#########\n",
      "this is my df\n",
      "                    category  \\\n",
      "0  Battery Enclosures & Acc.   \n",
      "1  Battery Enclosures & Acc.   \n",
      "2  Battery Enclosures & Acc.   \n",
      "3  Battery Enclosures & Acc.   \n",
      "\n",
      "                                               model         model_name  \\\n",
      "0    MX150 Bulkhead and Connector -\\nBattery Box ...   : EVW -\\nMX150\\n   \n",
      "1    Rincon Power HVBD4AXR - 400 A\\nContinuous - ...        : RP-HVBD\\n   \n",
      "2    VW Beetle Front Battery Box - '58-\\n71\\nAlum...      : EVW -FBB1\\n   \n",
      "3    VW Beetle Rear Battery Box - '58-\\n71\\nAlumi...      : EVW -RBB1\\n   \n",
      "\n",
      "         manufacturer   weight    price  \n",
      "0         : EV West\\n   : 1.00   : 1.00  \n",
      "1   : Rincon\\nPower\\n   : 3.00   : 3.00  \n",
      "2         : EV West\\n  : 20.00  : 20.00  \n",
      "3         : EV West\\n  : 20.00  : 20.00  \n"
     ]
    }
   ],
   "source": [
    "import pandas as pd\n",
    "# Create an empty list to store the data\n",
    "# Create an empty DataFrame to store the data\n",
    "df = pd.DataFrame(columns=[\"category\",'model', 'model_name', 'manufacturer', 'weight', 'price'])\n",
    "category= \"Battery Enclosures & Acc.\"\n",
    "data = []\n",
    "for page_num in range(number_of_pages):\n",
    "    page = reader.pages[page_num]\n",
    "    text = page.extract_text()\n",
    "    chunks = text.split(\"Price:\")\n",
    "    for i,  chunk in  enumerate(chunks[1:], start=1): # Skip the first chunk which is before the first \"Price\"\n",
    "        #print(\"line\", i)\n",
    "        if \"Show\" in chunk:\n",
    "            # If \"Show\" is in the chunk, break out of the loop\n",
    "            break\n",
    "        if \"Model\" in chunk:\n",
    "            # Get the text between \"Price\" and \"Model\"\n",
    "            model = chunk.split(\"Model\")[0]\n",
    "            print(\"model Name\")\n",
    "            # print(model)\n",
    "            # Get the text between \"Model\" and \"Manufacturer\"\n",
    "            model_name = chunk.split(\"Model\")[1].split(\"Manufacturer\")[0]\n",
    "            # print(\"model\")\n",
    "            # print(model_name)\n",
    "            manufacturer = chunk.split(\"Manufacturer\")[1].split(\"Weight\")[0]\n",
    "            # print(\"Manufacturer\")\n",
    "            # print(manufacturer)\n",
    "            weight  = chunk.split(\"Weight\")[1].split(\"\\n\")[0].strip()\n",
    "            # print(\"weight\")\n",
    "            # print(weight)\n",
    "            price  = chunk.split(\"Weight\")[1].split(\"\\n\")[0].strip()\n",
    "            # print(\"price\")\n",
    "            # print(price)\n",
    "            # Add the data to the DataFrame as a new row\n",
    "            df.loc[len(df.index)] = [category,model,model_name, manufacturer,weight, price ]\n",
    "        else:\n",
    "            # print(\"Price:\" + chunk)\n",
    "            # print(\" \")\n",
    "            data.append(chunk)\n",
    "\n",
    "# # Create a pandas DataFrame from the data list\n",
    "# df = pd.DataFrame(data)\n",
    "print(\"#########\")\n",
    "print(\"this is my df\")\n",
    "print(df)"
   ]
  }
 ],
 "metadata": {
  "kernelspec": {
   "display_name": "Python 3",
   "language": "python",
   "name": "python3"
  },
  "language_info": {
   "codemirror_mode": {
    "name": "ipython",
    "version": 3
   },
   "file_extension": ".py",
   "mimetype": "text/x-python",
   "name": "python",
   "nbconvert_exporter": "python",
   "pygments_lexer": "ipython3",
   "version": "3.10.6"
  },
  "orig_nbformat": 4
 },
 "nbformat": 4,
 "nbformat_minor": 2
}
