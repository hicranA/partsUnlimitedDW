{
 "cells": [
  {
   "attachments": {},
   "cell_type": "markdown",
   "metadata": {},
   "source": [
    "## Project Check List for Design and Implementation "
   ]
  },
  {
   "attachments": {},
   "cell_type": "markdown",
   "metadata": {},
   "source": [
    "1. Data Set - at least two data frame \n",
    "I have 3 different data sets\n",
    "2. Design:  five business questions \n",
    "inculuded\n",
    "3. Design:  Two to three fact tables (at least one snapshot and at least one cumulative)\n",
    "i have 3 fact tables\n",
    "4. Design:  five to six dimensions\n",
    "manufacturers, products, locations, ev population, ev charging stations,locations, and two time dimensions\n",
    "5. Design: Slowly changing dimension attributes, at least one of which is implemented with Type 2 and one that is Type 3<br>\n",
    "    i have three type 3 and two type 2 scd \n",
    "6. Design : Time dimension – consider different grains \n",
    "I have two dimension table with two different grains\n",
    "7. ETL: SQL/Python – comparison, combination\n",
    "I have used combination of sql and python to implement etl \n",
    "8. ETL: ETL should show maintenance in loading deltas for SCD Type 0, SCD Type 1 and SCD type 2 or SCD type 3<br>\n",
    "    please see my  SCD_maintnance_keyMan.ipynb<br>\n",
    "9. Visualization and Analytics: Look to answer two of your five business questions via analytical queries – look to focus on complexity within the queries (i.e. window functions, pivots, CTE, etc)\n",
    "I have inculuded calculated fields ,rollups etc\n",
    "10. Visualization and Analytics: One visualization needs to have drill-down/roll-up (i.e. use the hierarchical dimension)\n",
    "I have created location hierarchical (region, state) and show drilldown/rollup to show values by year \n",
    "11. Visualization and Analytics: One visualization needs to demonstrate filtering \n",
    "I have filtered some of my report and visualization by year and region\n",
    "12. Visualization and Analytics: One visualization needs to use one or more calculated fields \n",
    "question number 3 we used calculated field : correlation \n",
    "13. Visualization and Analytics: Submit at least four images one for each of the above criteria. Expectations are that it could require 8 to 10 images to demonstrate everything.\n"
   ]
  },
  {
   "attachments": {},
   "cell_type": "markdown",
   "metadata": {},
   "source": [
    "## Project deliverables After the presentation:"
   ]
  },
  {
   "attachments": {},
   "cell_type": "markdown",
   "metadata": {},
   "source": [
    "1-Your PowerPoint presentation <br>\n",
    "2-Your source code (Python and or SQL).  Make sure the code is well documented. <br>\n",
    "3-Delta Report<br>"
   ]
  }
 ],
 "metadata": {
  "language_info": {
   "name": "python"
  },
  "orig_nbformat": 4
 },
 "nbformat": 4,
 "nbformat_minor": 2
}
