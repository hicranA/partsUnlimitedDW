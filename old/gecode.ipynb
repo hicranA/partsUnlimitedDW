{
 "cells": [
  {
   "cell_type": "code",
   "execution_count": null,
   "metadata": {},
   "outputs": [],
   "source": [
    "from geopy.geocoders import Nominatim\n",
    "geolocator = Nominatim(user_agent=\"my_app\")\n",
    "\n",
    "# location = geolocator.geocode(result[\"City\"][0] + \", \" + result[\"State\"][0])\n",
    "\n",
    "# print(location.latitude, location.longitude)\n",
    "\n",
    "\n",
    "for index, row in location_missing.iterrows():\n",
    "    geolocation = geolocator.geocode(row[\"City\"] + \", \" + row[\"State\"])\n",
    "    if geolocation is None:\n",
    "        location_missing.at[index, 'city_lat'] = \"null\"\n",
    "        location_missing.at[index, 'city_long'] = 'null'\n",
    "    else: \n",
    "        location_missing.at[index, 'city_lat'] = geolocation.latitude\n",
    "        location_missing.at[index, 'city_long'] = geolocation.longitude\n",
    "    \n",
    "\n",
    "# load the DataFrame from the pickle file\n",
    "location_missing  = pd.read_pickle('df_cities_missing.pkl')\n",
    "location_complicated  = pd.read_pickle('df_cities.pkl')\n",
    "# # Concatenate city and state columns with a comma\n",
    "# result[\"City\"][0] + \", \" + result[\"State\"][0]"
   ]
  },
  {
   "cell_type": "code",
   "execution_count": null,
   "metadata": {},
   "outputs": [],
   "source": [
    "len(result)- len(np.unique(result[['Latitude', 'Longitude','City', 'State']].values))"
   ]
  },
  {
   "cell_type": "code",
   "execution_count": null,
   "metadata": {},
   "outputs": [],
   "source": [
    "#ev_charging_stations_dim_1 = result.loc[result['_merge']=='left_only']\n",
    "# ev_pop_dim_1 = result.loc[result['_merge']=='right_only']\n",
    "# print(len(ev_station_v1))\n",
    "# print(len(ev_charging_stations_dim_1))\n",
    "# print(len(df_ev_pop))\n",
    "# print(len(ev_pop_dim_1))\n",
    "# import numpy as np\n",
    "\n",
    "\n",
    "# len(np.unique(result[['City', 'State']].values))"
   ]
  },
  {
   "cell_type": "code",
   "execution_count": null,
   "metadata": {},
   "outputs": [],
   "source": [
    "from pyspark.sql import SparkSession\n",
    "from geopyspark import geocoders\n",
    "from shapely.geometry import Point\n",
    "\n",
    "# Initialize Spark session\n",
    "spark = SparkSession.builder \\\n",
    "                    .appName(\"GeoPySpark Example\") \\\n",
    "                    .getOrCreate()\n",
    "\n",
    "# Initialize GeoPySpark geocoder\n",
    "geocoder = geocoders.Nominatim(spark)\n",
    "\n",
    "# Define the city you want to get the latitude and longitude for\n",
    "city = \"New York\"\n",
    "\n",
    "# Use the GeoPySpark geocoder to get the location of the city\n",
    "location = geocoder.geocode(city)\n",
    "\n",
    "# Print the latitude and longitude\n",
    "print(location.latitude, location.longitude)\n",
    "\n",
    "# Convert the latitude and longitude to a Shapely Point object\n",
    "point = Point(location.longitude, location.latitude)\n",
    "\n",
    "# Print the Point object\n",
    "print(point)\n",
    "\n",
    "# Stop Spark session\n",
    "spark.stop()\n"
   ]
  }
 ],
 "metadata": {
  "language_info": {
   "name": "python"
  },
  "orig_nbformat": 4
 },
 "nbformat": 4,
 "nbformat_minor": 2
}
