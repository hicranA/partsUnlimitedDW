{
 "cells": [
  {
   "cell_type": "code",
   "execution_count": null,
   "metadata": {},
   "outputs": [],
   "source": [
    "from geopy.exc import GeocoderUnavailable, GeocoderTimedOut\n",
    "from geopy.geocoders import Nominatim\n",
    "geolocator = Nominatim(user_agent=\"my_app\")\n",
    "\n",
    "for index, row in city_lat_long_missing.iterrows():\n",
    "    try:\n",
    "        geolocation = geolocator.geocode(row[\"City\"] + \", \" + row[\"State\"])\n",
    "        if geolocation is None:\n",
    "            city_lat_long_missing.at[index, 'city_lat'] = \"null\"\n",
    "            city_lat_long_missing.at[index, 'city_long'] = 'null'\n",
    "        else: \n",
    "            city_lat_long_missing.at[index, 'city_lat'] = geolocation.latitude\n",
    "            city_lat_long_missing.at[index, 'city_long'] = geolocation.longitude\n",
    "    except (GeocoderUnavailable, GeocoderTimedOut):\n",
    "        city_lat_long_missing.at[index, 'city_lat'] = \"null\"\n",
    "        city_lat_long_missing.at[index, 'city_long'] = 'null'"
   ]
  },
  {
   "cell_type": "code",
   "execution_count": null,
   "metadata": {},
   "outputs": [],
   "source": [
    "from geopy.geocoders import Nominatim\n",
    "geolocator = Nominatim(user_agent=\"my_app\")\n",
    "\n",
    "# location = geolocator.geocode(result[\"City\"][0] + \", \" + result[\"State\"][0])\n",
    "\n",
    "# print(location.latitude, location.longitude)\n",
    "\n",
    "\n",
    "for index, row in location_missing.iterrows():\n",
    "    geolocation = geolocator.geocode(row[\"City\"] + \", \" + row[\"State\"])\n",
    "    if geolocation is None:\n",
    "        location_missing.at[index, 'city_lat'] = \"null\"\n",
    "        location_missing.at[index, 'city_long'] = 'null'\n",
    "    else: \n",
    "        location_missing.at[index, 'city_lat'] = geolocation.latitude\n",
    "        location_missing.at[index, 'city_long'] = geolocation.longitude\n",
    "    \n",
    "\n",
    "# load the DataFrame from the pickle file\n",
    "location_missing  = pd.read_pickle('df_cities_missing.pkl')\n",
    "location_complicated  = pd.read_pickle('df_cities.pkl')\n",
    "# # Concatenate city and state columns with a comma\n",
    "# result[\"City\"][0] + \", \" + result[\"State\"][0]"
   ]
  },
  {
   "cell_type": "code",
   "execution_count": null,
   "metadata": {},
   "outputs": [],
   "source": [
    "#ev_charging_stations_dim_1 = result.loc[result['_merge']=='left_only']\n",
    "# ev_pop_dim_1 = result.loc[result['_merge']=='right_only']\n",
    "# print(len(ev_station_v1))\n",
    "# print(len(ev_charging_stations_dim_1))\n",
    "# print(len(df_ev_pop))\n",
    "# print(len(ev_pop_dim_1))\n",
    "# import numpy as np\n",
    "\n",
    "\n",
    "# len(np.unique(result[['City', 'State']].values))"
   ]
  }
 ],
 "metadata": {
  "language_info": {
   "name": "python"
  },
  "orig_nbformat": 4
 },
 "nbformat": 4,
 "nbformat_minor": 2
}
