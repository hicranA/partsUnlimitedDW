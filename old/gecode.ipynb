{
 "cells": [
  {
   "cell_type": "code",
   "execution_count": null,
   "metadata": {},
   "outputs": [],
   "source": [
    "from geopy.geocoders import Nominatim\n",
    "geolocator = Nominatim(user_agent=\"my_app\")\n",
    "\n",
    "# location = geolocator.geocode(result[\"City\"][0] + \", \" + result[\"State\"][0])\n",
    "\n",
    "# print(location.latitude, location.longitude)\n",
    "\n",
    "\n",
    "for index, row in location_missing.iterrows():\n",
    "    geolocation = geolocator.geocode(row[\"City\"] + \", \" + row[\"State\"])\n",
    "    if geolocation is None:\n",
    "        location_missing.at[index, 'city_lat'] = \"null\"\n",
    "        location_missing.at[index, 'city_long'] = 'null'\n",
    "    else: \n",
    "        location_missing.at[index, 'city_lat'] = geolocation.latitude\n",
    "        location_missing.at[index, 'city_long'] = geolocation.longitude\n",
    "    \n",
    "\n",
    "# save the DataFrame to a pickle file\n",
    "# location_df_distinct_city_v2.to_pickle('df_cities_missing.pkl')\n",
    "# location_df_distinct_city_v1.to_pickle('df_cities.pkl')\n",
    "\n",
    "# load the DataFrame from the pickle file\n",
    "location_missing  = pd.read_pickle('df_cities_missing.pkl')\n",
    "location_complicated  = pd.read_pickle('df_cities.pkl')\n",
    "# # Concatenate city and state columns with a comma\n",
    "# result[\"City\"][0] + \", \" + result[\"State\"][0]"
   ]
  }
 ],
 "metadata": {
  "language_info": {
   "name": "python"
  },
  "orig_nbformat": 4
 },
 "nbformat": 4,
 "nbformat_minor": 2
}
