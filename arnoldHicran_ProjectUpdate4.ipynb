{
 "cells": [
  {
   "attachments": {},
   "cell_type": "markdown",
   "metadata": {},
   "source": [
    "\n",
    "***MET CS 689***\n",
    "\n",
    "***Term Project Update 4***\n",
    "\n",
    "***Overview of the Assignment:***<br>\n",
    "***Let’s focus on SCD maintenance of the load process and analysis and presentation.***<br>"
   ]
  },
  {
   "attachments": {},
   "cell_type": "markdown",
   "metadata": {},
   "source": [
    "# Part 9: Provide updated code and screenshots of loading a delta into the one of the dimensions which is either SCD2 or SCD3.  Your code should show how SCD2 or SCD3 is maintained when changes or a brand-new record is detected"
   ]
  },
  {
   "attachments": {},
   "cell_type": "markdown",
   "metadata": {},
   "source": [
    "I am going to load scd 2 table <br>\n",
    "here is the steps that we need to do<br>\n",
    "1- check if there is exsisting row <br>\n",
    "2- if exsist ignore<br>\n",
    "3- if new add new<br>\n",
    "4- if there is an adjustment add new one <br>"
   ]
  },
  {
   "attachments": {},
   "cell_type": "markdown",
   "metadata": {},
   "source": [
    "I faced some issues I noticed in my manufacturer table I have only the manufacturer name, so the only thing will change is the manufacturer name, therefore it does not make sense for me to keep this as scd2, I believe I should switch to scd 3 and change prodocut as scd type 2. Therefore once again I need to adjust the scd types and update scd columns."
   ]
  },
  {
   "attachments": {},
   "cell_type": "markdown",
   "metadata": {},
   "source": [
    "I am facing some design issues in different steps of this project, and I had to go back and fix it, and it is taking more than I anticipated. I fixed the data quality issues from last week, but I realized the incorrect scd type choice in this step. I was planning to load the table as a df and use pandas merge columns to check to see the difference between source and database to determine the new records, but I ran out of time. "
   ]
  },
  {
   "attachments": {},
   "cell_type": "markdown",
   "metadata": {},
   "source": [
    "![q10a](figures/q10a.png)"
   ]
  },
  {
   "attachments": {},
   "cell_type": "markdown",
   "metadata": {},
   "source": [
    "![q10b](figures/q10b.png)"
   ]
  },
  {
   "attachments": {},
   "cell_type": "markdown",
   "metadata": {},
   "source": [
    "# Part 10: Outline one of the business questions you outlined in part 2 and answer it with an analytical query – it will be important to show complexity within the query (i.e. think about pivots, window functions, inline views, aggregates etc)."
   ]
  },
  {
   "attachments": {},
   "cell_type": "markdown",
   "metadata": {},
   "source": [
    "What is the current range of EV parts manufacturers and their product offerings that Parts Unlimited is working with, and how can this information be leveraged to optimize their product mix and pricing strategy for increased revenue in the growing EV market? Additionally, how has this range of manufacturers and their product offerings evolved over time, and what trends can be identified for future business planning?"
   ]
  },
  {
   "attachments": {},
   "cell_type": "markdown",
   "metadata": {},
   "source": [
    "* In this query we are seing the percentage of the each manufacturers. It shows which manufacturers has the monst amount of products. I will add this  year column, how many how many manufacturers , how many prodocts to show a trend "
   ]
  },
  {
   "attachments": {},
   "cell_type": "markdown",
   "metadata": {},
   "source": [
    "![query](figures/query.png)"
   ]
  },
  {
   "attachments": {},
   "cell_type": "markdown",
   "metadata": {},
   "source": [
    "## Part 11: Outline one of the business questions you outlined in part 2 (can be same as part 10) and answer it with a Tableau or PowerBI visualization.  In a single sentence explain why you selected this particular visualization to answer this question."
   ]
  },
  {
   "attachments": {},
   "cell_type": "markdown",
   "metadata": {},
   "source": [
    "this query shows the new manufacturers and their and how many new products they have bring to partsUnlimited. This particular visualization you can see the years that there are few new manufacturers and new products and the opposite. "
   ]
  },
  {
   "attachments": {},
   "cell_type": "markdown",
   "metadata": {},
   "source": [
    "![query1](figures/query1.PNG)"
   ]
  },
  {
   "attachments": {},
   "cell_type": "markdown",
   "metadata": {},
   "source": [
    "----------------------"
   ]
  },
  {
   "attachments": {},
   "cell_type": "markdown",
   "metadata": {},
   "source": [
    "# Part 1: Are you working on your own or with a partner?  If with a partner provide their name.  If on your own, just state that this is the case."
   ]
  },
  {
   "attachments": {},
   "cell_type": "markdown",
   "metadata": {},
   "source": [
    "* I have adjusted question number 5 with a new question\n",
    "* I have removed EV car dataset (I could not connect this data set with any other data-sets)\n",
    "* I have included a new data txt. I noticed that my manufacturer dimentions and are not connected to the rest of the schema, therefore I needed a dimention table to connect them. The location dimention is the only one that I could connect them. However unfortunatelly this data is not available but in my dataset I have only 25 manufacturers, I quicly searched locations of these companies and saved as txt file. \n",
    "* I have updated ERD schema: I removed the old data set and connected location \n",
    "* I have adjusted the products table scd type with the scd type 2\n",
    "* I have added a new time dimension for manufacturers fact table to track products and manufacturer dates"
   ]
  },
  {
   "attachments": {},
   "cell_type": "markdown",
   "metadata": {},
   "source": [
    "I am working alone in this project "
   ]
  },
  {
   "attachments": {},
   "cell_type": "markdown",
   "metadata": {},
   "source": [
    "# Part 2: Determine the project scope \n",
    "\n",
    "*  **In a short paragraph, describe the topic you wish to explore --an update if any**\n",
    "*  **Update the five business questions that your data warehouse will answer.**"
   ]
  },
  {
   "attachments": {},
   "cell_type": "markdown",
   "metadata": {},
   "source": [
    "**Project Description**\n",
    "The topic I wish to explore for my data warehouse project is the management of Parts Unlimited's EV parts business. This topic was inspired by \"The Unicorn Project,\" which describes the challenges and opportunities of digital transformation in a large organization. Specifically, I plan to focus on storing and analyzing data related to charging stations, EV products, customer purchases, and geographic location. Parts Unlimited already sells EV parts, and my goal is to improve the organization's data management, reporting, and analysis capabilities related to this business."
   ]
  },
  {
   "attachments": {},
   "cell_type": "markdown",
   "metadata": {},
   "source": [
    "**Business Questions:**"
   ]
  },
  {
   "attachments": {},
   "cell_type": "markdown",
   "metadata": {},
   "source": [
    "| **Business Question 1**|\n",
    "| --- |\n",
    "| Is there a correlation between the number of EV charging stations in a particular area, the number of EV cars registered in that area, and the time period in which they were registered? And if so, how can we use this information to optimize our expansion strategy and better serve our customers over time? |\n"
   ]
  },
  {
   "attachments": {},
   "cell_type": "markdown",
   "metadata": {},
   "source": [
    "Parts Unlimited Business Development team is interested in using this information to plan and prioritize their expansion strategy for EV parts and charging station installations. The marketing team can use this information to tailor their marketing campaigns and promotions to specific regions. "
   ]
  },
  {
   "attachments": {},
   "cell_type": "markdown",
   "metadata": {},
   "source": [
    "| **Business Question 2** |\n",
    "| --- |\n",
    "| What is the current range of EV parts manufacturers and their product offerings that Parts Unlimited is working with, and how can this information be leveraged to optimize their product mix and pricing strategy for increased revenue in the growing EV market? Additionally, how has this range of manufacturers and their product offerings evolved over time, and what trends can be identified for future business planning?|"
   ]
  },
  {
   "attachments": {},
   "cell_type": "markdown",
   "metadata": {},
   "source": [
    "Purchasing team is interested in this question , they are responsible for sourcing and procuring products for Parts Unlimited, including EV parts from different manufacturers. By understanding the current range of EV parts manufacturers and their product offerings, the Procurement department can make informed decisions about which manufacturers to work with, what products to stock, and how to optimize their product mix and pricing strategy for increased revenue in the growing EV market"
   ]
  },
  {
   "attachments": {},
   "cell_type": "markdown",
   "metadata": {},
   "source": [
    "| **Business Question Q3** |\n",
    "| --- |\n",
    "|How does the popularity of different EV models and electric vehicle types vary by geographic region, and how can Parts Unlimited use this information to target their marketing and sales efforts?|"
   ]
  },
  {
   "attachments": {},
   "cell_type": "markdown",
   "metadata": {},
   "source": [
    "The marketing and sales department in Parts Unlimited can use the information to target their efforts more effectively. For example, if a certain geographic region shows a higher preference for a particular EV model or plug type, the marketing and sales team can focus their promotional activities and campaigns in that region to increase sales. They can also use this information to tailor their messaging and product offerings to better meet the needs and preferences of customers in each region."
   ]
  },
  {
   "attachments": {},
   "cell_type": "markdown",
   "metadata": {},
   "source": [
    "|**Business Question Q4** |\n",
    "| --- |\n",
    "| What is the relationship between the location and price of existing EV charging stations over time, and how can this information be used to determine the feasibility of adding new charging stations in the vicinity of Parts Unlimited's stores in partnership with companies like Tesla? Additionally, how can this information be leveraged to increase revenue and customer convenience?|"
   ]
  },
  {
   "attachments": {},
   "cell_type": "markdown",
   "metadata": {},
   "source": [
    "Parts Unlimited is considering providing EV charging stations as a new service. Therefore the Research and Development team can determine  if there is a relationship between price and location. This information can provide insights into the cost and demand for EV charging stations in different locations and inform the decision on where to install new stations."
   ]
  },
  {
   "attachments": {},
   "cell_type": "markdown",
   "metadata": {},
   "source": [
    "|**Business Question Q5** |\n",
    "| --- |\n",
    "|What are the top five manufacturers that provides widest range of products to Parts Unlimited,and current year how many ev charging stations located in those locations|"
   ]
  },
  {
   "attachments": {},
   "cell_type": "markdown",
   "metadata": {},
   "source": [
    "The Supply Chain department at Parts Unlimited can utilize this information to determine the percentage of products supplied by each manufacturer, as well as their respective locations. This can enable the department to better manage logistics and distribution of the products, while also ensuring compliance with any legal requirements related to supply chain operation"
   ]
  },
  {
   "attachments": {},
   "cell_type": "markdown",
   "metadata": {},
   "source": [
    "# Part 3: Data Sources\n",
    "***Provide two data sources you will be using, for each data source list the number or columns and rows that are in each data source.  Provide a header and first 5 rows from each source.***\n",
    "- What is the URL or location of the data?\n",
    "- What information does this data provide that will help answer one or more of the above questions?\n",
    "- Do you see any issues in the data that will require transformation."
   ]
  },
  {
   "attachments": {},
   "cell_type": "markdown",
   "metadata": {},
   "source": [
    "| **Dataset Name** | Columns | Rows | URL |\n",
    "| --- | --- | --- | --- |\n",
    "| 1-Product Info - EV West | 5 | 50 | [EV West](https://www.evwest.com/catalog/index.php?cPath=4&osCsid=55f0661764899b07540a29eff0700422)|\n",
    "\n",
    "The data set provides information about EV parts, manufacturer, weight and price information. The data is not available in the PDF version and requires a Python script to extract and format the information.\n"
   ]
  },
  {
   "attachments": {},
   "cell_type": "markdown",
   "metadata": {},
   "source": [
    "![EvWest](figures/evWest.png)"
   ]
  },
  {
   "attachments": {},
   "cell_type": "markdown",
   "metadata": {},
   "source": [
    "| **Dataset Name** | Columns | Rows | URL |\n",
    "| --- | --- | --- | --- |\n",
    "| 2-Alternative Fueling Station Locations | 65 | 56,800 | [Data.gov](https://catalog.data.gov/dataset/alternative-fueling-station-locations-422f2/resource/341957d8-daf6-4a38-ab1d-8ec1bc21cfb9) |\n",
    "\n",
    "\n",
    "Provides information about the current list of charging stations and their locations. There are a lot of missing values that need to be cleaned and lat and long location info needs to be identical with the EV Car Population dataset. Price information is available in a text format and needs to be formatted so it is a number.\n"
   ]
  },
  {
   "attachments": {},
   "cell_type": "markdown",
   "metadata": {},
   "source": [
    "| Index | EV station Dataset Column Names | Index | EV Car Dataset Column Names | Index | EV station Dataset Column Names | Index | EV station Dataset Column Names | \n",
    "| :---: | --------------------------- | :---: | --------------------------- | :---: | --------------------------- |:---: | --------------------------- |\n",
    "| 1   | Fuel Type Code                 |\t21  | EV Other Info                  |\t 41  | Access Days Time (French)      |\t \t 61 |CNG PSI     |\t\n",
    "| 2   | Station Name                   |\t22  | EV Network                     |\t 42  | BD Blends (French)             |\t 62 |CNG Vehicle Class|\t\n",
    "| 3   | Street Address                 |\t23  | EV Network Web                 |\t 43  | Groups With Access Code (French) |63 |LNG Vehicle Class|\t\t\t\n",
    "| 4   | Intersection Directions        |\t24  | Geocode Status                 |\t44  | Hydrogen Is Retail             | 64|\tEV On-Site Renewable Source\t|\n",
    "| 5   | City                           |\t25  | Latitude                       |45  |  Access Code |\t\t65|\tRestricted Access|\n",
    "| 6   | State                          |   26   | Longitude                        |\t46  |     Access Detail Code  |\t\t\t\n",
    "| 7   | ZIP                            |\t 27  | Date Last Confirmed            |\t47  |    Federal Agency Code         |\t\t\t\n",
    "| 8   | Plus4                          |\t28  | ID                             |\t48  |   Facility Type   |\t\t\t\n",
    "| 9   | Station Phone                  |\t 29  | Updated At                     |\t49  |   CNG Dispenser Num |\t\t\t\n",
    "| 10  | Status Code                    |\t 30  | Owner Type Code                |\t 50  |     CNG On-Site Renewable Source          |\t\t\t\n",
    "| 11  | Expected Date                  |\t 31  | Federal Agency ID              |\t51  | CNG Total Compression Capacity |\t\t\t\n",
    "| 12  | Groups With Access Code        |\t 32  | Federal Agency Name            |\t52  |  CNG Storage Capacity  |\t\t\t\n",
    "| 13  | Access Days Time               |\t33  | Open Date                      |\t 53  |    LNG On-Site Renewable Source     |\t\t\t\n",
    "| 14  | Cards Accepted                 |\t 34  | Hydrogen Status Link           |\t54  | E85 Other Ethanol Blends|\t\t\t\n",
    "| 15  | BD Blends                      |\t 35  | NG Vehicle Class               |\t55  | EV Pricing |\t\t\t\n",
    "| 16  | NG Fill Type Code              |\t 36  | LPG Primary                    |\t 56  |  EV Pricing (French)   |\t\t\t\n",
    "| 17  | NG PSI                         |\t 37  | E85 Blender Pump               |\t 57  |  LPG Nozzle Types       |\t\t\t\n",
    "| 18  | EV Level1 EVSE Num             |\t38  | EV Connector Types             |\t 58  |  Hydrogen Pressures   |\t\t\t\n",
    "| 19  | EV Level2 EVSE Num             |\t 39  | Country                        |\t 59  | Hydrogen Standards |\t\t\t\n",
    "| 20  | EV DC Fast Count               |\t 40  | Intersection Directions (French) \t| 60  |   CNG Fill Type Code           |\t\t\t\n",
    "\n",
    "\n"
   ]
  },
  {
   "cell_type": "code",
   "execution_count": 1,
   "metadata": {},
   "outputs": [],
   "source": [
    "import warnings\n",
    "warnings.simplefilter(action='ignore', category=Warning)"
   ]
  },
  {
   "cell_type": "code",
   "execution_count": 2,
   "metadata": {},
   "outputs": [],
   "source": [
    "import  pandas as pd \n",
    "pd.set_option(\"display.max_columns\",10 )"
   ]
  },
  {
   "cell_type": "code",
   "execution_count": 8,
   "metadata": {},
   "outputs": [
    {
     "data": {
      "text/html": [
       "<div>\n",
       "<style scoped>\n",
       "    .dataframe tbody tr th:only-of-type {\n",
       "        vertical-align: middle;\n",
       "    }\n",
       "\n",
       "    .dataframe tbody tr th {\n",
       "        vertical-align: top;\n",
       "    }\n",
       "\n",
       "    .dataframe thead th {\n",
       "        text-align: right;\n",
       "    }\n",
       "</style>\n",
       "<table border=\"1\" class=\"dataframe\">\n",
       "  <thead>\n",
       "    <tr style=\"text-align: right;\">\n",
       "      <th></th>\n",
       "      <th>Fuel Type Code</th>\n",
       "      <th>Station Name</th>\n",
       "      <th>Street Address</th>\n",
       "      <th>Intersection Directions</th>\n",
       "      <th>City</th>\n",
       "      <th>...</th>\n",
       "      <th>CNG PSI</th>\n",
       "      <th>CNG Vehicle Class</th>\n",
       "      <th>LNG Vehicle Class</th>\n",
       "      <th>EV On-Site Renewable Source</th>\n",
       "      <th>Restricted Access</th>\n",
       "    </tr>\n",
       "  </thead>\n",
       "  <tbody>\n",
       "    <tr>\n",
       "      <th>0</th>\n",
       "      <td>CNG</td>\n",
       "      <td>Spire - Montgomery Operations Center</td>\n",
       "      <td>2951 Chestnut St</td>\n",
       "      <td>NaN</td>\n",
       "      <td>Montgomery</td>\n",
       "      <td>...</td>\n",
       "      <td>3600</td>\n",
       "      <td>MD</td>\n",
       "      <td>NaN</td>\n",
       "      <td>NaN</td>\n",
       "      <td>NaN</td>\n",
       "    </tr>\n",
       "    <tr>\n",
       "      <th>1</th>\n",
       "      <td>CNG</td>\n",
       "      <td>PS Energy - Atlanta</td>\n",
       "      <td>340 Whitehall St</td>\n",
       "      <td>From I-7585 N, exit 91 to Central Ave, left on...</td>\n",
       "      <td>Atlanta</td>\n",
       "      <td>...</td>\n",
       "      <td>3600</td>\n",
       "      <td>MD</td>\n",
       "      <td>NaN</td>\n",
       "      <td>NaN</td>\n",
       "      <td>NaN</td>\n",
       "    </tr>\n",
       "    <tr>\n",
       "      <th>2</th>\n",
       "      <td>CNG</td>\n",
       "      <td>Metropolitan Atlanta Rapid Transit Authority</td>\n",
       "      <td>2424 Piedmont Rd NE</td>\n",
       "      <td>NaN</td>\n",
       "      <td>Atlanta</td>\n",
       "      <td>...</td>\n",
       "      <td>3000</td>\n",
       "      <td>LD</td>\n",
       "      <td>NaN</td>\n",
       "      <td>NaN</td>\n",
       "      <td>NaN</td>\n",
       "    </tr>\n",
       "    <tr>\n",
       "      <th>3</th>\n",
       "      <td>CNG</td>\n",
       "      <td>United Parcel Service</td>\n",
       "      <td>270 Marvin Miller Dr</td>\n",
       "      <td>NaN</td>\n",
       "      <td>Atlanta</td>\n",
       "      <td>...</td>\n",
       "      <td>3600</td>\n",
       "      <td>HD</td>\n",
       "      <td>NaN</td>\n",
       "      <td>NaN</td>\n",
       "      <td>NaN</td>\n",
       "    </tr>\n",
       "    <tr>\n",
       "      <th>4</th>\n",
       "      <td>CNG</td>\n",
       "      <td>Clean Energy - Texas Department of Transportation</td>\n",
       "      <td>7721A Washington St</td>\n",
       "      <td>I-10, Washington Ave exit, 1.5 blocks to the s...</td>\n",
       "      <td>Houston</td>\n",
       "      <td>...</td>\n",
       "      <td>3000 3600</td>\n",
       "      <td>MD</td>\n",
       "      <td>NaN</td>\n",
       "      <td>NaN</td>\n",
       "      <td>NaN</td>\n",
       "    </tr>\n",
       "  </tbody>\n",
       "</table>\n",
       "<p>5 rows × 65 columns</p>\n",
       "</div>"
      ],
      "text/plain": [
       "  Fuel Type Code                                       Station Name  \\\n",
       "0            CNG               Spire - Montgomery Operations Center   \n",
       "1            CNG                                PS Energy - Atlanta   \n",
       "2            CNG       Metropolitan Atlanta Rapid Transit Authority   \n",
       "3            CNG                              United Parcel Service   \n",
       "4            CNG  Clean Energy - Texas Department of Transportation   \n",
       "\n",
       "         Street Address                            Intersection Directions  \\\n",
       "0      2951 Chestnut St                                                NaN   \n",
       "1      340 Whitehall St  From I-7585 N, exit 91 to Central Ave, left on...   \n",
       "2   2424 Piedmont Rd NE                                                NaN   \n",
       "3  270 Marvin Miller Dr                                                NaN   \n",
       "4   7721A Washington St  I-10, Washington Ave exit, 1.5 blocks to the s...   \n",
       "\n",
       "         City  ...    CNG PSI CNG Vehicle Class  LNG Vehicle Class  \\\n",
       "0  Montgomery  ...       3600                MD                NaN   \n",
       "1     Atlanta  ...       3600                MD                NaN   \n",
       "2     Atlanta  ...       3000                LD                NaN   \n",
       "3     Atlanta  ...       3600                HD                NaN   \n",
       "4     Houston  ...  3000 3600                MD                NaN   \n",
       "\n",
       "  EV On-Site Renewable Source Restricted Access  \n",
       "0                         NaN               NaN  \n",
       "1                         NaN               NaN  \n",
       "2                         NaN               NaN  \n",
       "3                         NaN               NaN  \n",
       "4                         NaN               NaN  \n",
       "\n",
       "[5 rows x 65 columns]"
      ]
     },
     "execution_count": 8,
     "metadata": {},
     "output_type": "execute_result"
    }
   ],
   "source": [
    "import  pandas as pd \n",
    "ev_station = pd.read_csv('data/alt_fuel_stations.csv')\n",
    "ev_station.head(5)"
   ]
  },
  {
   "attachments": {},
   "cell_type": "markdown",
   "metadata": {},
   "source": [
    "| **Dataset Name** | Columns | Rows | URL |\n",
    "| --- | --- | --- | --- |\n",
    "|3- EV Population Data | 17 | 121,978 | [Data.gov](https://catalog.data.gov/dataset/electric-vehicle-population-data) |\n",
    "\n",
    " This dataset shows EV cars that are currently registered through Washington State Department of Licensing (DOL). Provides information about EV cars, car types, and registered locations. Location fields have to match with the format of the EV Charging dataset. There are some missing fields. Currently, I do not see any other issues related to this dataset.\n"
   ]
  },
  {
   "attachments": {},
   "cell_type": "markdown",
   "metadata": {},
   "source": [
    "| Index \t| Electric_Vehicle_Population                       \t|\n",
    "|-------\t|---------------------------------------------------\t|\n",
    "| 1     \t| VIN (1-10)                                         \t|\n",
    "| 2     \t| County                                            \t|\n",
    "| 3   \t| City                                              \t|\n",
    "| 4     \t| State                                             \t|\n",
    "| 5     \t| Postal Code                                       \t|\n",
    "| 6     \t| Model Year                                        \t|\n",
    "| 7     \t| Make                                              \t|\n",
    "| 8     \t| Model                                             \t|\n",
    "| 9   \t| Electric Vehicle Type                                \t|\n",
    "| 10   \t| Clean Alternative Fuel Vehicle (CAFV) Eligibility \t|\n",
    "| 11    \t| Electric Range                                    \t|\n",
    "| 12    \t| Base MSRP                                         \t|\n",
    "| 13   \t| Legislative District                              \t|\n",
    "| 14    \t| DOL Vehicle ID                                    \t|\n",
    "| 15    \t| Vehicle Location                                  \t|\n",
    "| 16   \t| Electric Utility                                  \t|\n",
    "| 17   \t| 2020 Census Tract                                 \t|"
   ]
  },
  {
   "cell_type": "code",
   "execution_count": 62,
   "metadata": {},
   "outputs": [
    {
     "data": {
      "text/html": [
       "<div>\n",
       "<style scoped>\n",
       "    .dataframe tbody tr th:only-of-type {\n",
       "        vertical-align: middle;\n",
       "    }\n",
       "\n",
       "    .dataframe tbody tr th {\n",
       "        vertical-align: top;\n",
       "    }\n",
       "\n",
       "    .dataframe thead th {\n",
       "        text-align: right;\n",
       "    }\n",
       "</style>\n",
       "<table border=\"1\" class=\"dataframe\">\n",
       "  <thead>\n",
       "    <tr style=\"text-align: right;\">\n",
       "      <th></th>\n",
       "      <th>VIN (1-10)</th>\n",
       "      <th>County</th>\n",
       "      <th>City</th>\n",
       "      <th>State</th>\n",
       "      <th>Postal Code</th>\n",
       "      <th>...</th>\n",
       "      <th>Legislative District</th>\n",
       "      <th>DOL Vehicle ID</th>\n",
       "      <th>Vehicle Location</th>\n",
       "      <th>Electric Utility</th>\n",
       "      <th>2020 Census Tract</th>\n",
       "    </tr>\n",
       "  </thead>\n",
       "  <tbody>\n",
       "    <tr>\n",
       "      <th>0</th>\n",
       "      <td>5YJ3E1EB2J</td>\n",
       "      <td>Suffolk</td>\n",
       "      <td>Suffolk</td>\n",
       "      <td>VA</td>\n",
       "      <td>23435.0</td>\n",
       "      <td>...</td>\n",
       "      <td>NaN</td>\n",
       "      <td>476647986</td>\n",
       "      <td>POINT (-76.42443 36.8752)</td>\n",
       "      <td>NaN</td>\n",
       "      <td>5.180008e+10</td>\n",
       "    </tr>\n",
       "    <tr>\n",
       "      <th>1</th>\n",
       "      <td>5YJ3E1ECXL</td>\n",
       "      <td>Yakima</td>\n",
       "      <td>Yakima</td>\n",
       "      <td>WA</td>\n",
       "      <td>98908.0</td>\n",
       "      <td>...</td>\n",
       "      <td>14.0</td>\n",
       "      <td>103490145</td>\n",
       "      <td>POINT (-120.56916 46.58514)</td>\n",
       "      <td>PACIFICORP</td>\n",
       "      <td>5.307700e+10</td>\n",
       "    </tr>\n",
       "    <tr>\n",
       "      <th>2</th>\n",
       "      <td>WA1LAAGE7M</td>\n",
       "      <td>Yakima</td>\n",
       "      <td>Yakima</td>\n",
       "      <td>WA</td>\n",
       "      <td>98908.0</td>\n",
       "      <td>...</td>\n",
       "      <td>14.0</td>\n",
       "      <td>144941534</td>\n",
       "      <td>POINT (-120.56916 46.58514)</td>\n",
       "      <td>PACIFICORP</td>\n",
       "      <td>5.307700e+10</td>\n",
       "    </tr>\n",
       "    <tr>\n",
       "      <th>3</th>\n",
       "      <td>5YJ3E1EA1K</td>\n",
       "      <td>Danville</td>\n",
       "      <td>Danville</td>\n",
       "      <td>VA</td>\n",
       "      <td>24541.0</td>\n",
       "      <td>...</td>\n",
       "      <td>NaN</td>\n",
       "      <td>168513922</td>\n",
       "      <td>POINT (-79.4172 36.58598)</td>\n",
       "      <td>NaN</td>\n",
       "      <td>5.159000e+10</td>\n",
       "    </tr>\n",
       "    <tr>\n",
       "      <th>4</th>\n",
       "      <td>1FADP5CU9E</td>\n",
       "      <td>Norfolk</td>\n",
       "      <td>Norfolk</td>\n",
       "      <td>VA</td>\n",
       "      <td>23518.0</td>\n",
       "      <td>...</td>\n",
       "      <td>NaN</td>\n",
       "      <td>150749378</td>\n",
       "      <td>POINT (-76.21549 36.92478)</td>\n",
       "      <td>NaN</td>\n",
       "      <td>5.171001e+10</td>\n",
       "    </tr>\n",
       "  </tbody>\n",
       "</table>\n",
       "<p>5 rows × 17 columns</p>\n",
       "</div>"
      ],
      "text/plain": [
       "   VIN (1-10)    County      City State  Postal Code  ...  \\\n",
       "0  5YJ3E1EB2J   Suffolk   Suffolk    VA      23435.0  ...   \n",
       "1  5YJ3E1ECXL    Yakima    Yakima    WA      98908.0  ...   \n",
       "2  WA1LAAGE7M    Yakima    Yakima    WA      98908.0  ...   \n",
       "3  5YJ3E1EA1K  Danville  Danville    VA      24541.0  ...   \n",
       "4  1FADP5CU9E   Norfolk   Norfolk    VA      23518.0  ...   \n",
       "\n",
       "   Legislative District DOL Vehicle ID             Vehicle Location  \\\n",
       "0                   NaN      476647986    POINT (-76.42443 36.8752)   \n",
       "1                  14.0      103490145  POINT (-120.56916 46.58514)   \n",
       "2                  14.0      144941534  POINT (-120.56916 46.58514)   \n",
       "3                   NaN      168513922    POINT (-79.4172 36.58598)   \n",
       "4                   NaN      150749378   POINT (-76.21549 36.92478)   \n",
       "\n",
       "  Electric Utility 2020 Census Tract  \n",
       "0              NaN      5.180008e+10  \n",
       "1       PACIFICORP      5.307700e+10  \n",
       "2       PACIFICORP      5.307700e+10  \n",
       "3              NaN      5.159000e+10  \n",
       "4              NaN      5.171001e+10  \n",
       "\n",
       "[5 rows x 17 columns]"
      ]
     },
     "execution_count": 62,
     "metadata": {},
     "output_type": "execute_result"
    }
   ],
   "source": [
    "ev_pop = pd.read_csv('data/Electric_Vehicle_Population_Data.csv')\n",
    "ev_pop.head(5)"
   ]
  },
  {
   "attachments": {},
   "cell_type": "markdown",
   "metadata": {},
   "source": [
    "| **Dataset Name** | Columns | Rows | URL |\n",
    "| --- | --- | --- | --- |\n",
    "| 4- Manufacture Location  | 6| 25 | extracted by online search |\n",
    "\n",
    "Provides information about EV cars. This dataset is clean, currently I do not see any issues.\n"
   ]
  },
  {
   "attachments": {},
   "cell_type": "markdown",
   "metadata": {},
   "source": [
    "| Index | Manufacture Location        | \n",
    "| :---: | --------------------------- | \n",
    "|   1   | company_name                |   \n",
    "|   2   | latitude                    |  \n",
    "|   3   | longitude                   | \n",
    "|   4   | city                        |  \n",
    "|   5   | state                       |  \n",
    "|   6   | country                     |  "
   ]
  },
  {
   "attachments": {},
   "cell_type": "markdown",
   "metadata": {},
   "source": [
    "# Part 4: Dimensions - Review the data and the business questions from part 2. "
   ]
  },
  {
   "attachments": {},
   "cell_type": "markdown",
   "metadata": {},
   "source": [
    "- **What fields (attributes) are in the data that will be used for the dimensions.**\n",
    "\n",
    "- **Determine the dimension tables.  There should be at least two non-date dimensions and one date dimension for each fact table.**\n",
    "\n",
    "- **At least one (non-date) dimension in your design should have a hierarchy.**\n",
    "\n",
    "- **What are the attributes that will be tracked via slowly changing dimensions?**\n",
    "\n",
    "- **What attributes within the dimensions will need transformation before they are loaded into the dimension, for example it could be to build consistency or any other issues?  This is where for example you might build case statements in your code to handle various scenarios.  Two to three examples showing some sample data and what you think the transformation will be during your ETL would be helpful here.**\n",
    "\n"
   ]
  },
  {
   "attachments": {},
   "cell_type": "markdown",
   "metadata": {},
   "source": [
    "1-Table Name : ev-car-population<br>\n",
    "Table Attributes: <br>\n",
    "PK DOL Vehicle-Id<br>\n",
    "SK Car-Pop-Id<br>\n",
    "FK  location-id<br>\n",
    "FK  EV-Charg-Stat-Rec-Date<br>\n",
    "Make<br>\n",
    "Model<br>\n",
    "Model-Year<br>\n",
    "Electric-Vehicle-Type<br>\n",
    "Status-Flag<br>\n",
    "Status-DeAct-TimeStamp<br>\n",
    "SCD TypeInfo: SCD type 2. if a car no longer exists we can check the status and check deactivation date, we can track the record date. and sk help us track the history<br>\n",
    "SCD Tracked Attributes : <br>\n",
    "SK CAR-POP-ID<br>\n",
    "Status-Flag<br>\n",
    "Status-DeAct-TimeStamp<br>\n",
    "Transform Needed  Attributes:<br>\n",
    "Loc-ID:Location Id  Not exist this will be latitude and longitude concatenation<br>\n",
    "EV-Charge-State-Rec-Date, The data creation date mentioned in the source but not included in the csv file, I will need to insert this data<br>\n",
    "Status-Flag: I will need to insert this date based on other columns info<br>\n",
    "Status-DeAct-Timestamp: I will need to insert this date based on other columns info<br>"
   ]
  },
  {
   "attachments": {},
   "cell_type": "markdown",
   "metadata": {},
   "source": [
    "2-Table Name : EV Charging Station<br>\n",
    "Table Attributes: <br>\n",
    "PK  Id<br>\n",
    "SK  Charging_Stat_ID<br>\n",
    "fk location-ID<br>\n",
    "Location-ID<br>\n",
    "EV-Charg-Stat-Rec-Date<br>\n",
    "Station Name<br>\n",
    "Updated At<br>\n",
    "Date Last Confirmed<br>\n",
    "Updated At<br>\n",
    "SCD TypeInfo: SCD type 2. if a charging station has been updated. Updated at field allow us to track we also created sk to track history.<br>\n",
    "SCD Tracked Attributes : <br>\n",
    "SK Charging_Stat_ID<br>\n",
    "Updated-At<br>\n",
    "Transform Needed  Attributes:<br>\n",
    "We need to create surrogate key<br>\n"
   ]
  },
  {
   "attachments": {},
   "cell_type": "markdown",
   "metadata": {},
   "source": [
    "3-Table Name : Location Dimension Table <br>\n",
    "We can implement a hierarchy in this table in between country,state,city <br>\n",
    "Table Attributes: <br>\n",
    "PK location-ID<br>\n",
    "City<br>\n",
    "State<br>\n",
    "ZIP<br>\n",
    "Latitude<br>\n",
    "Longitude<br>\n",
    "Latitude-prev<br>\n",
    " Longitude-prev<br>\n",
    "SCD TypeInfo: SCD type 3. We have prev attributes for lat and long<br>\n",
    "SCD Tracked Attributes : <br>\n",
    "SK Charging_Stat_ID<br>\n",
    "Updated-At<br>"
   ]
  },
  {
   "attachments": {},
   "cell_type": "markdown",
   "metadata": {},
   "source": [
    "4-Table Name : manufacturer <br>\n",
    "PK  Manufacture-ID<br>\n",
    "SK  sk-manufacture<br>\n",
    "manufacturer-name<br>\n",
    "manu-status-flag(scd)<br>\n",
    "Vendor_since (scd)<br>\n",
    " manu-updated-at(scd)<br>\n",
    "SCD Tracked Attributes : <br>\n",
    "vendor since (I am not sure about this one, I will do a research on this one to see if I will need to track in the time dimension instead)<br>\n",
    "manu-updated-at(scd)<br>\n",
    "manu-status-flag(scd)<br>\n",
    "SCD TypeInfo: SCD type 2. <br>\n",
    "SCD Tracked Attributes : <br>\n",
    "SK Charging_Stat_ID<br>\n",
    "manu-updated-at-At<br>\n",
    "Transform Needed  Attributes:\n",
    "we are missing vendor since and updated at we need to add those data also transform data from pdf format"
   ]
  },
  {
   "attachments": {},
   "cell_type": "markdown",
   "metadata": {},
   "source": [
    "5- Table Name :Product <br>\n",
    "Table Attributes: <br>\n",
    "pk   product-ID<br>\n",
    "SK   SK-product<br>\n",
    "product-name<br>\n",
    "product-description<br>\n",
    "Product-category<br>\n",
    "product-status-flag(scd)<br>\n",
    "product-updated-at(scd)<br>\n",
    "SCD Tracked Attributes : <br>\n",
    "product-status-flag(scd)<br>\n",
    "product-updated-at(scd)<br>\n",
    "Transform Needed  Attributes:<br>\n",
    "we need to bring all the values from the pdf and make sure that they are in the correct format. <br>"
   ]
  },
  {
   "attachments": {},
   "cell_type": "markdown",
   "metadata": {},
   "source": [
    "6-Table Name : manufacturer-product-time <br>\n",
    "PK  man-product-time-id <br>\n",
    "  man-product-release-date <br>\n",
    "  man-product-discontinuation_date <br>\n",
    "\n",
    "SCD Tracked Attributes : \n",
    "None \n",
    "SCD TypeInfo: SCD type 1. \n",
    "SCD Tracked Attributes : None\n",
    "Transform Needed  Attributes: CWe need to populate this fields "
   ]
  },
  {
   "attachments": {},
   "cell_type": "markdown",
   "metadata": {},
   "source": [
    "# Part  5: Facts – Review the data and the business questions from step 1.\n",
    "***What measurements are in the data that will be used for the fact tables?***<br>\n",
    "***What measures will you be calculating (i.e. using an aggregate function, or some other transformation – recall as an example some of the aggregation you did in assignment 1A)***\n"
   ]
  },
  {
   "attachments": {},
   "cell_type": "markdown",
   "metadata": {},
   "source": [
    "EV Charging Station Usage: Calculating number of cars and stations to measure, it can also calculate average price per location etc\n",
    "manufacture-facts:  This table is keeping track of manufacturers and manufacturer products that the company sells. The measurements are weight,price"
   ]
  },
  {
   "attachments": {},
   "cell_type": "markdown",
   "metadata": {},
   "source": [
    "| **Table Name :1-ev-car-population**\t|\n",
    "|---\t      |\n",
    "|  **Table Attributes:**\t|\n",
    "|---\t      |\n",
    "| **PK** DOL Vehicle-Id \t|\n",
    "| **SK** Car-Pop-Id \t|\n",
    "| **FK** location-id \t|\n",
    "| **FK** EV-Charg-Stat-Rec-Date \t|\n",
    "| Make \t|\n",
    "| Model \t|\n",
    "| Model-Year \t|\n",
    "| Electric-Vehicle-Type \t|\n",
    "| Status-Flag \t|\n",
    "| Status-DeAct-TimeStamp \t|"
   ]
  },
  {
   "attachments": {},
   "cell_type": "markdown",
   "metadata": {},
   "source": [
    "| **SCD TypeInfo:**  \t|\n",
    "|---\t|\n",
    "|  SCD type 2. if a car no longer exists we can check the status and check deactivation date, we can track the record date. and sk help us track the history \t|"
   ]
  },
  {
   "attachments": {},
   "cell_type": "markdown",
   "metadata": {},
   "source": [
    "| **SCD Tracked Attributes** : \t|\n",
    "|---\t|\n",
    "| SK CAR-POP-ID \t|\n",
    "| Status-Flag \t|\n",
    "| Status-DeAct-TimeStamp \t|"
   ]
  },
  {
   "attachments": {},
   "cell_type": "markdown",
   "metadata": {},
   "source": [
    "| **Transform Needed Attributes**: \t|\n",
    "|---\t|\n",
    "| **Loc-ID**:Location Id Not exist this will be latitude and longitude concatenation \t|\n",
    "| **EV-Charge-State-Rec-Date**, The data creation date mentioned in the source but not included in the csv file, I will need to insert this data \t|\n",
    "| **Status-Flag**: I will need to insert this date based on other columns info \t|\n",
    "| **Status-DeAct-Timestamp**: I will need to insert this date based on other columns info \t|"
   ]
  },
  {
   "attachments": {},
   "cell_type": "markdown",
   "metadata": {},
   "source": [
    "# Part 7: Provide code and screenshots of loading your data into staging/data frame"
   ]
  },
  {
   "attachments": {},
   "cell_type": "markdown",
   "metadata": {},
   "source": [
    "# Part 8: Provide code and screenshots of transforming the data.  Perhaps you are adjusting for consistency of data or calculating aggregates."
   ]
  },
  {
   "attachments": {},
   "cell_type": "markdown",
   "metadata": {},
   "source": [
    "# Part 9: Provide code and screenshots of loading the data into the two dimensions and the fact.  At this time, you do not need to worry about maintenance of slowly changing dimensions, the focus is on the initial data load.  If you are loading into SCD2 or SCD3, make sure to show the SCD maintenance attributes populated."
   ]
  },
  {
   "attachments": {},
   "cell_type": "markdown",
   "metadata": {},
   "source": [
    "For part 7, 8 9: This week I worked on extracting data from EV West pdf documents.<br>\n",
    "Extract :  First I have extract all the pdfs and saved as a csv files and later I combined them as a big csv <br>\n",
    "Transform : I have transformed data so that it has all the attributes. <br>\n",
    "Load : I have created three dimention table and one fact table for this dataset. \n",
    "I am only missing a location dimention to complete this fact table"
   ]
  }
 ],
 "metadata": {
  "kernelspec": {
   "display_name": "Python 3",
   "language": "python",
   "name": "python3"
  },
  "language_info": {
   "codemirror_mode": {
    "name": "ipython",
    "version": 3
   },
   "file_extension": ".py",
   "mimetype": "text/x-python",
   "name": "python",
   "nbconvert_exporter": "python",
   "pygments_lexer": "ipython3",
   "version": "3.10.6"
  },
  "orig_nbformat": 4
 },
 "nbformat": 4,
 "nbformat_minor": 2
}
