{
 "cells": [
  {
   "attachments": {},
   "cell_type": "markdown",
   "metadata": {},
   "source": [
    "# Part 1: Are you working on your own or with a partner?  If with a partner provide their name.  If on your own, just state that this is the case.\n"
   ]
  },
  {
   "attachments": {},
   "cell_type": "markdown",
   "metadata": {},
   "source": [
    "I am working alone in this project "
   ]
  },
  {
   "attachments": {},
   "cell_type": "markdown",
   "metadata": {},
   "source": [
    "# Part 2: Determine the project scope \n",
    "\n",
    "*  **In a short paragraph, describe the topic you wish to explore --an update if any**\n",
    "*  **Update the five business questions that your data warehouse will answer.**"
   ]
  },
  {
   "attachments": {},
   "cell_type": "markdown",
   "metadata": {},
   "source": [
    "*I haved added the project objective part*"
   ]
  },
  {
   "attachments": {},
   "cell_type": "markdown",
   "metadata": {},
   "source": [
    "**Project Description**\n",
    "The topic I wish to explore for my data warehouse project is the management of Parts Unlimited's EV parts business. This topic was inspired by \"The Unicorn Project,\" which describes the challenges and opportunities of digital transformation in a large organization. Specifically, I plan to focus on storing and analyzing data related to charging stations, EV products, customer purchases, and geographic location. Parts Unlimited already sells EV parts, and my goal is to improve the organization's data management, reporting, and analysis capabilities related to this business.\n",
    "\n",
    "**Project Objective**\n",
    "The primary objective of this project is to create a concept data warehouse project using a slowly changing dimension approach. I will identify the business requirements by formulating specific business questions that the data warehouse will help answer. Based on these requirements, I will develop a consolidated ERD schema for the data warehouse.\n",
    "\n",
    "I will focus on storing and analyzing data related to EV charging stations, product information, customer purchases, and geographic location. To accomplish this, I will use a slowly changing dimension approach to ensure that data is properly tracked over time. Specifically, I will use SCD Type 2 to track changes to the customer's location, SCD Type 3 to track changes to the EV product information, and SCD Type 1 to track changes to the charging station information.\n",
    "\n",
    "Finally, I will use Tableau and Postgres SQL to create reports that will help the business make data-driven decisions based on the data stored in the data warehouse. By using a consolidated ERD schema and slowly changing dimensions, I will ensure that the data warehouse accurately reflects the business needs and can be used to provide valuable insights to the organization."
   ]
  },
  {
   "attachments": {},
   "cell_type": "markdown",
   "metadata": {},
   "source": [
    "**Business Questions:**"
   ]
  },
  {
   "attachments": {},
   "cell_type": "markdown",
   "metadata": {},
   "source": [
    "| **Business Question 1**|\n",
    "| --- |\n",
    "| Is there a correlation between the number of EV charging stations in a particular area, the number of EV cars registered in that area, and the time period in which they were registered? And if so, how can we use this information to optimize our expansion strategy and better serve our customers over time? |\n"
   ]
  },
  {
   "attachments": {},
   "cell_type": "markdown",
   "metadata": {},
   "source": [
    "Parts Unlimited Business Development team is interested in using this information to plan and prioritize their expansion strategy for EV parts and charging station installations. The marketing team can use this information to tailor their marketing campaigns and promotions to specific regions. "
   ]
  },
  {
   "attachments": {},
   "cell_type": "markdown",
   "metadata": {},
   "source": [
    "| **Business Question 2** |\n",
    "| --- |\n",
    "| What is the currento range of EV parts manufacturers and their product offerings that Parts Unlimited is working with, and how can this information be leveraged to optimize their product mix and pricing strategy for increased revenue in the growing EV market? Additionally, how has this range of manufacturers and their product offerings evolved over time, and what trends can be identified for future business planning?|"
   ]
  },
  {
   "attachments": {},
   "cell_type": "markdown",
   "metadata": {},
   "source": [
    "Purchasing team is interested in this question , they are responsible for sourcing and procuring products for Parts Unlimited, including EV parts from different manufacturers. By understanding the current range of EV parts manufacturers and their product offerings, the Procurement department can make informed decisions about which manufacturers to work with, what products to stock, and how to optimize their product mix and pricing strategy for increased revenue in the growing EV market"
   ]
  },
  {
   "attachments": {},
   "cell_type": "markdown",
   "metadata": {},
   "source": [
    "| **Business Question Q3** |\n",
    "| --- |\n",
    "| How does the popularity of different EV models and electric vehichle types vary by geographic region, and how can Parts Unlimited use this information to target their marketing and sales efforts?|\n",
    "\n"
   ]
  },
  {
   "attachments": {},
   "cell_type": "markdown",
   "metadata": {},
   "source": [
    "The marketing and sales department in Parts Unlimited can use the information to target their efforts more effectively. For example, if a certain geographic region shows a higher preference for a particular EV model or plug type, the marketing and sales team can focus their promotional activities and campaigns in that region to increase sales. They can also use this information to tailor their messaging and product offerings to better meet the needs and preferences of customers in each region."
   ]
  },
  {
   "attachments": {},
   "cell_type": "markdown",
   "metadata": {},
   "source": [
    "|**Business Question Q4** |\n",
    "| --- |\n",
    "| What is the relationship between the location and price of existing EV charging stations over time, and how can this information be used to determine the feasibility of adding new charging stations in the vicinity of Parts Unlimited's stores in partnership with companies like Tesla? Additionally, how can this information be leveraged to increase revenue and customer convenience?|"
   ]
  },
  {
   "attachments": {},
   "cell_type": "markdown",
   "metadata": {},
   "source": [
    "Parts Unlimited is considering providing EV charging stations as a new service. Therefore the Research and Development team can determine  if there is a relationship between price and location. This information can provide insights into the cost and demand for EV charging stations in different locations and inform the decision on where to install new stations."
   ]
  },
  {
   "attachments": {},
   "cell_type": "markdown",
   "metadata": {},
   "source": [
    "|**Business Question Q5** |\n",
    "| --- |\n",
    "|What are the top five manufacturers by percentage of products sold by Parts Unlimited, and where are these companies located?|"
   ]
  },
  {
   "attachments": {},
   "cell_type": "markdown",
   "metadata": {},
   "source": [
    "The Supply Chain department at Parts Unlimited can utilize this information to determine the percentage of products supplied by each manufacturer, as well as their respective locations. This can enable the department to better manage logistics and distribution of the products, while also ensuring compliance with any legal requirements related to supply chain operation"
   ]
  },
  {
   "attachments": {},
   "cell_type": "markdown",
   "metadata": {},
   "source": [
    "# Part 3: Data Sources\n",
    "***Provide two data sources you will be using, for each data source list the number or columns and rows that are in each data source.  Provide a header and first 5 rows from each source.***\n",
    "- What is the URL or location of the data?\n",
    "- What information does this data provide that will help answer one or more of the above questions?\n",
    "- Do you see any issues in the data that will require transformation."
   ]
  },
  {
   "attachments": {},
   "cell_type": "markdown",
   "metadata": {},
   "source": [
    "| **Dataset Name** | Columns | Rows | URL |\n",
    "| --- | --- | --- | --- |\n",
    "| 1-Product Info - EV West | 5 | 50 | [EV West](https://www.evwest.com/catalog/index.php?cPath=4&osCsid=55f0661764899b07540a29eff0700422)|\n",
    "\n",
    "The data set provides information about EV parts, manufacturer, weight and price information. The data is not available in the PDF version and requires a Python script to extract and format the information.\n"
   ]
  },
  {
   "attachments": {},
   "cell_type": "markdown",
   "metadata": {},
   "source": [
    "![EvWest](figures/evWest.png)"
   ]
  },
  {
   "attachments": {},
   "cell_type": "markdown",
   "metadata": {},
   "source": [
    "| **Dataset Name** | Columns | Rows | URL |\n",
    "| --- | --- | --- | --- |\n",
    "| 2-Alternative Fueling Station Locations | 65 | 56,800 | [Data.gov](https://catalog.data.gov/dataset/alternative-fueling-station-locations-422f2/resource/341957d8-daf6-4a38-ab1d-8ec1bc21cfb9) |\n",
    "\n",
    "\n",
    "Provides information about the current list of charging stations and their locations. There are a lot of missing values that need to be cleaned and lat and long location info needs to be identical with the EV Car Population dataset. Price information is available in a text format and needs to be formatted so it is a number.\n"
   ]
  },
  {
   "attachments": {},
   "cell_type": "markdown",
   "metadata": {},
   "source": [
    "| Index | EV station Dataset Column Names | Index | EV Car Dataset Column Names | Index | EV station Dataset Column Names | Index | EV station Dataset Column Names | \n",
    "| :---: | --------------------------- | :---: | --------------------------- | :---: | --------------------------- |:---: | --------------------------- |\n",
    "| 1   | Fuel Type Code                 |\t21  | EV Other Info                  |\t 41  | Access Days Time (French)      |\t 61  | Intersection Directions (Russian) |\t\t\n",
    "| 2   | Station Name                   |\t22  | EV Network                     |\t 42  | BD Blends (French)             |\t 62  | Access Days Time (Russian)     |\t\t\n",
    "| 3   | Street Address                 |\t23  | EV Network Web                 |\t 43  | Groups With Access Code (French) \t| 63  | BD Blends (Russian)            |\t\t\n",
    "| 4   | Intersection Directions        |\t24  | Geocode Status                 |\t44  | Hydrogen Is Retail             |\t 64  | Groups With Access Code (Russian) |\t\t\n",
    "| 5   | City                           |\t25  | Latitude                       |45  | Hydrogen Status Link (French)  |\t65  | Hydrogen Status Link (Russian) |\t\t\n",
    "| 6   | State                          | 26  | Longitude                        |\t46  | NG Vehicle Class (French)      |\t\t\t\n",
    "| 7   | ZIP                            |\t 27  | Date Last Confirmed            |\t47  | LPG Primary (French)           |\t\t\t\n",
    "| 8   | Plus4                          |\t28  | ID                             |\t48  | E85 Blender Pump (French)      |\t\t\t\n",
    "| 9   | Station Phone                  |\t 29  | Updated At                     |\t49  | EV Connector Types (French)    |\t\t\t\n",
    "| 10  | Status Code                    |\t 30  | Owner Type Code                |\t 50  | Country (French)               |\t\t\t\n",
    "| 11  | Expected Date                  |\t 31  | Federal Agency ID              |\t51  | Intersection Directions (Spanish) |\t\t\t\n",
    "| 12  | Groups With Access Code        |\t 32  | Federal Agency Name            |\t52  | Access Days Time (Spanish)     |\t\t\t\n",
    "| 13  | Access Days Time               |\t33  | Open Date                      |\t 53  | BD Blends (Spanish)            |\t\t\t\n",
    "| 14  | Cards Accepted                 |\t 34  | Hydrogen Status Link           |\t54  | Groups With Access Code (Spanish) |\t\t\t\n",
    "| 15  | BD Blends                      |\t 35  | NG Vehicle Class               |\t55  | Hydrogen Status Link (Spanish) |\t\t\t\n",
    "| 16  | NG Fill Type Code              |\t 36  | LPG Primary                    |\t 56  | NG Vehicle Class (Spanish)     |\t\t\t\n",
    "| 17  | NG PSI                         |\t 37  | E85 Blender Pump               |\t 57  | LPG Primary (Spanish)          |\t\t\t\n",
    "| 18  | EV Level1 EVSE Num             |\t38  | EV Connector Types             |\t 58  | E85 Blender Pump (Spanish)     |\t\t\t\n",
    "| 19  | EV Level2 EVSE Num             |\t 39  | Country                        |\t 59  | EV Connector Types (Spanish)   |\t\t\t\n",
    "| 20  | EV DC Fast Count               |\t 40  | Intersection Directions (French) \t| 60  | Country (Spanish)              |\t\t\t\n",
    "\n",
    "\n"
   ]
  },
  {
   "cell_type": "code",
   "execution_count": null,
   "metadata": {},
   "outputs": [],
   "source": [
    "import warnings\n",
    "warnings.simplefilter(action='ignore', category=Warning)"
   ]
  },
  {
   "cell_type": "code",
   "execution_count": 64,
   "metadata": {},
   "outputs": [],
   "source": [
    "import  pandas as pd \n",
    "pd.set_option(\"display.max_columns\",10 )"
   ]
  },
  {
   "cell_type": "code",
   "execution_count": 52,
   "metadata": {},
   "outputs": [
    {
     "data": {
      "text/html": [
       "<div>\n",
       "<style scoped>\n",
       "    .dataframe tbody tr th:only-of-type {\n",
       "        vertical-align: middle;\n",
       "    }\n",
       "\n",
       "    .dataframe tbody tr th {\n",
       "        vertical-align: top;\n",
       "    }\n",
       "\n",
       "    .dataframe thead th {\n",
       "        text-align: right;\n",
       "    }\n",
       "</style>\n",
       "<table border=\"1\" class=\"dataframe\">\n",
       "  <thead>\n",
       "    <tr style=\"text-align: right;\">\n",
       "      <th></th>\n",
       "      <th>Fuel Type Code</th>\n",
       "      <th>Station Name</th>\n",
       "      <th>Street Address</th>\n",
       "      <th>Intersection Directions</th>\n",
       "      <th>City</th>\n",
       "      <th>...</th>\n",
       "      <th>CNG PSI</th>\n",
       "      <th>CNG Vehicle Class</th>\n",
       "      <th>LNG Vehicle Class</th>\n",
       "      <th>EV On-Site Renewable Source</th>\n",
       "      <th>Restricted Access</th>\n",
       "    </tr>\n",
       "  </thead>\n",
       "  <tbody>\n",
       "    <tr>\n",
       "      <th>0</th>\n",
       "      <td>CNG</td>\n",
       "      <td>Spire - Montgomery Operations Center</td>\n",
       "      <td>2951 Chestnut St</td>\n",
       "      <td>NaN</td>\n",
       "      <td>Montgomery</td>\n",
       "      <td>...</td>\n",
       "      <td>3600</td>\n",
       "      <td>MD</td>\n",
       "      <td>NaN</td>\n",
       "      <td>NaN</td>\n",
       "      <td>NaN</td>\n",
       "    </tr>\n",
       "    <tr>\n",
       "      <th>1</th>\n",
       "      <td>CNG</td>\n",
       "      <td>PS Energy - Atlanta</td>\n",
       "      <td>340 Whitehall St</td>\n",
       "      <td>From I-7585 N, exit 91 to Central Ave, left on...</td>\n",
       "      <td>Atlanta</td>\n",
       "      <td>...</td>\n",
       "      <td>3600</td>\n",
       "      <td>MD</td>\n",
       "      <td>NaN</td>\n",
       "      <td>NaN</td>\n",
       "      <td>NaN</td>\n",
       "    </tr>\n",
       "    <tr>\n",
       "      <th>2</th>\n",
       "      <td>CNG</td>\n",
       "      <td>Metropolitan Atlanta Rapid Transit Authority</td>\n",
       "      <td>2424 Piedmont Rd NE</td>\n",
       "      <td>NaN</td>\n",
       "      <td>Atlanta</td>\n",
       "      <td>...</td>\n",
       "      <td>3000</td>\n",
       "      <td>LD</td>\n",
       "      <td>NaN</td>\n",
       "      <td>NaN</td>\n",
       "      <td>NaN</td>\n",
       "    </tr>\n",
       "    <tr>\n",
       "      <th>3</th>\n",
       "      <td>CNG</td>\n",
       "      <td>United Parcel Service</td>\n",
       "      <td>270 Marvin Miller Dr</td>\n",
       "      <td>NaN</td>\n",
       "      <td>Atlanta</td>\n",
       "      <td>...</td>\n",
       "      <td>3600</td>\n",
       "      <td>HD</td>\n",
       "      <td>NaN</td>\n",
       "      <td>NaN</td>\n",
       "      <td>NaN</td>\n",
       "    </tr>\n",
       "    <tr>\n",
       "      <th>4</th>\n",
       "      <td>CNG</td>\n",
       "      <td>Clean Energy - Texas Department of Transportation</td>\n",
       "      <td>7721A Washington St</td>\n",
       "      <td>I-10, Washington Ave exit, 1.5 blocks to the s...</td>\n",
       "      <td>Houston</td>\n",
       "      <td>...</td>\n",
       "      <td>3000 3600</td>\n",
       "      <td>MD</td>\n",
       "      <td>NaN</td>\n",
       "      <td>NaN</td>\n",
       "      <td>NaN</td>\n",
       "    </tr>\n",
       "  </tbody>\n",
       "</table>\n",
       "<p>5 rows × 65 columns</p>\n",
       "</div>"
      ],
      "text/plain": [
       "  Fuel Type Code                                       Station Name  \\\n",
       "0            CNG               Spire - Montgomery Operations Center   \n",
       "1            CNG                                PS Energy - Atlanta   \n",
       "2            CNG       Metropolitan Atlanta Rapid Transit Authority   \n",
       "3            CNG                              United Parcel Service   \n",
       "4            CNG  Clean Energy - Texas Department of Transportation   \n",
       "\n",
       "         Street Address                            Intersection Directions  \\\n",
       "0      2951 Chestnut St                                                NaN   \n",
       "1      340 Whitehall St  From I-7585 N, exit 91 to Central Ave, left on...   \n",
       "2   2424 Piedmont Rd NE                                                NaN   \n",
       "3  270 Marvin Miller Dr                                                NaN   \n",
       "4   7721A Washington St  I-10, Washington Ave exit, 1.5 blocks to the s...   \n",
       "\n",
       "         City  ...    CNG PSI CNG Vehicle Class  LNG Vehicle Class  \\\n",
       "0  Montgomery  ...       3600                MD                NaN   \n",
       "1     Atlanta  ...       3600                MD                NaN   \n",
       "2     Atlanta  ...       3000                LD                NaN   \n",
       "3     Atlanta  ...       3600                HD                NaN   \n",
       "4     Houston  ...  3000 3600                MD                NaN   \n",
       "\n",
       "  EV On-Site Renewable Source Restricted Access  \n",
       "0                         NaN               NaN  \n",
       "1                         NaN               NaN  \n",
       "2                         NaN               NaN  \n",
       "3                         NaN               NaN  \n",
       "4                         NaN               NaN  \n",
       "\n",
       "[5 rows x 65 columns]"
      ]
     },
     "execution_count": 52,
     "metadata": {},
     "output_type": "execute_result"
    }
   ],
   "source": [
    "import  pandas as pd \n",
    "ev_station = pd.read_csv('data/alt_fuel_stations.csv')\n",
    "ev_station.head(5)"
   ]
  },
  {
   "attachments": {},
   "cell_type": "markdown",
   "metadata": {},
   "source": [
    "| **Dataset Name** | Columns | Rows | URL |\n",
    "| --- | --- | --- | --- |\n",
    "|3- EV Population Data | 17 | 121,978 | [Data.gov](https://catalog.data.gov/dataset/electric-vehicle-population-data) |\n",
    "\n",
    " This dataset shows EV cars that are currently registered through Washington State Department of Licensing (DOL). Provides information about EV cars, car types, and registered locations. Location fields have to match with the format of the EV Charging dataset. There are some missing fields. Currently, I do not see any other issues related to this dataset.\n"
   ]
  },
  {
   "attachments": {},
   "cell_type": "markdown",
   "metadata": {},
   "source": [
    "| Index \t| Electric_Vehicle_Population                       \t|\n",
    "|-------\t|---------------------------------------------------\t|\n",
    "| 1     \t| IN (1-10)                                         \t|\n",
    "| 2     \t| County                                            \t|\n",
    "| 3   \t| City                                              \t|\n",
    "| 4     \t| State                                             \t|\n",
    "| 5     \t| Postal Code                                       \t|\n",
    "| 6     \t| Model Year                                        \t|\n",
    "| 7     \t| Make                                              \t|\n",
    "| 8     \t| Model                                             \t|\n",
    "| 9   \t| ctric Vehicle Type                                \t|\n",
    "| 10   \t| Clean Alternative Fuel Vehicle (CAFV) Eligibility \t|\n",
    "| 11    \t| Electric Range                                    \t|\n",
    "| 12    \t| Base MSRP                                         \t|\n",
    "| 13   \t| Legislative District                              \t|\n",
    "| 14    \t| DOL Vehicle ID                                    \t|\n",
    "| 15    \t| Vehicle Location                                  \t|\n",
    "| 16   \t| Electric Utility                                  \t|\n",
    "| 17   \t| 2020 Census Tract                                 \t|"
   ]
  },
  {
   "cell_type": "code",
   "execution_count": 62,
   "metadata": {},
   "outputs": [
    {
     "data": {
      "text/html": [
       "<div>\n",
       "<style scoped>\n",
       "    .dataframe tbody tr th:only-of-type {\n",
       "        vertical-align: middle;\n",
       "    }\n",
       "\n",
       "    .dataframe tbody tr th {\n",
       "        vertical-align: top;\n",
       "    }\n",
       "\n",
       "    .dataframe thead th {\n",
       "        text-align: right;\n",
       "    }\n",
       "</style>\n",
       "<table border=\"1\" class=\"dataframe\">\n",
       "  <thead>\n",
       "    <tr style=\"text-align: right;\">\n",
       "      <th></th>\n",
       "      <th>VIN (1-10)</th>\n",
       "      <th>County</th>\n",
       "      <th>City</th>\n",
       "      <th>State</th>\n",
       "      <th>Postal Code</th>\n",
       "      <th>...</th>\n",
       "      <th>Legislative District</th>\n",
       "      <th>DOL Vehicle ID</th>\n",
       "      <th>Vehicle Location</th>\n",
       "      <th>Electric Utility</th>\n",
       "      <th>2020 Census Tract</th>\n",
       "    </tr>\n",
       "  </thead>\n",
       "  <tbody>\n",
       "    <tr>\n",
       "      <th>0</th>\n",
       "      <td>5YJ3E1EB2J</td>\n",
       "      <td>Suffolk</td>\n",
       "      <td>Suffolk</td>\n",
       "      <td>VA</td>\n",
       "      <td>23435.0</td>\n",
       "      <td>...</td>\n",
       "      <td>NaN</td>\n",
       "      <td>476647986</td>\n",
       "      <td>POINT (-76.42443 36.8752)</td>\n",
       "      <td>NaN</td>\n",
       "      <td>5.180008e+10</td>\n",
       "    </tr>\n",
       "    <tr>\n",
       "      <th>1</th>\n",
       "      <td>5YJ3E1ECXL</td>\n",
       "      <td>Yakima</td>\n",
       "      <td>Yakima</td>\n",
       "      <td>WA</td>\n",
       "      <td>98908.0</td>\n",
       "      <td>...</td>\n",
       "      <td>14.0</td>\n",
       "      <td>103490145</td>\n",
       "      <td>POINT (-120.56916 46.58514)</td>\n",
       "      <td>PACIFICORP</td>\n",
       "      <td>5.307700e+10</td>\n",
       "    </tr>\n",
       "    <tr>\n",
       "      <th>2</th>\n",
       "      <td>WA1LAAGE7M</td>\n",
       "      <td>Yakima</td>\n",
       "      <td>Yakima</td>\n",
       "      <td>WA</td>\n",
       "      <td>98908.0</td>\n",
       "      <td>...</td>\n",
       "      <td>14.0</td>\n",
       "      <td>144941534</td>\n",
       "      <td>POINT (-120.56916 46.58514)</td>\n",
       "      <td>PACIFICORP</td>\n",
       "      <td>5.307700e+10</td>\n",
       "    </tr>\n",
       "    <tr>\n",
       "      <th>3</th>\n",
       "      <td>5YJ3E1EA1K</td>\n",
       "      <td>Danville</td>\n",
       "      <td>Danville</td>\n",
       "      <td>VA</td>\n",
       "      <td>24541.0</td>\n",
       "      <td>...</td>\n",
       "      <td>NaN</td>\n",
       "      <td>168513922</td>\n",
       "      <td>POINT (-79.4172 36.58598)</td>\n",
       "      <td>NaN</td>\n",
       "      <td>5.159000e+10</td>\n",
       "    </tr>\n",
       "    <tr>\n",
       "      <th>4</th>\n",
       "      <td>1FADP5CU9E</td>\n",
       "      <td>Norfolk</td>\n",
       "      <td>Norfolk</td>\n",
       "      <td>VA</td>\n",
       "      <td>23518.0</td>\n",
       "      <td>...</td>\n",
       "      <td>NaN</td>\n",
       "      <td>150749378</td>\n",
       "      <td>POINT (-76.21549 36.92478)</td>\n",
       "      <td>NaN</td>\n",
       "      <td>5.171001e+10</td>\n",
       "    </tr>\n",
       "  </tbody>\n",
       "</table>\n",
       "<p>5 rows × 17 columns</p>\n",
       "</div>"
      ],
      "text/plain": [
       "   VIN (1-10)    County      City State  Postal Code  ...  \\\n",
       "0  5YJ3E1EB2J   Suffolk   Suffolk    VA      23435.0  ...   \n",
       "1  5YJ3E1ECXL    Yakima    Yakima    WA      98908.0  ...   \n",
       "2  WA1LAAGE7M    Yakima    Yakima    WA      98908.0  ...   \n",
       "3  5YJ3E1EA1K  Danville  Danville    VA      24541.0  ...   \n",
       "4  1FADP5CU9E   Norfolk   Norfolk    VA      23518.0  ...   \n",
       "\n",
       "   Legislative District DOL Vehicle ID             Vehicle Location  \\\n",
       "0                   NaN      476647986    POINT (-76.42443 36.8752)   \n",
       "1                  14.0      103490145  POINT (-120.56916 46.58514)   \n",
       "2                  14.0      144941534  POINT (-120.56916 46.58514)   \n",
       "3                   NaN      168513922    POINT (-79.4172 36.58598)   \n",
       "4                   NaN      150749378   POINT (-76.21549 36.92478)   \n",
       "\n",
       "  Electric Utility 2020 Census Tract  \n",
       "0              NaN      5.180008e+10  \n",
       "1       PACIFICORP      5.307700e+10  \n",
       "2       PACIFICORP      5.307700e+10  \n",
       "3              NaN      5.159000e+10  \n",
       "4              NaN      5.171001e+10  \n",
       "\n",
       "[5 rows x 17 columns]"
      ]
     },
     "execution_count": 62,
     "metadata": {},
     "output_type": "execute_result"
    }
   ],
   "source": [
    "ev_pop = pd.read_csv('data/Electric_Vehicle_Population_Data.csv')\n",
    "ev_pop.head(5)"
   ]
  },
  {
   "attachments": {},
   "cell_type": "markdown",
   "metadata": {},
   "source": [
    "| **Dataset Name** | Columns | Rows | URL |\n",
    "| --- | --- | --- | --- |\n",
    "| 4- Manufacture Location  | 14 | 103 | [Kaggle](https://www.kaggle.com/datasets/geoffnel/evs-one-electric-vehicle-dataset?select=ElectricCarData_Norm.csv) |\n",
    "\n",
    "Provides information about EV car and models and charging plug types. This dataset is clean, currently I do not see any issues.\n"
   ]
  },
  {
   "attachments": {},
   "cell_type": "markdown",
   "metadata": {},
   "source": [
    "| Index | EV Car Dataset Column Names | Index | EV Car Dataset Column Names |\n",
    "| :---: | --------------------------- | :---: | --------------------------- |\n",
    "|   1   | Brand                       |   9   | PowerTrain                  |\n",
    "|   2   | Model                       |  10   | PlugType                    |\n",
    "|   3   | AccelSec                    |  11   | BodyStyle                   |\n",
    "|   4   | TopSpeed_KmH                |  12   | Segment                     |\n",
    "|   5   | Range_Km                    |  13   | Seats                       |\n",
    "|   6   | Efficiency_WhKm             |  14   | PriceEuro                   |\n",
    "|   7   | FastCharge_KmH              |       |                             |\n",
    "|   8   | RapidCharge                 |       |                             |"
   ]
  },
  {
   "attachments": {},
   "cell_type": "markdown",
   "metadata": {},
   "source": [
    "# Part 4: Dimensions - Review the data and the business questions from part 2. "
   ]
  },
  {
   "attachments": {},
   "cell_type": "markdown",
   "metadata": {},
   "source": [
    "- **What fields (attributes) are in the data that will be used for the dimensions.**\n",
    "\n",
    "- **Determine the dimension tables.  There should be at least two non-date dimensions and one date dimension for each fact table.**\n",
    "\n",
    "- **At least one (non-date) dimension in your design should have a hierarchy.**\n",
    "\n",
    "- **What are the attributes that will be tracked via slowly changing dimensions?**\n",
    "\n",
    "- **What attributes within the dimensions will need transformation before they are loaded into the dimension, for example it could be to build consistency or any other issues?  This is where for example you might build case statements in your code to handle various scenarios.  Two to three examples showing some sample data and what you think the transformation will be during your ETL would be helpful here.**\n",
    "\n"
   ]
  },
  {
   "attachments": {},
   "cell_type": "markdown",
   "metadata": {},
   "source": [
    "| **Table Name :1-ev-car-population**\t|\n",
    "|---\t      |\n",
    "|  **Table Attributes:**\t|\n",
    "|---\t      |\n",
    "| **PK** DOL Vehicle-Id \t|\n",
    "| **SK** Car-Pop-Id \t|\n",
    "| **FK** location-id \t|\n",
    "| **FK** EV-Charg-Stat-Rec-Date \t|\n",
    "| Make \t|\n",
    "| Model \t|\n",
    "| Model-Year \t|\n",
    "| Electric-Vehicle-Type \t|\n",
    "| Status-Flag \t|\n",
    "| Status-DeAct-TimeStamp \t|"
   ]
  },
  {
   "attachments": {},
   "cell_type": "markdown",
   "metadata": {},
   "source": [
    "| **SCD TypeInfo:**  \t|\n",
    "|---\t|\n",
    "|  SCD type 2. if a car no longer exists we can check the status and check deactivation date, we can track the record date. and sk help us track the history \t|"
   ]
  },
  {
   "attachments": {},
   "cell_type": "markdown",
   "metadata": {},
   "source": [
    "| **SCD Tracked Attributes** : \t|\n",
    "|---\t|\n",
    "| SK CAR-POP-ID \t|\n",
    "| Status-Flag \t|\n",
    "| Status-DeAct-TimeStamp \t|"
   ]
  },
  {
   "attachments": {},
   "cell_type": "markdown",
   "metadata": {},
   "source": [
    "| **Transform Needed Attributes**: \t|\n",
    "|---\t|\n",
    "| **Loc-ID**:Location Id Not exist this will be latitude and longitude concatenation \t|\n",
    "| **EV-Charge-State-Rec-Date**, The data creation date mentioned in the source but not included in the csv file, I will need to insert this data \t|\n",
    "| **Status-Flag**: I will need to insert this date based on other columns info \t|\n",
    "| **Status-DeAct-Timestamp**: I will need to insert this date based on other columns info \t|"
   ]
  }
 ],
 "metadata": {
  "kernelspec": {
   "display_name": "Python 3",
   "language": "python",
   "name": "python3"
  },
  "language_info": {
   "codemirror_mode": {
    "name": "ipython",
    "version": 3
   },
   "file_extension": ".py",
   "mimetype": "text/x-python",
   "name": "python",
   "nbconvert_exporter": "python",
   "pygments_lexer": "ipython3",
   "version": "3.10.6"
  },
  "orig_nbformat": 4
 },
 "nbformat": 4,
 "nbformat_minor": 2
}
